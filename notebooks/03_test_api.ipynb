{
 "cells": [
  {
   "cell_type": "code",
   "execution_count": 2,
   "id": "056b665a-7e5f-4d33-90aa-ba23bb56696f",
   "metadata": {},
   "outputs": [],
   "source": [
    "import requests\n",
    "import datetime\n",
    "\n",
    "API_URL = \"http://localhost:8000\"\n",
    "\n",
    "\n",
    "data = {\n",
    "    \"author\": \"fake author\",\n",
    "    \"date_published\": (datetime.datetime.utcnow() - datetime.timedelta(days=-7)).isoformat(),\n",
    "    \"section\": \"fake section\",\n",
    "    \"url\": \"http://fake_url.com\",\n",
    "    \"headline\": \"fake headline\",\n",
    "    \"source\": \"sport\",\n",
    "    \"keywords\": [\"fake\", \"keywords\"],\n",
    "    \"raw_text\": \"The UN is said to meet in New-York according to Donald Trump.\",\n",
    "}\n",
    "\n",
    "response = requests.post(url=f\"{API_URL}/data/articles\", json=data)\n"
   ]
  },
  {
   "cell_type": "code",
   "execution_count": 3,
   "id": "3b69de38-8979-4954-aac1-77cc568cc059",
   "metadata": {},
   "outputs": [
    {
     "data": {
      "text/plain": [
       "200"
      ]
     },
     "execution_count": 3,
     "metadata": {},
     "output_type": "execute_result"
    }
   ],
   "source": [
    "response.status_code"
   ]
  },
  {
   "cell_type": "code",
   "execution_count": 4,
   "id": "f0bf0d5b-5a0e-442d-a722-7bd4cd4764d4",
   "metadata": {},
   "outputs": [
    {
     "data": {
      "text/plain": [
       "{'author': 'fake author',\n",
       " 'date_published': '2022-10-12T15:56:36.228000',\n",
       " 'section': 'fake section',\n",
       " 'url': 'http://fake_url.com',\n",
       " 'headline': 'fake headline',\n",
       " 'keywords': ['fake', 'keywords'],\n",
       " 'raw_text': 'The UN is said to meet in New-York according to Donald Trump.',\n",
       " 'source': 'sport',\n",
       " 'object_id': '633da93451ee547b0f8c5553',\n",
       " 'hash': 445467436438616001,\n",
       " 'automatic_anonymized_text': '...',\n",
       " 'anonymized_text': '...',\n",
       " 'events': [{'type': 'insertion',\n",
       "   'author': 'paul_dechorgnat',\n",
       "   'date': '2022-10-05T15:56:36.235000',\n",
       "   'mode': 'single'}],\n",
       " 'auto_anonymized_tags': [],\n",
       " 'manual_anonymized_tags': []}"
      ]
     },
     "execution_count": 4,
     "metadata": {},
     "output_type": "execute_result"
    }
   ],
   "source": [
    "response.json()"
   ]
  },
  {
   "cell_type": "code",
   "execution_count": null,
   "id": "0e5a1f6f-8587-4dd7-b6d4-d8a88eda2da9",
   "metadata": {},
   "outputs": [],
   "source": []
  }
 ],
 "metadata": {
  "kernelspec": {
   "display_name": "Python 3 (ipykernel)",
   "language": "python",
   "name": "python3"
  },
  "language_info": {
   "codemirror_mode": {
    "name": "ipython",
    "version": 3
   },
   "file_extension": ".py",
   "mimetype": "text/x-python",
   "name": "python",
   "nbconvert_exporter": "python",
   "pygments_lexer": "ipython3",
   "version": "3.8.10"
  }
 },
 "nbformat": 4,
 "nbformat_minor": 5
}
