{
 "cells": [
  {
   "cell_type": "markdown",
   "id": "5a135de2-9158-4236-bd4a-0d4dbf89f83e",
   "metadata": {},
   "source": [
    "# Functions to interact with MongoDB\n"
   ]
  },
  {
   "cell_type": "markdown",
   "id": "98d8f64c-8b0a-46bc-9063-d38cf1016f73",
   "metadata": {},
   "source": [
    "## 1. Setting up mongo container"
   ]
  },
  {
   "cell_type": "code",
   "execution_count": 9,
   "id": "34eb9770-2da5-4532-8065-f8880ff24383",
   "metadata": {},
   "outputs": [
    {
     "name": "stdout",
     "output_type": "stream",
     "text": [
      "bc6b1b50cf4e0425643a493558bb395c96ab5e837101a0e092c1b7d92635b6ff\n"
     ]
    }
   ],
   "source": [
    "! docker container run --name my_mongo -d --rm -v `pwd`/../mongo_docker/data:/data/db -p 27017:27017 mongo:latest"
   ]
  },
  {
   "cell_type": "code",
   "execution_count": 10,
   "id": "64667da1-8990-4447-bfb9-93b913ebd5b3",
   "metadata": {},
   "outputs": [
    {
     "name": "stdout",
     "output_type": "stream",
     "text": [
      "CONTAINER ID        IMAGE               COMMAND                  CREATED             STATUS              PORTS                      NAMES\n",
      "bc6b1b50cf4e        mongo:latest        \"docker-entrypoint.s…\"   3 seconds ago       Up 2 seconds        0.0.0.0:27017->27017/tcp   my_mongo\n",
      "d0f0d3339ddd        a1dd85df1762        \"python -m uvicorn a…\"   About an hour ago   Up About an hour    0.0.0.0:8000->8000/tcp     adoring_nightingale\n"
     ]
    }
   ],
   "source": [
    "! docker container ls "
   ]
  },
  {
   "cell_type": "markdown",
   "id": "43abfcc9-a34c-4a7b-98db-86786a8373b8",
   "metadata": {},
   "source": [
    "## 2. Connection with Pymongo"
   ]
  },
  {
   "cell_type": "code",
   "execution_count": 11,
   "id": "9ff6e5c3-5718-4ff5-82bd-2d53b4e4ee18",
   "metadata": {},
   "outputs": [],
   "source": [
    "from pymongo import MongoClient\n",
    "\n",
    "client = MongoClient(host=\"mongodb://localhost:27017\")"
   ]
  },
  {
   "cell_type": "code",
   "execution_count": 12,
   "id": "5c294c24-69dd-43ac-ad71-5125512f7856",
   "metadata": {},
   "outputs": [
    {
     "data": {
      "text/plain": [
       "['admin', 'config', 'local', 'test']"
      ]
     },
     "execution_count": 12,
     "metadata": {},
     "output_type": "execute_result"
    }
   ],
   "source": [
    "client.list_database_names()"
   ]
  },
  {
   "cell_type": "code",
   "execution_count": 116,
   "id": "3f1ee056-8d9d-485b-b733-d2d37c26b9b4",
   "metadata": {},
   "outputs": [
    {
     "data": {
      "text/plain": [
       "['my_collection']"
      ]
     },
     "execution_count": 116,
     "metadata": {},
     "output_type": "execute_result"
    }
   ],
   "source": [
    "client[\"test\"].list_collection_names()"
   ]
  },
  {
   "cell_type": "code",
   "execution_count": 117,
   "id": "66c3d723-c154-427a-b779-c25d53a78c9f",
   "metadata": {},
   "outputs": [
    {
     "name": "stdout",
     "output_type": "stream",
     "text": [
      "4\n",
      "{'_id': ObjectId('633c583217bb780a9c10ebc4')}\n"
     ]
    }
   ],
   "source": [
    "col = client[\"test\"][\"my_collection\"]\n",
    "print(col.count_documents(filter={}))\n",
    "print(col.find_one())"
   ]
  },
  {
   "cell_type": "markdown",
   "id": "20b30bea-6e4e-448c-9d58-4a2ee3c92e3e",
   "metadata": {},
   "source": [
    "## 3. Exploring data"
   ]
  },
  {
   "cell_type": "code",
   "execution_count": 20,
   "id": "f73e9d9a-75e3-4347-934a-28de1388a32a",
   "metadata": {},
   "outputs": [
    {
     "data": {
      "text/html": [
       "<div>\n",
       "<style scoped>\n",
       "    .dataframe tbody tr th:only-of-type {\n",
       "        vertical-align: middle;\n",
       "    }\n",
       "\n",
       "    .dataframe tbody tr th {\n",
       "        vertical-align: top;\n",
       "    }\n",
       "\n",
       "    .dataframe thead th {\n",
       "        text-align: right;\n",
       "    }\n",
       "</style>\n",
       "<table border=\"1\" class=\"dataframe\">\n",
       "  <thead>\n",
       "    <tr style=\"text-align: right;\">\n",
       "      <th></th>\n",
       "      <th>Index</th>\n",
       "      <th>Author</th>\n",
       "      <th>Date published</th>\n",
       "      <th>Category</th>\n",
       "      <th>Section</th>\n",
       "      <th>Url</th>\n",
       "      <th>Headline</th>\n",
       "      <th>Description</th>\n",
       "      <th>Keywords</th>\n",
       "      <th>Second headline</th>\n",
       "      <th>Article text</th>\n",
       "    </tr>\n",
       "  </thead>\n",
       "  <tbody>\n",
       "    <tr>\n",
       "      <th>0</th>\n",
       "      <td>0</td>\n",
       "      <td>Jacopo Prisco, CNN</td>\n",
       "      <td>2021-07-15 02:46:59</td>\n",
       "      <td>news</td>\n",
       "      <td>world</td>\n",
       "      <td>https://www.cnn.com/2021/07/14/world/tusimple-...</td>\n",
       "      <td>There's a shortage of truckers, but TuSimple t...</td>\n",
       "      <td>The e-commerce boom has exacerbated a global t...</td>\n",
       "      <td>world, There's a shortage of truckers, but TuS...</td>\n",
       "      <td>There's a shortage of truckers, but TuSimple t...</td>\n",
       "      <td>(CNN)Right now, there's a shortage of truck d...</td>\n",
       "    </tr>\n",
       "    <tr>\n",
       "      <th>1</th>\n",
       "      <td>2</td>\n",
       "      <td>Stephanie Bailey, CNN</td>\n",
       "      <td>2021-05-12 07:52:09</td>\n",
       "      <td>news</td>\n",
       "      <td>world</td>\n",
       "      <td>https://www.cnn.com/2021/05/12/world/ironhand-...</td>\n",
       "      <td>Bioservo's robotic 'Ironhand' could protect fa...</td>\n",
       "      <td>Working in a factory can mean doing the same t...</td>\n",
       "      <td>world, Bioservo's robotic 'Ironhand' could pro...</td>\n",
       "      <td>A robotic 'Ironhand' could protect factory wor...</td>\n",
       "      <td>(CNN)Working in a factory or warehouse can me...</td>\n",
       "    </tr>\n",
       "    <tr>\n",
       "      <th>2</th>\n",
       "      <td>3</td>\n",
       "      <td>Words by Stephanie Bailey, video by Zahra Jamshed</td>\n",
       "      <td>2021-06-16 02:51:30</td>\n",
       "      <td>news</td>\n",
       "      <td>asia</td>\n",
       "      <td>https://www.cnn.com/2021/06/15/asia/swarm-robo...</td>\n",
       "      <td>This swarm of robots gets smarter the more it ...</td>\n",
       "      <td>In a Hong Kong warehouse, a swarm of autonomou...</td>\n",
       "      <td>asia, This swarm of robots gets smarter the mo...</td>\n",
       "      <td>This swarm of robots gets smarter the more it ...</td>\n",
       "      <td>(CNN)In a Hong Kong warehouse, a swarm of aut...</td>\n",
       "    </tr>\n",
       "    <tr>\n",
       "      <th>3</th>\n",
       "      <td>4</td>\n",
       "      <td>Paul R. La Monica, CNN Business</td>\n",
       "      <td>2022-03-15 09:57:36</td>\n",
       "      <td>business</td>\n",
       "      <td>investing</td>\n",
       "      <td>https://www.cnn.com/2022/03/15/investing/brics...</td>\n",
       "      <td>Russia is no longer an option for investors. T...</td>\n",
       "      <td>For many years, the world's most popular emerg...</td>\n",
       "      <td>investing, Russia is no longer an option for i...</td>\n",
       "      <td>Russia is no longer an option for investors. T...</td>\n",
       "      <td>New York (CNN Business)For many years, the wor...</td>\n",
       "    </tr>\n",
       "    <tr>\n",
       "      <th>4</th>\n",
       "      <td>7</td>\n",
       "      <td>Reuters</td>\n",
       "      <td>2022-03-15 11:27:02</td>\n",
       "      <td>business</td>\n",
       "      <td>business</td>\n",
       "      <td>https://www.cnn.com/2022/03/15/business/russia...</td>\n",
       "      <td>Russian energy investment ban part of new EU s...</td>\n",
       "      <td>The European Union formally approved on Tuesda...</td>\n",
       "      <td>business, Russian energy investment ban part o...</td>\n",
       "      <td>EU bans investment in Russian energy in new sa...</td>\n",
       "      <td>The European Union formally approved on Tuesda...</td>\n",
       "    </tr>\n",
       "  </tbody>\n",
       "</table>\n",
       "</div>"
      ],
      "text/plain": [
       "   Index                                             Author  \\\n",
       "0      0                                 Jacopo Prisco, CNN   \n",
       "1      2                              Stephanie Bailey, CNN   \n",
       "2      3  Words by Stephanie Bailey, video by Zahra Jamshed   \n",
       "3      4                    Paul R. La Monica, CNN Business   \n",
       "4      7                                            Reuters   \n",
       "\n",
       "        Date published  Category    Section  \\\n",
       "0  2021-07-15 02:46:59      news      world   \n",
       "1  2021-05-12 07:52:09      news      world   \n",
       "2  2021-06-16 02:51:30      news       asia   \n",
       "3  2022-03-15 09:57:36  business  investing   \n",
       "4  2022-03-15 11:27:02  business   business   \n",
       "\n",
       "                                                 Url  \\\n",
       "0  https://www.cnn.com/2021/07/14/world/tusimple-...   \n",
       "1  https://www.cnn.com/2021/05/12/world/ironhand-...   \n",
       "2  https://www.cnn.com/2021/06/15/asia/swarm-robo...   \n",
       "3  https://www.cnn.com/2022/03/15/investing/brics...   \n",
       "4  https://www.cnn.com/2022/03/15/business/russia...   \n",
       "\n",
       "                                            Headline  \\\n",
       "0  There's a shortage of truckers, but TuSimple t...   \n",
       "1  Bioservo's robotic 'Ironhand' could protect fa...   \n",
       "2  This swarm of robots gets smarter the more it ...   \n",
       "3  Russia is no longer an option for investors. T...   \n",
       "4  Russian energy investment ban part of new EU s...   \n",
       "\n",
       "                                         Description  \\\n",
       "0  The e-commerce boom has exacerbated a global t...   \n",
       "1  Working in a factory can mean doing the same t...   \n",
       "2  In a Hong Kong warehouse, a swarm of autonomou...   \n",
       "3  For many years, the world's most popular emerg...   \n",
       "4  The European Union formally approved on Tuesda...   \n",
       "\n",
       "                                            Keywords  \\\n",
       "0  world, There's a shortage of truckers, but TuS...   \n",
       "1  world, Bioservo's robotic 'Ironhand' could pro...   \n",
       "2  asia, This swarm of robots gets smarter the mo...   \n",
       "3  investing, Russia is no longer an option for i...   \n",
       "4  business, Russian energy investment ban part o...   \n",
       "\n",
       "                                     Second headline  \\\n",
       "0  There's a shortage of truckers, but TuSimple t...   \n",
       "1  A robotic 'Ironhand' could protect factory wor...   \n",
       "2  This swarm of robots gets smarter the more it ...   \n",
       "3  Russia is no longer an option for investors. T...   \n",
       "4  EU bans investment in Russian energy in new sa...   \n",
       "\n",
       "                                        Article text  \n",
       "0   (CNN)Right now, there's a shortage of truck d...  \n",
       "1   (CNN)Working in a factory or warehouse can me...  \n",
       "2   (CNN)In a Hong Kong warehouse, a swarm of aut...  \n",
       "3  New York (CNN Business)For many years, the wor...  \n",
       "4  The European Union formally approved on Tuesda...  "
      ]
     },
     "execution_count": 20,
     "metadata": {},
     "output_type": "execute_result"
    }
   ],
   "source": [
    "import pandas as pd\n",
    "\n",
    "df = pd.read_csv(\"../data/CNN_Articels_clean/CNN_Articels_clean.csv\")\n",
    "df.head()"
   ]
  },
  {
   "cell_type": "code",
   "execution_count": 26,
   "id": "a0377757-6a2c-4114-bc0a-1934c5fc599d",
   "metadata": {},
   "outputs": [
    {
     "data": {
      "text/plain": [
       "1286"
      ]
     },
     "execution_count": 26,
     "metadata": {},
     "output_type": "execute_result"
    }
   ],
   "source": [
    "a = df[\"Category\"] + \", \" + df[\"Headline\"] == df[\"Keywords\"]\n",
    "\n",
    "sum(a)"
   ]
  },
  {
   "cell_type": "code",
   "execution_count": 27,
   "id": "d2f2e72c-d5c8-4e2f-ba5e-f6d217cc0ed5",
   "metadata": {},
   "outputs": [
    {
     "data": {
      "text/plain": [
       "0       world, There's a shortage of truckers, but TuS...\n",
       "1       world, Bioservo's robotic 'Ironhand' could pro...\n",
       "2       asia, This swarm of robots gets smarter the mo...\n",
       "3       investing, Russia is no longer an option for i...\n",
       "5       media, Anti-war protester interrupts live Russ...\n",
       "                              ...                        \n",
       "4071    tennis, Australian Open: Australia's vaccine m...\n",
       "4072    golf, Four golfers test positive ahead of Sout...\n",
       "4073    tennis, Peng Shuai: 'Unanimous conclusion' tha...\n",
       "4074    europe, This company is \"zapping\" cow dung wit...\n",
       "4075    golf, Tiger Woods: Is this the end of his era?...\n",
       "Name: Keywords, Length: 2790, dtype: object"
      ]
     },
     "execution_count": 27,
     "metadata": {},
     "output_type": "execute_result"
    }
   ],
   "source": [
    "df.loc[-a, \"Keywords\"]"
   ]
  },
  {
   "cell_type": "markdown",
   "id": "97c842d7-f26f-4884-8785-010ebdca929a",
   "metadata": {},
   "source": [
    "We'll build our own keywords:"
   ]
  },
  {
   "cell_type": "code",
   "execution_count": 54,
   "id": "79e03f36-a1ee-4dee-b841-8378bc459cc1",
   "metadata": {},
   "outputs": [
    {
     "name": "stdout",
     "output_type": "stream",
     "text": [
      "179\n"
     ]
    }
   ],
   "source": [
    "from nltk.corpus import stopwords\n",
    "from nltk.tokenize import word_tokenize\n",
    "\n",
    "tokenizer = NLTKWordTokenizer()\n",
    "\n",
    "stop_words = set(stopwords.words(\"english\"))\n",
    "print(len(stop_words))\n",
    "\n",
    "stop_words.update([\",\", \".\", \":\", \"?\", \"!\", \";\", \"-\", \"'s\", \"'\"])\n",
    "\n",
    "keywords = df[\"Keywords\"].str.lower().apply(tokenizer.tokenize)\n",
    "keywords = keywords.apply(lambda x: [i for i in x if i not in stop_words])\n",
    "\n",
    "df[\"new_keywords\"] = keywords"
   ]
  },
  {
   "cell_type": "code",
   "execution_count": 55,
   "id": "6b54816f-b674-479b-a70b-0d19badd1b7c",
   "metadata": {},
   "outputs": [
    {
     "data": {
      "text/plain": [
       "sport            2176\n",
       "news             1611\n",
       "business          104\n",
       "politics           75\n",
       "entertainment      58\n",
       "health             52\n",
       "Name: Category, dtype: int64"
      ]
     },
     "execution_count": 55,
     "metadata": {},
     "output_type": "execute_result"
    }
   ],
   "source": [
    "df[\"Category\"].value_counts()"
   ]
  },
  {
   "cell_type": "code",
   "execution_count": 56,
   "id": "45f07860-873f-4ce1-942b-f2e7628e0105",
   "metadata": {},
   "outputs": [
    {
     "data": {
      "text/plain": [
       "sport             1088\n",
       "europe             800\n",
       "football           618\n",
       "uk                 376\n",
       "tennis             197\n",
       "golf               173\n",
       "us                 134\n",
       "australia          114\n",
       "motorsport         100\n",
       "politics            75\n",
       "entertainment       56\n",
       "health              52\n",
       "africa              49\n",
       "opinions            45\n",
       "world               44\n",
       "perspectives        25\n",
       "business            23\n",
       "weather             18\n",
       "tech                15\n",
       "investing            9\n",
       "asia                 9\n",
       "success              9\n",
       "economy              8\n",
       "living               7\n",
       "homes                6\n",
       "china                5\n",
       "middleeast           5\n",
       "energy               3\n",
       "americas             3\n",
       "business-money       2\n",
       "media                2\n",
       "celebrities          1\n",
       "movies               1\n",
       "india                1\n",
       "intl_world           1\n",
       "business-food        1\n",
       "cars                 1\n",
       "Name: Section, dtype: int64"
      ]
     },
     "execution_count": 56,
     "metadata": {},
     "output_type": "execute_result"
    }
   ],
   "source": [
    "df[\"Section\"].value_counts()"
   ]
  },
  {
   "cell_type": "code",
   "execution_count": 59,
   "id": "62316b56-6a4e-4139-8d5c-32e4e1e667be",
   "metadata": {},
   "outputs": [
    {
     "data": {
      "text/plain": [
       "Index(['index', 'author', 'date_published', 'category', 'section', 'url',\n",
       "       'headline', 'description', 'keywords', 'second_headline',\n",
       "       'article_text', 'new_keywords'],\n",
       "      dtype='object')"
      ]
     },
     "execution_count": 59,
     "metadata": {},
     "output_type": "execute_result"
    }
   ],
   "source": [
    "df.columns = [c.replace(\" \", \"_\").lower() for c in df.columns]\n",
    "df.columns"
   ]
  },
  {
   "cell_type": "markdown",
   "id": "371c48b4-0f93-4b1d-8d51-d02b9a7ef3ae",
   "metadata": {},
   "source": [
    "## 4. Insertion"
   ]
  },
  {
   "cell_type": "code",
   "execution_count": null,
   "id": "acefd4cb-de2e-459a-841e-4c2ef7d35404",
   "metadata": {},
   "outputs": [],
   "source": [
    "import pandas as pd\n",
    "\n",
    "df = pd.read_csv(\"../data/CNN_Articels_clean/CNN_Articels_clean.csv\")\n",
    "df.head()"
   ]
  },
  {
   "cell_type": "code",
   "execution_count": 102,
   "id": "765ee4aa-d9b1-48d7-9916-74dc68c038ab",
   "metadata": {},
   "outputs": [],
   "source": [
    "client = MongoClient()\n",
    "db = client[\"articles\"]"
   ]
  },
  {
   "cell_type": "code",
   "execution_count": null,
   "id": "77f2205f-2f60-4ef8-ba76-44855a730c56",
   "metadata": {},
   "outputs": [],
   "source": [
    "from nltk.corpus import stopwords\n",
    "from nltk.tokenize import word_tokenize\n",
    "\n",
    "tokenizer = NLTKWordTokenizer()\n",
    "\n",
    "stop_words = set(stopwords.words(\"english\"))\n",
    "print(len(stop_words))\n",
    "\n",
    "stop_words.update([\",\", \".\", \":\", \"?\", \"!\", \";\", \"-\", \"'s\", \"'\"])\n",
    "\n",
    "keywords = df[\"Keywords\"].str.lower().apply(tokenizer.tokenize)\n",
    "keywords = keywords.apply(lambda x: [i for i in x if i not in stop_words])\n",
    "\n",
    "df[\"new_keywords\"] = keywords"
   ]
  },
  {
   "cell_type": "code",
   "execution_count": null,
   "id": "37b5f8fa-a1f6-48db-bbcb-d857b2f47f5a",
   "metadata": {},
   "outputs": [],
   "source": [
    "df.columns = [c.replace(\" \", \"_\").lower() for c in df.columns]\n",
    "df.columns"
   ]
  },
  {
   "cell_type": "code",
   "execution_count": 112,
   "id": "7f12bfb2-a53a-4eb0-a0af-8a67365e280c",
   "metadata": {},
   "outputs": [
    {
     "name": "stderr",
     "output_type": "stream",
     "text": [
      "100%|██████████████████████████████████████████████████████████████████████████████████████████████████████████████████████████| 4076/4076 [00:00<00:00, 54437.48it/s]\n"
     ]
    }
   ],
   "source": [
    "category_counter = {}\n",
    "\n",
    "remaining = []\n",
    "\n",
    "records = df[[\"author\", \"date_published\", \"category\", \"section\", \"url\", \"headline\", \"new_keywords\", \"article_text\"]].to_dict(orient=\"records\")\n",
    "\n",
    "\n",
    "import datetime\n",
    "from tqdm import tqdm\n",
    "\n",
    "for c in df[\"category\"].unique():\n",
    "    db[c].delete_many({})\n",
    "\n",
    "\n",
    "for r in tqdm(records):\n",
    "    category = r.pop(\"category\")\n",
    "    r[\"keywords\"] = r.pop(\"new_keywords\")\n",
    "    \n",
    "    if category_counter.get(category, 0) > 9:\n",
    "        r[\"category\"] = category\n",
    "        remaining.append(r)\n",
    "    else:\n",
    "        r[\"date_published\"] = datetime.datetime.fromisoformat(r[\"date_published\"])\n",
    "        r[\"hash\"] = hash(r[\"article_text\"])\n",
    "        r[\"events\"] = {\"insertion\": {\"date\": datetime.datetime.utcnow(), \"author\": \"paul_dechorgnat\", \"mode\": \"single\"}}\n",
    "\n",
    "        db[category].insert_one(r)\n",
    "    \n",
    "    category_counter[category] = category_counter.get(category, 0) + 1"
   ]
  },
  {
   "cell_type": "code",
   "execution_count": 113,
   "id": "c4f27a44-3371-42b9-938c-24c1b49c348e",
   "metadata": {},
   "outputs": [],
   "source": [
    "import json\n",
    "\n",
    "for i in range(10):\n",
    "    with open(f\"../data/record_{i}.json\", \"w\") as file:\n",
    "        json.dump(remaining[i], file)\n",
    "\n",
    "with open(\"../data/records.json\", \"w\") as file:\n",
    "    json.dump(remaining[:10], file)"
   ]
  },
  {
   "cell_type": "code",
   "execution_count": 114,
   "id": "ce172e50-2eab-4647-b6c4-afa9af2f5bae",
   "metadata": {},
   "outputs": [
    {
     "name": "stdout",
     "output_type": "stream",
     "text": [
      "CNN_Articels_clean  record_2.json  record_5.json  record_8.json\n",
      "record_0.json\t    record_3.json  record_6.json  record_9.json\n",
      "record_1.json\t    record_4.json  record_7.json  records.json\n"
     ]
    }
   ],
   "source": [
    "! ls ../data"
   ]
  },
  {
   "cell_type": "code",
   "execution_count": 115,
   "id": "495896bb-23a7-4f33-83f7-de8367d43bb6",
   "metadata": {},
   "outputs": [
    {
     "name": "stdout",
     "output_type": "stream",
     "text": [
      "sport: 10\n",
      "entertainment: 10\n",
      "politics: 10\n",
      "news: 10\n",
      "business: 10\n",
      "health: 10\n"
     ]
    }
   ],
   "source": [
    "for c in db.list_collection_names():\n",
    "    print(f\"{c}: {db[c].count_documents({})}\")"
   ]
  },
  {
   "cell_type": "code",
   "execution_count": null,
   "id": "32bb6063-e5c8-4cd3-b1bf-26bb6571501b",
   "metadata": {},
   "outputs": [],
   "source": []
  }
 ],
 "metadata": {
  "kernelspec": {
   "display_name": "Python 3 (ipykernel)",
   "language": "python",
   "name": "python3"
  },
  "language_info": {
   "codemirror_mode": {
    "name": "ipython",
    "version": 3
   },
   "file_extension": ".py",
   "mimetype": "text/x-python",
   "name": "python",
   "nbconvert_exporter": "python",
   "pygments_lexer": "ipython3",
   "version": "3.8.10"
  }
 },
 "nbformat": 4,
 "nbformat_minor": 5
}
