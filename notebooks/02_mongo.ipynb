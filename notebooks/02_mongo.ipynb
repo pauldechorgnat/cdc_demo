{
 "cells": [
  {
   "cell_type": "markdown",
   "id": "5a135de2-9158-4236-bd4a-0d4dbf89f83e",
   "metadata": {},
   "source": [
    "# Functions to interact with MongoDB\n"
   ]
  },
  {
   "cell_type": "markdown",
   "id": "98d8f64c-8b0a-46bc-9063-d38cf1016f73",
   "metadata": {},
   "source": [
    "## 1. Setting up mongo container"
   ]
  },
  {
   "cell_type": "code",
   "execution_count": 9,
   "id": "34eb9770-2da5-4532-8065-f8880ff24383",
   "metadata": {},
   "outputs": [
    {
     "name": "stdout",
     "output_type": "stream",
     "text": [
      "bc6b1b50cf4e0425643a493558bb395c96ab5e837101a0e092c1b7d92635b6ff\n"
     ]
    }
   ],
   "source": [
    "! docker container run --name my_mongo -d --rm -v `pwd`/../mongo_docker/data:/data/db -p 27017:27017 mongo:latest"
   ]
  },
  {
   "cell_type": "code",
   "execution_count": 10,
   "id": "64667da1-8990-4447-bfb9-93b913ebd5b3",
   "metadata": {},
   "outputs": [
    {
     "name": "stdout",
     "output_type": "stream",
     "text": [
      "CONTAINER ID        IMAGE               COMMAND                  CREATED             STATUS              PORTS                      NAMES\n",
      "bc6b1b50cf4e        mongo:latest        \"docker-entrypoint.s…\"   3 seconds ago       Up 2 seconds        0.0.0.0:27017->27017/tcp   my_mongo\n",
      "d0f0d3339ddd        a1dd85df1762        \"python -m uvicorn a…\"   About an hour ago   Up About an hour    0.0.0.0:8000->8000/tcp     adoring_nightingale\n"
     ]
    }
   ],
   "source": [
    "! docker container ls "
   ]
  },
  {
   "cell_type": "markdown",
   "id": "43abfcc9-a34c-4a7b-98db-86786a8373b8",
   "metadata": {},
   "source": [
    "## 2. Connection with Pymongo"
   ]
  },
  {
   "cell_type": "code",
   "execution_count": 11,
   "id": "9ff6e5c3-5718-4ff5-82bd-2d53b4e4ee18",
   "metadata": {},
   "outputs": [],
   "source": [
    "from pymongo import MongoClient\n",
    "\n",
    "client = MongoClient(host=\"mongodb://localhost:27017\")"
   ]
  },
  {
   "cell_type": "code",
   "execution_count": 12,
   "id": "5c294c24-69dd-43ac-ad71-5125512f7856",
   "metadata": {},
   "outputs": [
    {
     "data": {
      "text/plain": [
       "['admin', 'config', 'local', 'test']"
      ]
     },
     "execution_count": 12,
     "metadata": {},
     "output_type": "execute_result"
    }
   ],
   "source": [
    "client.list_database_names()"
   ]
  },
  {
   "cell_type": "code",
   "execution_count": 116,
   "id": "3f1ee056-8d9d-485b-b733-d2d37c26b9b4",
   "metadata": {},
   "outputs": [
    {
     "data": {
      "text/plain": [
       "['my_collection']"
      ]
     },
     "execution_count": 116,
     "metadata": {},
     "output_type": "execute_result"
    }
   ],
   "source": [
    "client[\"test\"].list_collection_names()"
   ]
  },
  {
   "cell_type": "code",
   "execution_count": 117,
   "id": "66c3d723-c154-427a-b779-c25d53a78c9f",
   "metadata": {},
   "outputs": [
    {
     "name": "stdout",
     "output_type": "stream",
     "text": [
      "4\n",
      "{'_id': ObjectId('633c583217bb780a9c10ebc4')}\n"
     ]
    }
   ],
   "source": [
    "col = client[\"test\"][\"my_collection\"]\n",
    "print(col.count_documents(filter={}))\n",
    "print(col.find_one())"
   ]
  },
  {
   "cell_type": "markdown",
   "id": "20b30bea-6e4e-448c-9d58-4a2ee3c92e3e",
   "metadata": {},
   "source": [
    "## 3. Exploring data"
   ]
  },
  {
   "cell_type": "code",
   "execution_count": 20,
   "id": "f73e9d9a-75e3-4347-934a-28de1388a32a",
   "metadata": {},
   "outputs": [
    {
     "data": {
      "text/html": [
       "<div>\n",
       "<style scoped>\n",
       "    .dataframe tbody tr th:only-of-type {\n",
       "        vertical-align: middle;\n",
       "    }\n",
       "\n",
       "    .dataframe tbody tr th {\n",
       "        vertical-align: top;\n",
       "    }\n",
       "\n",
       "    .dataframe thead th {\n",
       "        text-align: right;\n",
       "    }\n",
       "</style>\n",
       "<table border=\"1\" class=\"dataframe\">\n",
       "  <thead>\n",
       "    <tr style=\"text-align: right;\">\n",
       "      <th></th>\n",
       "      <th>Index</th>\n",
       "      <th>Author</th>\n",
       "      <th>Date published</th>\n",
       "      <th>Category</th>\n",
       "      <th>Section</th>\n",
       "      <th>Url</th>\n",
       "      <th>Headline</th>\n",
       "      <th>Description</th>\n",
       "      <th>Keywords</th>\n",
       "      <th>Second headline</th>\n",
       "      <th>Article text</th>\n",
       "    </tr>\n",
       "  </thead>\n",
       "  <tbody>\n",
       "    <tr>\n",
       "      <th>0</th>\n",
       "      <td>0</td>\n",
       "      <td>Jacopo Prisco, CNN</td>\n",
       "      <td>2021-07-15 02:46:59</td>\n",
       "      <td>news</td>\n",
       "      <td>world</td>\n",
       "      <td>https://www.cnn.com/2021/07/14/world/tusimple-...</td>\n",
       "      <td>There's a shortage of truckers, but TuSimple t...</td>\n",
       "      <td>The e-commerce boom has exacerbated a global t...</td>\n",
       "      <td>world, There's a shortage of truckers, but TuS...</td>\n",
       "      <td>There's a shortage of truckers, but TuSimple t...</td>\n",
       "      <td>(CNN)Right now, there's a shortage of truck d...</td>\n",
       "    </tr>\n",
       "    <tr>\n",
       "      <th>1</th>\n",
       "      <td>2</td>\n",
       "      <td>Stephanie Bailey, CNN</td>\n",
       "      <td>2021-05-12 07:52:09</td>\n",
       "      <td>news</td>\n",
       "      <td>world</td>\n",
       "      <td>https://www.cnn.com/2021/05/12/world/ironhand-...</td>\n",
       "      <td>Bioservo's robotic 'Ironhand' could protect fa...</td>\n",
       "      <td>Working in a factory can mean doing the same t...</td>\n",
       "      <td>world, Bioservo's robotic 'Ironhand' could pro...</td>\n",
       "      <td>A robotic 'Ironhand' could protect factory wor...</td>\n",
       "      <td>(CNN)Working in a factory or warehouse can me...</td>\n",
       "    </tr>\n",
       "    <tr>\n",
       "      <th>2</th>\n",
       "      <td>3</td>\n",
       "      <td>Words by Stephanie Bailey, video by Zahra Jamshed</td>\n",
       "      <td>2021-06-16 02:51:30</td>\n",
       "      <td>news</td>\n",
       "      <td>asia</td>\n",
       "      <td>https://www.cnn.com/2021/06/15/asia/swarm-robo...</td>\n",
       "      <td>This swarm of robots gets smarter the more it ...</td>\n",
       "      <td>In a Hong Kong warehouse, a swarm of autonomou...</td>\n",
       "      <td>asia, This swarm of robots gets smarter the mo...</td>\n",
       "      <td>This swarm of robots gets smarter the more it ...</td>\n",
       "      <td>(CNN)In a Hong Kong warehouse, a swarm of aut...</td>\n",
       "    </tr>\n",
       "    <tr>\n",
       "      <th>3</th>\n",
       "      <td>4</td>\n",
       "      <td>Paul R. La Monica, CNN Business</td>\n",
       "      <td>2022-03-15 09:57:36</td>\n",
       "      <td>business</td>\n",
       "      <td>investing</td>\n",
       "      <td>https://www.cnn.com/2022/03/15/investing/brics...</td>\n",
       "      <td>Russia is no longer an option for investors. T...</td>\n",
       "      <td>For many years, the world's most popular emerg...</td>\n",
       "      <td>investing, Russia is no longer an option for i...</td>\n",
       "      <td>Russia is no longer an option for investors. T...</td>\n",
       "      <td>New York (CNN Business)For many years, the wor...</td>\n",
       "    </tr>\n",
       "    <tr>\n",
       "      <th>4</th>\n",
       "      <td>7</td>\n",
       "      <td>Reuters</td>\n",
       "      <td>2022-03-15 11:27:02</td>\n",
       "      <td>business</td>\n",
       "      <td>business</td>\n",
       "      <td>https://www.cnn.com/2022/03/15/business/russia...</td>\n",
       "      <td>Russian energy investment ban part of new EU s...</td>\n",
       "      <td>The European Union formally approved on Tuesda...</td>\n",
       "      <td>business, Russian energy investment ban part o...</td>\n",
       "      <td>EU bans investment in Russian energy in new sa...</td>\n",
       "      <td>The European Union formally approved on Tuesda...</td>\n",
       "    </tr>\n",
       "  </tbody>\n",
       "</table>\n",
       "</div>"
      ],
      "text/plain": [
       "   Index                                             Author  \\\n",
       "0      0                                 Jacopo Prisco, CNN   \n",
       "1      2                              Stephanie Bailey, CNN   \n",
       "2      3  Words by Stephanie Bailey, video by Zahra Jamshed   \n",
       "3      4                    Paul R. La Monica, CNN Business   \n",
       "4      7                                            Reuters   \n",
       "\n",
       "        Date published  Category    Section  \\\n",
       "0  2021-07-15 02:46:59      news      world   \n",
       "1  2021-05-12 07:52:09      news      world   \n",
       "2  2021-06-16 02:51:30      news       asia   \n",
       "3  2022-03-15 09:57:36  business  investing   \n",
       "4  2022-03-15 11:27:02  business   business   \n",
       "\n",
       "                                                 Url  \\\n",
       "0  https://www.cnn.com/2021/07/14/world/tusimple-...   \n",
       "1  https://www.cnn.com/2021/05/12/world/ironhand-...   \n",
       "2  https://www.cnn.com/2021/06/15/asia/swarm-robo...   \n",
       "3  https://www.cnn.com/2022/03/15/investing/brics...   \n",
       "4  https://www.cnn.com/2022/03/15/business/russia...   \n",
       "\n",
       "                                            Headline  \\\n",
       "0  There's a shortage of truckers, but TuSimple t...   \n",
       "1  Bioservo's robotic 'Ironhand' could protect fa...   \n",
       "2  This swarm of robots gets smarter the more it ...   \n",
       "3  Russia is no longer an option for investors. T...   \n",
       "4  Russian energy investment ban part of new EU s...   \n",
       "\n",
       "                                         Description  \\\n",
       "0  The e-commerce boom has exacerbated a global t...   \n",
       "1  Working in a factory can mean doing the same t...   \n",
       "2  In a Hong Kong warehouse, a swarm of autonomou...   \n",
       "3  For many years, the world's most popular emerg...   \n",
       "4  The European Union formally approved on Tuesda...   \n",
       "\n",
       "                                            Keywords  \\\n",
       "0  world, There's a shortage of truckers, but TuS...   \n",
       "1  world, Bioservo's robotic 'Ironhand' could pro...   \n",
       "2  asia, This swarm of robots gets smarter the mo...   \n",
       "3  investing, Russia is no longer an option for i...   \n",
       "4  business, Russian energy investment ban part o...   \n",
       "\n",
       "                                     Second headline  \\\n",
       "0  There's a shortage of truckers, but TuSimple t...   \n",
       "1  A robotic 'Ironhand' could protect factory wor...   \n",
       "2  This swarm of robots gets smarter the more it ...   \n",
       "3  Russia is no longer an option for investors. T...   \n",
       "4  EU bans investment in Russian energy in new sa...   \n",
       "\n",
       "                                        Article text  \n",
       "0   (CNN)Right now, there's a shortage of truck d...  \n",
       "1   (CNN)Working in a factory or warehouse can me...  \n",
       "2   (CNN)In a Hong Kong warehouse, a swarm of aut...  \n",
       "3  New York (CNN Business)For many years, the wor...  \n",
       "4  The European Union formally approved on Tuesda...  "
      ]
     },
     "execution_count": 20,
     "metadata": {},
     "output_type": "execute_result"
    }
   ],
   "source": [
    "import pandas as pd\n",
    "\n",
    "df = pd.read_csv(\"../data/CNN_Articels_clean/CNN_Articels_clean.csv\")\n",
    "df.head()"
   ]
  },
  {
   "cell_type": "code",
   "execution_count": 26,
   "id": "a0377757-6a2c-4114-bc0a-1934c5fc599d",
   "metadata": {},
   "outputs": [
    {
     "data": {
      "text/plain": [
       "1286"
      ]
     },
     "execution_count": 26,
     "metadata": {},
     "output_type": "execute_result"
    }
   ],
   "source": [
    "a = df[\"Category\"] + \", \" + df[\"Headline\"] == df[\"Keywords\"]\n",
    "\n",
    "sum(a)"
   ]
  },
  {
   "cell_type": "code",
   "execution_count": 27,
   "id": "d2f2e72c-d5c8-4e2f-ba5e-f6d217cc0ed5",
   "metadata": {},
   "outputs": [
    {
     "data": {
      "text/plain": [
       "0       world, There's a shortage of truckers, but TuS...\n",
       "1       world, Bioservo's robotic 'Ironhand' could pro...\n",
       "2       asia, This swarm of robots gets smarter the mo...\n",
       "3       investing, Russia is no longer an option for i...\n",
       "5       media, Anti-war protester interrupts live Russ...\n",
       "                              ...                        \n",
       "4071    tennis, Australian Open: Australia's vaccine m...\n",
       "4072    golf, Four golfers test positive ahead of Sout...\n",
       "4073    tennis, Peng Shuai: 'Unanimous conclusion' tha...\n",
       "4074    europe, This company is \"zapping\" cow dung wit...\n",
       "4075    golf, Tiger Woods: Is this the end of his era?...\n",
       "Name: Keywords, Length: 2790, dtype: object"
      ]
     },
     "execution_count": 27,
     "metadata": {},
     "output_type": "execute_result"
    }
   ],
   "source": [
    "df.loc[-a, \"Keywords\"]"
   ]
  },
  {
   "cell_type": "markdown",
   "id": "97c842d7-f26f-4884-8785-010ebdca929a",
   "metadata": {},
   "source": [
    "We'll build our own keywords:"
   ]
  },
  {
   "cell_type": "code",
   "execution_count": 54,
   "id": "79e03f36-a1ee-4dee-b841-8378bc459cc1",
   "metadata": {},
   "outputs": [
    {
     "name": "stdout",
     "output_type": "stream",
     "text": [
      "179\n"
     ]
    }
   ],
   "source": [
    "from nltk.corpus import stopwords\n",
    "from nltk.tokenize import word_tokenize\n",
    "\n",
    "tokenizer = NLTKWordTokenizer()\n",
    "\n",
    "stop_words = set(stopwords.words(\"english\"))\n",
    "print(len(stop_words))\n",
    "\n",
    "stop_words.update([\",\", \".\", \":\", \"?\", \"!\", \";\", \"-\", \"'s\", \"'\"])\n",
    "\n",
    "keywords = df[\"Keywords\"].str.lower().apply(tokenizer.tokenize)\n",
    "keywords = keywords.apply(lambda x: [i for i in x if i not in stop_words])\n",
    "\n",
    "df[\"new_keywords\"] = keywords"
   ]
  },
  {
   "cell_type": "code",
   "execution_count": 55,
   "id": "6b54816f-b674-479b-a70b-0d19badd1b7c",
   "metadata": {},
   "outputs": [
    {
     "data": {
      "text/plain": [
       "sport            2176\n",
       "news             1611\n",
       "business          104\n",
       "politics           75\n",
       "entertainment      58\n",
       "health             52\n",
       "Name: Category, dtype: int64"
      ]
     },
     "execution_count": 55,
     "metadata": {},
     "output_type": "execute_result"
    }
   ],
   "source": [
    "df[\"Category\"].value_counts()"
   ]
  },
  {
   "cell_type": "code",
   "execution_count": 56,
   "id": "45f07860-873f-4ce1-942b-f2e7628e0105",
   "metadata": {},
   "outputs": [
    {
     "data": {
      "text/plain": [
       "sport             1088\n",
       "europe             800\n",
       "football           618\n",
       "uk                 376\n",
       "tennis             197\n",
       "golf               173\n",
       "us                 134\n",
       "australia          114\n",
       "motorsport         100\n",
       "politics            75\n",
       "entertainment       56\n",
       "health              52\n",
       "africa              49\n",
       "opinions            45\n",
       "world               44\n",
       "perspectives        25\n",
       "business            23\n",
       "weather             18\n",
       "tech                15\n",
       "investing            9\n",
       "asia                 9\n",
       "success              9\n",
       "economy              8\n",
       "living               7\n",
       "homes                6\n",
       "china                5\n",
       "middleeast           5\n",
       "energy               3\n",
       "americas             3\n",
       "business-money       2\n",
       "media                2\n",
       "celebrities          1\n",
       "movies               1\n",
       "india                1\n",
       "intl_world           1\n",
       "business-food        1\n",
       "cars                 1\n",
       "Name: Section, dtype: int64"
      ]
     },
     "execution_count": 56,
     "metadata": {},
     "output_type": "execute_result"
    }
   ],
   "source": [
    "df[\"Section\"].value_counts()"
   ]
  },
  {
   "cell_type": "code",
   "execution_count": 59,
   "id": "62316b56-6a4e-4139-8d5c-32e4e1e667be",
   "metadata": {},
   "outputs": [
    {
     "data": {
      "text/plain": [
       "Index(['index', 'author', 'date_published', 'category', 'section', 'url',\n",
       "       'headline', 'description', 'keywords', 'second_headline',\n",
       "       'article_text', 'new_keywords'],\n",
       "      dtype='object')"
      ]
     },
     "execution_count": 59,
     "metadata": {},
     "output_type": "execute_result"
    }
   ],
   "source": [
    "df.columns = [c.replace(\" \", \"_\").lower() for c in df.columns]\n",
    "df.columns"
   ]
  },
  {
   "cell_type": "markdown",
   "id": "371c48b4-0f93-4b1d-8d51-d02b9a7ef3ae",
   "metadata": {},
   "source": [
    "## 4. Insertion"
   ]
  },
  {
   "cell_type": "code",
   "execution_count": null,
   "id": "acefd4cb-de2e-459a-841e-4c2ef7d35404",
   "metadata": {},
   "outputs": [],
   "source": [
    "import pandas as pd\n",
    "\n",
    "df = pd.read_csv(\"../data/CNN_Articels_clean/CNN_Articels_clean.csv\")\n",
    "df.head()"
   ]
  },
  {
   "cell_type": "code",
   "execution_count": 102,
   "id": "765ee4aa-d9b1-48d7-9916-74dc68c038ab",
   "metadata": {},
   "outputs": [],
   "source": [
    "client = MongoClient()\n",
    "db = client[\"articles\"]"
   ]
  },
  {
   "cell_type": "code",
   "execution_count": null,
   "id": "77f2205f-2f60-4ef8-ba76-44855a730c56",
   "metadata": {},
   "outputs": [],
   "source": [
    "from nltk.corpus import stopwords\n",
    "from nltk.tokenize import word_tokenize\n",
    "\n",
    "tokenizer = NLTKWordTokenizer()\n",
    "\n",
    "stop_words = set(stopwords.words(\"english\"))\n",
    "print(len(stop_words))\n",
    "\n",
    "stop_words.update([\",\", \".\", \":\", \"?\", \"!\", \";\", \"-\", \"'s\", \"'\"])\n",
    "\n",
    "keywords = df[\"Keywords\"].str.lower().apply(tokenizer.tokenize)\n",
    "keywords = keywords.apply(lambda x: [i for i in x if i not in stop_words])\n",
    "\n",
    "df[\"new_keywords\"] = keywords"
   ]
  },
  {
   "cell_type": "code",
   "execution_count": null,
   "id": "37b5f8fa-a1f6-48db-bbcb-d857b2f47f5a",
   "metadata": {},
   "outputs": [],
   "source": [
    "df.columns = [c.replace(\" \", \"_\").lower() for c in df.columns]\n",
    "df.columns"
   ]
  },
  {
   "cell_type": "code",
   "execution_count": 124,
   "id": "7f12bfb2-a53a-4eb0-a0af-8a67365e280c",
   "metadata": {},
   "outputs": [
    {
     "name": "stderr",
     "output_type": "stream",
     "text": [
      "100%|██████████████████████████████████████████████████████████████████████████████████████████████████████████████████████████| 4076/4076 [00:00<00:00, 54391.93it/s]\n"
     ]
    }
   ],
   "source": [
    "category_counter = {}\n",
    "\n",
    "remaining = []\n",
    "\n",
    "records = df[[\"author\", \"date_published\", \"category\", \"section\", \"url\", \"headline\", \"new_keywords\", \"article_text\"]].to_dict(orient=\"records\")\n",
    "\n",
    "\n",
    "import datetime\n",
    "from tqdm import tqdm\n",
    "\n",
    "for c in df[\"category\"].unique():\n",
    "    db[c].delete_many({})\n",
    "\n",
    "\n",
    "for r in tqdm(records):\n",
    "    category = r.pop(\"category\")\n",
    "    r[\"source\"] = category\n",
    "    r[\"keywords\"] = r.pop(\"new_keywords\")\n",
    "    r[\"raw_text\"] = r.pop(\"article_text\")\n",
    "    \n",
    "    if category_counter.get(category, 0) > 9:\n",
    "        r[\"category\"] = category\n",
    "        remaining.append(r)\n",
    "    else:\n",
    "        r[\"date_published\"] = datetime.datetime.fromisoformat(r[\"date_published\"])\n",
    "        r[\"hash\"] = hash(r[\"raw_text\"])\n",
    "        r[\"events\"] = {\"insertion\": {\"date\": datetime.datetime.utcnow(), \"author\": \"paul_dechorgnat\", \"mode\": \"single\"}}\n",
    "\n",
    "        db[category].insert_one(r)\n",
    "    \n",
    "    category_counter[category] = category_counter.get(category, 0) + 1"
   ]
  },
  {
   "cell_type": "code",
   "execution_count": 125,
   "id": "c4f27a44-3371-42b9-938c-24c1b49c348e",
   "metadata": {},
   "outputs": [],
   "source": [
    "import json\n",
    "\n",
    "for i in range(10):\n",
    "    with open(f\"../data/record_{i}.json\", \"w\") as file:\n",
    "        json.dump(remaining[i], file)\n",
    "\n",
    "with open(\"../data/records.json\", \"w\") as file:\n",
    "    json.dump(remaining[:10], file)"
   ]
  },
  {
   "cell_type": "code",
   "execution_count": 126,
   "id": "ce172e50-2eab-4647-b6c4-afa9af2f5bae",
   "metadata": {},
   "outputs": [
    {
     "name": "stdout",
     "output_type": "stream",
     "text": [
      "CNN_Articels_clean  record_2.json  record_5.json  record_8.json\n",
      "record_0.json\t    record_3.json  record_6.json  record_9.json\n",
      "record_1.json\t    record_4.json  record_7.json  records.json\n"
     ]
    }
   ],
   "source": [
    "! ls ../data"
   ]
  },
  {
   "cell_type": "code",
   "execution_count": 127,
   "id": "495896bb-23a7-4f33-83f7-de8367d43bb6",
   "metadata": {},
   "outputs": [
    {
     "name": "stdout",
     "output_type": "stream",
     "text": [
      "sport: 10\n",
      "entertainment: 10\n",
      "politics: 10\n",
      "news: 10\n",
      "business: 10\n",
      "health: 10\n"
     ]
    }
   ],
   "source": [
    "for c in db.list_collection_names():\n",
    "    print(f\"{c}: {db[c].count_documents({})}\")"
   ]
  },
  {
   "cell_type": "markdown",
   "id": "aef1d4fa-8102-4499-bb87-a944372180e5",
   "metadata": {},
   "source": [
    "## 5. Tests"
   ]
  },
  {
   "cell_type": "code",
   "execution_count": 130,
   "id": "32bb6063-e5c8-4cd3-b1bf-26bb6571501b",
   "metadata": {},
   "outputs": [
    {
     "data": {
      "text/plain": [
       "'633d62deb9daeb8a90169ed6'"
      ]
     },
     "execution_count": 130,
     "metadata": {},
     "output_type": "execute_result"
    }
   ],
   "source": [
    "str(db[c].find_one()[\"_id\"])"
   ]
  },
  {
   "cell_type": "code",
   "execution_count": 142,
   "id": "3c5cd5aa-de3f-42b8-868f-446dd08c7397",
   "metadata": {},
   "outputs": [],
   "source": [
    "db[c].find_one({\"_id\": \"lol\"})"
   ]
  },
  {
   "cell_type": "code",
   "execution_count": null,
   "id": "7f17ef3d-e2b2-40f1-a0b8-1e0f911473cf",
   "metadata": {},
   "outputs": [],
   "source": []
  },
  {
   "cell_type": "code",
   "execution_count": 147,
   "id": "2cc98d3a-58fc-4a97-b44a-090cfab6dfd0",
   "metadata": {},
   "outputs": [
    {
     "data": {
      "text/plain": [
       "{'_id': ObjectId('633d62deb9daeb8a90169ed6'),\n",
       " 'author': 'Brenda Goodman and Deidre McPhillips, CNN',\n",
       " 'date_published': datetime.datetime(2022, 3, 15, 10, 35, 52),\n",
       " 'section': 'health',\n",
       " 'url': 'https://www.cnn.com/2022/03/15/health/covid-rising-uk-us/index.html',\n",
       " 'headline': 'What rising Covid-19 infections in the UK and Europe could mean for the US - CNN',\n",
       " 'source': 'health',\n",
       " 'keywords': ['health',\n",
       "  'rising',\n",
       "  'covid-19',\n",
       "  'infections',\n",
       "  'uk',\n",
       "  'europe',\n",
       "  'could',\n",
       "  'mean',\n",
       "  'us',\n",
       "  'cnn'],\n",
       " 'raw_text': ' (CNN)Two weeks after the United Kingdom dropped its last remaining Covid-19 mitigation measure -- a requirement that people who test positive for the virus isolate for five days -- the country is seeing cases and hospitalizations climb once again.  Covid-19 cases were up 48% in the UK last week compared with the week before. Hospitalizations were up 17% over the same period. The country\\'s daily case rate -- about 55,000 a day -- is still less than a third of the Omicron peak, but cases are rising as fast as they were falling just two weeks earlier, when the country removed pandemic-related restrictions.  Dr. Sanjay Gupta: Is America ready to take the next step in its Covid-19 recovery?Daily cases are also rising in more than half of the countries in the European Union. They\\'ve jumped 48% in the Netherlands and 20% in Germany over the past week, according to data from Johns Hopkins University. But daily cases in Germany had yet to drop below pre-Omicron levels, and the Netherlands hadn\\'t seen cases fall as much as they did in the UK.  The situation in Europe has the attention of public health officials for two reasons: First, the UK offers a preview of what may play out in the United States, and second, something unusual seems to be happening. In previous waves, increases in Covid hospitalizations lagged behind jumps in cases by about 10 days to two weeks. Now, in the UK, cases and hospitalizations seem to be rising in tandem, something that has experts stumped.Read More\"So we\\'re obviously keenly interested in what\\'s going on with that,\" Dr. Anthony Fauci, director of the National Institute of Allergy and Infectious Diseases, told CNN.  Fauci said he\\'s spoken with his UK counterparts, and they have pegged the rise to a combination three factors. In order of contribution, Fauci said, these are:The BA.2 variant, which is more transmissible than the original Omicron The opening of society, with people mingling more indoors without masksWaning immunity from vaccination or prior infectionIn a technical briefing Friday, the UK Health Security Agency said BA.2 had an 80% higher relative growth rate than the original Omicron strain, though it does not seem more likely to lead to hospitalization.  White House warns of \\'severe consequences\\' if Congress doesn\\'t pass supplemental Covid fundingGiven that BA.2 doesn\\'t seem to be causing more severe disease -- at least not in the highly vaccinated British population -- it\\'s not clear why hospitalizations are ticking up.\"The issue with hospitalization is a little bit more puzzling, because although the hospitalizations are going up, it is very clear their use of ICU beds has not increased,\" Fauci said. \"So are the numbers of hospitalizations a real reflection of Covid cases, or is there a difficulty deciphering between people coming into the hospital with Covid or because of Covid?\" The US, like the UK, has lifted most mitigation measures as Covid-19 infections have fallen. Two weeks ago, the US Centers for Disease Control and Prevention changed how it measures Covid-19 impact in communities. The new metric -- which relies on hospitalizations and hospital capacity in addition to cases -- did away with masking recommendations for most parts of the country. States and schools have followed suit, lifting indoor masking requirements.READ: Your top Covid questions, answered\"Without a doubt, opening up society and having people mingle indoors is clearly something that is a contributor, as well as overall waning immunity, which means we\\'ve really got to stay heads-up and keep our eye on the pattern here,\" Fauci said. \"So that\\'s the reason why we\\'re watching this very carefully.\"Michael Osterholm, who directs the Center for Infectious Disease Research and Policy at the University of Minnesota, told CNN, \"it\\'s like a weather alert. Right now, the skies are sunny and bright, and we hope they stay that way. But we could have some bad weather by evening, and we just don\\'t know.\"What will BA.2 do in the US?BA.2 has been growing steadily in the US. Last week, the CDC estimated it was causing about 12% of new Covid-19 cases here.  Meanwhile, BA.2 now accounts for more than 50% of cases in the UK and several other European countries.\"The tipping point seems to be right around 50%,\" said Keri Althoff, an epidemiologist at Johns Hopkins Bloomberg School of Public Health. \"That\\'s when we really start to see that variant flex its power in the population\" as far as showing its severity.Covid-19 cases continue to rise in China\\'s worst outbreak since WuhanAlthoff said although the UK may provide a glimpse of the future, there are key differences that will affect how BA.2 plays out in the United States.In the UK, 86% of eligible people are fully vaccinated, and 67% are boosted, compared with 69% of those eligible vaccinated and 50% boosted in the US. \"What we see happening in the UK is going to be perhaps a better story than what we should be expecting here,\" Althoff said.In the Netherlands, it took about a month for BA.2 to overpower BA.1, she noted. If the same timeline occurs in the US, that will mean the variant is taking off just as the immunity generated by winter\\'s Omicron infections will be waning. Coronavirus wastewater data, CDC guidelines can give mixed signals on whether to mask\"I\\'m concerned about that,\" Althoff said. \"But we were in a similar situation last spring, where we really got hopeful that things were going to settle down, and we got a little bit of a summer, and then we got walloped by Delta.\"It will be important for people to understand they may be able to take their masks off for a few weeks, Althoff said, but they might also need to go back to wearing them regularly if cases spike.\"We could see another wave of illness at our hospitals,\" she said.Althoff will also be closely watching wastewater data over the next few weeks.  \"Wastewater surveillance is an incredible advancement in how we can monitor SARS-CoV-2 and what it\\'s doing in the population without needing, really, any input from people,\" she said. \"Keeping our eye on wastewater surveillance is an important tool to understand where the virus is going and if it\\'s increasing in terms of infection.\"Preparing for the next waveProtection against the next variant has to start with vaccination.\"We absolutely have to continue to find people who are unvaccinated and get them vaccinated,\" Althoff said.Fauci agreed vaccination rates could be better in all age groups, but current numbers are especially bad for kids: Only about a third of kids ages 5 to 11 have been vaccinated and only about half of kids ages 12 to 17.Even though the youngest children, those under 5, can\\'t yet be vaccinated, recent studies have shown young kids are less likely to catch Covid-19 when they\\'re surrounded by vaccinated adults.Get CNN Health\\'s weekly newsletter Sign up here to get The Results Are In with Dr. Sanjay Gupta every Tuesday from the CNN Health team.\"So the way you protect them is to surround the children, to the extent possible, with people who are vaccinated and boosted so that you have somewhat a veil of protection around them,\" Fauci said.It will also be important to continue to be flexible.\"The important thing in this massive experiment where we\\'re dropping all masking and restrictions is we have to stay diligent in terms of monitoring of it and testing and be prepared to possibly reverse a lot of the relaxing of these restrictions,\" said Deborah Fuller, a microbiologist at the University of Washington.\"We can\\'t let our guard down, because the message that people get when they say \\'we\\'re lifting restrictions\\' is the pandemic is over. And it\\'s not,\" she said.',\n",
       " 'hash': 474917999931443897,\n",
       " 'events': {'insertion': {'date': datetime.datetime(2022, 10, 5, 10, 56, 30, 168000),\n",
       "   'author': 'paul_dechorgnat',\n",
       "   'mode': 'single'}}}"
      ]
     },
     "execution_count": 147,
     "metadata": {},
     "output_type": "execute_result"
    }
   ],
   "source": [
    "db[c].find_one({\"_id\": db[c].find_one()[\"_id\"]})"
   ]
  },
  {
   "cell_type": "code",
   "execution_count": 148,
   "id": "80fee63e-3512-44bf-bdba-a0a54e0a70cf",
   "metadata": {},
   "outputs": [],
   "source": [
    "db[c].find_one({\"_id\": str(db[c].find_one()[\"_id\"])})"
   ]
  },
  {
   "cell_type": "code",
   "execution_count": 149,
   "id": "73cd7e28-2e87-409e-8a43-781c54e4eb08",
   "metadata": {},
   "outputs": [],
   "source": [
    "import bson"
   ]
  },
  {
   "cell_type": "code",
   "execution_count": 151,
   "id": "5fb3a757-29a1-4f73-ac6a-f40e6b0ee509",
   "metadata": {},
   "outputs": [
    {
     "data": {
      "text/plain": [
       "{'_id': ObjectId('633d62deb9daeb8a90169ed6'),\n",
       " 'author': 'Brenda Goodman and Deidre McPhillips, CNN',\n",
       " 'date_published': datetime.datetime(2022, 3, 15, 10, 35, 52),\n",
       " 'section': 'health',\n",
       " 'url': 'https://www.cnn.com/2022/03/15/health/covid-rising-uk-us/index.html',\n",
       " 'headline': 'What rising Covid-19 infections in the UK and Europe could mean for the US - CNN',\n",
       " 'source': 'health',\n",
       " 'keywords': ['health',\n",
       "  'rising',\n",
       "  'covid-19',\n",
       "  'infections',\n",
       "  'uk',\n",
       "  'europe',\n",
       "  'could',\n",
       "  'mean',\n",
       "  'us',\n",
       "  'cnn'],\n",
       " 'raw_text': ' (CNN)Two weeks after the United Kingdom dropped its last remaining Covid-19 mitigation measure -- a requirement that people who test positive for the virus isolate for five days -- the country is seeing cases and hospitalizations climb once again.  Covid-19 cases were up 48% in the UK last week compared with the week before. Hospitalizations were up 17% over the same period. The country\\'s daily case rate -- about 55,000 a day -- is still less than a third of the Omicron peak, but cases are rising as fast as they were falling just two weeks earlier, when the country removed pandemic-related restrictions.  Dr. Sanjay Gupta: Is America ready to take the next step in its Covid-19 recovery?Daily cases are also rising in more than half of the countries in the European Union. They\\'ve jumped 48% in the Netherlands and 20% in Germany over the past week, according to data from Johns Hopkins University. But daily cases in Germany had yet to drop below pre-Omicron levels, and the Netherlands hadn\\'t seen cases fall as much as they did in the UK.  The situation in Europe has the attention of public health officials for two reasons: First, the UK offers a preview of what may play out in the United States, and second, something unusual seems to be happening. In previous waves, increases in Covid hospitalizations lagged behind jumps in cases by about 10 days to two weeks. Now, in the UK, cases and hospitalizations seem to be rising in tandem, something that has experts stumped.Read More\"So we\\'re obviously keenly interested in what\\'s going on with that,\" Dr. Anthony Fauci, director of the National Institute of Allergy and Infectious Diseases, told CNN.  Fauci said he\\'s spoken with his UK counterparts, and they have pegged the rise to a combination three factors. In order of contribution, Fauci said, these are:The BA.2 variant, which is more transmissible than the original Omicron The opening of society, with people mingling more indoors without masksWaning immunity from vaccination or prior infectionIn a technical briefing Friday, the UK Health Security Agency said BA.2 had an 80% higher relative growth rate than the original Omicron strain, though it does not seem more likely to lead to hospitalization.  White House warns of \\'severe consequences\\' if Congress doesn\\'t pass supplemental Covid fundingGiven that BA.2 doesn\\'t seem to be causing more severe disease -- at least not in the highly vaccinated British population -- it\\'s not clear why hospitalizations are ticking up.\"The issue with hospitalization is a little bit more puzzling, because although the hospitalizations are going up, it is very clear their use of ICU beds has not increased,\" Fauci said. \"So are the numbers of hospitalizations a real reflection of Covid cases, or is there a difficulty deciphering between people coming into the hospital with Covid or because of Covid?\" The US, like the UK, has lifted most mitigation measures as Covid-19 infections have fallen. Two weeks ago, the US Centers for Disease Control and Prevention changed how it measures Covid-19 impact in communities. The new metric -- which relies on hospitalizations and hospital capacity in addition to cases -- did away with masking recommendations for most parts of the country. States and schools have followed suit, lifting indoor masking requirements.READ: Your top Covid questions, answered\"Without a doubt, opening up society and having people mingle indoors is clearly something that is a contributor, as well as overall waning immunity, which means we\\'ve really got to stay heads-up and keep our eye on the pattern here,\" Fauci said. \"So that\\'s the reason why we\\'re watching this very carefully.\"Michael Osterholm, who directs the Center for Infectious Disease Research and Policy at the University of Minnesota, told CNN, \"it\\'s like a weather alert. Right now, the skies are sunny and bright, and we hope they stay that way. But we could have some bad weather by evening, and we just don\\'t know.\"What will BA.2 do in the US?BA.2 has been growing steadily in the US. Last week, the CDC estimated it was causing about 12% of new Covid-19 cases here.  Meanwhile, BA.2 now accounts for more than 50% of cases in the UK and several other European countries.\"The tipping point seems to be right around 50%,\" said Keri Althoff, an epidemiologist at Johns Hopkins Bloomberg School of Public Health. \"That\\'s when we really start to see that variant flex its power in the population\" as far as showing its severity.Covid-19 cases continue to rise in China\\'s worst outbreak since WuhanAlthoff said although the UK may provide a glimpse of the future, there are key differences that will affect how BA.2 plays out in the United States.In the UK, 86% of eligible people are fully vaccinated, and 67% are boosted, compared with 69% of those eligible vaccinated and 50% boosted in the US. \"What we see happening in the UK is going to be perhaps a better story than what we should be expecting here,\" Althoff said.In the Netherlands, it took about a month for BA.2 to overpower BA.1, she noted. If the same timeline occurs in the US, that will mean the variant is taking off just as the immunity generated by winter\\'s Omicron infections will be waning. Coronavirus wastewater data, CDC guidelines can give mixed signals on whether to mask\"I\\'m concerned about that,\" Althoff said. \"But we were in a similar situation last spring, where we really got hopeful that things were going to settle down, and we got a little bit of a summer, and then we got walloped by Delta.\"It will be important for people to understand they may be able to take their masks off for a few weeks, Althoff said, but they might also need to go back to wearing them regularly if cases spike.\"We could see another wave of illness at our hospitals,\" she said.Althoff will also be closely watching wastewater data over the next few weeks.  \"Wastewater surveillance is an incredible advancement in how we can monitor SARS-CoV-2 and what it\\'s doing in the population without needing, really, any input from people,\" she said. \"Keeping our eye on wastewater surveillance is an important tool to understand where the virus is going and if it\\'s increasing in terms of infection.\"Preparing for the next waveProtection against the next variant has to start with vaccination.\"We absolutely have to continue to find people who are unvaccinated and get them vaccinated,\" Althoff said.Fauci agreed vaccination rates could be better in all age groups, but current numbers are especially bad for kids: Only about a third of kids ages 5 to 11 have been vaccinated and only about half of kids ages 12 to 17.Even though the youngest children, those under 5, can\\'t yet be vaccinated, recent studies have shown young kids are less likely to catch Covid-19 when they\\'re surrounded by vaccinated adults.Get CNN Health\\'s weekly newsletter Sign up here to get The Results Are In with Dr. Sanjay Gupta every Tuesday from the CNN Health team.\"So the way you protect them is to surround the children, to the extent possible, with people who are vaccinated and boosted so that you have somewhat a veil of protection around them,\" Fauci said.It will also be important to continue to be flexible.\"The important thing in this massive experiment where we\\'re dropping all masking and restrictions is we have to stay diligent in terms of monitoring of it and testing and be prepared to possibly reverse a lot of the relaxing of these restrictions,\" said Deborah Fuller, a microbiologist at the University of Washington.\"We can\\'t let our guard down, because the message that people get when they say \\'we\\'re lifting restrictions\\' is the pandemic is over. And it\\'s not,\" she said.',\n",
       " 'hash': 474917999931443897,\n",
       " 'events': {'insertion': {'date': datetime.datetime(2022, 10, 5, 10, 56, 30, 168000),\n",
       "   'author': 'paul_dechorgnat',\n",
       "   'mode': 'single'}}}"
      ]
     },
     "execution_count": 151,
     "metadata": {},
     "output_type": "execute_result"
    }
   ],
   "source": [
    "db[c].find_one({\"_id\": bson.objectid.ObjectId(str(db[c].find_one()[\"_id\"]))})\n"
   ]
  },
  {
   "cell_type": "code",
   "execution_count": 156,
   "id": "e321823b-b781-424b-a117-bf5123348bb5",
   "metadata": {},
   "outputs": [
    {
     "data": {
      "text/plain": [
       "NoneType"
      ]
     },
     "execution_count": 156,
     "metadata": {},
     "output_type": "execute_result"
    }
   ],
   "source": [
    "a = db[c].find_one({\"_id\": bson.objectid.ObjectId(\"933d62deb9daeb8a90169ed6\")})\n",
    "type(a)"
   ]
  },
  {
   "cell_type": "code",
   "execution_count": 157,
   "id": "1097b634-a30c-4bd3-9970-13748cda60d3",
   "metadata": {},
   "outputs": [
    {
     "ename": "InvalidId",
     "evalue": "'933d62b8a90169ed6' is not a valid ObjectId, it must be a 12-byte input or a 24-character hex string",
     "output_type": "error",
     "traceback": [
      "\u001b[0;31m---------------------------------------------------------------------------\u001b[0m",
      "\u001b[0;31mInvalidId\u001b[0m                                 Traceback (most recent call last)",
      "Cell \u001b[0;32mIn [157], line 1\u001b[0m\n\u001b[0;32m----> 1\u001b[0m a \u001b[38;5;241m=\u001b[39m db[c]\u001b[38;5;241m.\u001b[39mfind_one({\u001b[38;5;124m\"\u001b[39m\u001b[38;5;124m_id\u001b[39m\u001b[38;5;124m\"\u001b[39m: bson\u001b[38;5;241m.\u001b[39mobjectid\u001b[38;5;241m.\u001b[39mObjectId(\u001b[38;5;124m\"\u001b[39m\u001b[38;5;124m933d62b8a90169ed6\u001b[39m\u001b[38;5;124m\"\u001b[39m)})\n",
      "File \u001b[0;32m~/Desktop/01_Perso/15_cdc_demo/venv-dev/lib/python3.8/site-packages/bson/objectid.py:103\u001b[0m, in \u001b[0;36mObjectId.__init__\u001b[0;34m(self, oid)\u001b[0m\n\u001b[1;32m    101\u001b[0m     \u001b[38;5;28mself\u001b[39m\u001b[38;5;241m.\u001b[39m__id \u001b[38;5;241m=\u001b[39m oid\n\u001b[1;32m    102\u001b[0m \u001b[38;5;28;01melse\u001b[39;00m:\n\u001b[0;32m--> 103\u001b[0m     \u001b[38;5;28;43mself\u001b[39;49m\u001b[38;5;241;43m.\u001b[39;49m\u001b[43m__validate\u001b[49m\u001b[43m(\u001b[49m\u001b[43moid\u001b[49m\u001b[43m)\u001b[49m\n",
      "File \u001b[0;32m~/Desktop/01_Perso/15_cdc_demo/venv-dev/lib/python3.8/site-packages/bson/objectid.py:203\u001b[0m, in \u001b[0;36mObjectId.__validate\u001b[0;34m(self, oid)\u001b[0m\n\u001b[1;32m    201\u001b[0m             _raise_invalid_id(oid)\n\u001b[1;32m    202\u001b[0m     \u001b[38;5;28;01melse\u001b[39;00m:\n\u001b[0;32m--> 203\u001b[0m         \u001b[43m_raise_invalid_id\u001b[49m\u001b[43m(\u001b[49m\u001b[43moid\u001b[49m\u001b[43m)\u001b[49m\n\u001b[1;32m    204\u001b[0m \u001b[38;5;28;01melse\u001b[39;00m:\n\u001b[1;32m    205\u001b[0m     \u001b[38;5;28;01mraise\u001b[39;00m \u001b[38;5;167;01mTypeError\u001b[39;00m(\n\u001b[1;32m    206\u001b[0m         \u001b[38;5;124m\"\u001b[39m\u001b[38;5;124mid must be an instance of (bytes, str, ObjectId), not \u001b[39m\u001b[38;5;132;01m%s\u001b[39;00m\u001b[38;5;124m\"\u001b[39m \u001b[38;5;241m%\u001b[39m (\u001b[38;5;28mtype\u001b[39m(oid),)\n\u001b[1;32m    207\u001b[0m     )\n",
      "File \u001b[0;32m~/Desktop/01_Perso/15_cdc_demo/venv-dev/lib/python3.8/site-packages/bson/objectid.py:35\u001b[0m, in \u001b[0;36m_raise_invalid_id\u001b[0;34m(oid)\u001b[0m\n\u001b[1;32m     34\u001b[0m \u001b[38;5;28;01mdef\u001b[39;00m \u001b[38;5;21m_raise_invalid_id\u001b[39m(oid: \u001b[38;5;28mstr\u001b[39m) \u001b[38;5;241m-\u001b[39m\u001b[38;5;241m>\u001b[39m NoReturn:\n\u001b[0;32m---> 35\u001b[0m     \u001b[38;5;28;01mraise\u001b[39;00m InvalidId(\n\u001b[1;32m     36\u001b[0m         \u001b[38;5;124m\"\u001b[39m\u001b[38;5;132;01m%r\u001b[39;00m\u001b[38;5;124m is not a valid ObjectId, it must be a 12-byte input\u001b[39m\u001b[38;5;124m\"\u001b[39m\n\u001b[1;32m     37\u001b[0m         \u001b[38;5;124m\"\u001b[39m\u001b[38;5;124m or a 24-character hex string\u001b[39m\u001b[38;5;124m\"\u001b[39m \u001b[38;5;241m%\u001b[39m oid\n\u001b[1;32m     38\u001b[0m     )\n",
      "\u001b[0;31mInvalidId\u001b[0m: '933d62b8a90169ed6' is not a valid ObjectId, it must be a 12-byte input or a 24-character hex string"
     ]
    }
   ],
   "source": [
    "a = db[c].find_one({\"_id\": bson.objectid.ObjectId(\"933d62b8a90169ed6\")})\n"
   ]
  },
  {
   "cell_type": "code",
   "execution_count": null,
   "id": "b7a1a5af-ae6d-4c6c-ad05-dd5cfa745ac0",
   "metadata": {},
   "outputs": [],
   "source": [
    "bson.errors.InvalidId"
   ]
  }
 ],
 "metadata": {
  "kernelspec": {
   "display_name": "Python 3 (ipykernel)",
   "language": "python",
   "name": "python3"
  },
  "language_info": {
   "codemirror_mode": {
    "name": "ipython",
    "version": 3
   },
   "file_extension": ".py",
   "mimetype": "text/x-python",
   "name": "python",
   "nbconvert_exporter": "python",
   "pygments_lexer": "ipython3",
   "version": "3.8.10"
  }
 },
 "nbformat": 4,
 "nbformat_minor": 5
}
