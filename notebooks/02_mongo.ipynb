{
    "cells": [
        {
            "cell_type": "markdown",
            "id": "5a135de2-9158-4236-bd4a-0d4dbf89f83e",
            "metadata": {},
            "source": [
                "# Functions to interact with MongoDB\n"
            ]
        },
        {
            "cell_type": "markdown",
            "id": "98d8f64c-8b0a-46bc-9063-d38cf1016f73",
            "metadata": {},
            "source": [
                "## 1. Setting up mongo container"
            ]
        },
        {
            "cell_type": "code",
            "execution_count": 9,
            "id": "34eb9770-2da5-4532-8065-f8880ff24383",
            "metadata": {},
            "outputs": [
                {
                    "name": "stdout",
                    "output_type": "stream",
                    "text": [
                        "bc6b1b50cf4e0425643a493558bb395c96ab5e837101a0e092c1b7d92635b6ff\n"
                    ]
                }
            ],
            "source": [
                "! docker container run --name my_mongo -d --rm -v `pwd`/../mongo_docker/data:/data/db -p 27017:27017 mongo:latest"
            ]
        },
        {
            "cell_type": "code",
            "execution_count": 10,
            "id": "64667da1-8990-4447-bfb9-93b913ebd5b3",
            "metadata": {},
            "outputs": [
                {
                    "name": "stdout",
                    "output_type": "stream",
                    "text": [
                        "CONTAINER ID        IMAGE               COMMAND                  CREATED             STATUS              PORTS                      NAMES\n",
                        "bc6b1b50cf4e        mongo:latest        \"docker-entrypoint.s…\"   3 seconds ago       Up 2 seconds        0.0.0.0:27017->27017/tcp   my_mongo\n",
                        "d0f0d3339ddd        a1dd85df1762        \"python -m uvicorn a…\"   About an hour ago   Up About an hour    0.0.0.0:8000->8000/tcp     adoring_nightingale\n"
                    ]
                }
            ],
            "source": [
                "! docker container ls "
            ]
        },
        {
            "cell_type": "markdown",
            "id": "43abfcc9-a34c-4a7b-98db-86786a8373b8",
            "metadata": {},
            "source": [
                "## 2. Connection with Pymongo"
            ]
        },
        {
            "cell_type": "code",
            "execution_count": 11,
            "id": "9ff6e5c3-5718-4ff5-82bd-2d53b4e4ee18",
            "metadata": {},
            "outputs": [],
            "source": [
                "from pymongo import MongoClient\n",
                "\n",
                "client = MongoClient(host=\"mongodb://localhost:27017\")"
            ]
        },
        {
            "cell_type": "code",
            "execution_count": 12,
            "id": "5c294c24-69dd-43ac-ad71-5125512f7856",
            "metadata": {},
            "outputs": [
                {
                    "data": {
                        "text/plain": [
                            "['admin', 'config', 'local', 'test']"
                        ]
                    },
                    "execution_count": 12,
                    "metadata": {},
                    "output_type": "execute_result"
                }
            ],
            "source": [
                "client.list_database_names()"
            ]
        },
        {
            "cell_type": "code",
            "execution_count": 116,
            "id": "3f1ee056-8d9d-485b-b733-d2d37c26b9b4",
            "metadata": {},
            "outputs": [
                {
                    "data": {
                        "text/plain": [
                            "['my_collection']"
                        ]
                    },
                    "execution_count": 116,
                    "metadata": {},
                    "output_type": "execute_result"
                }
            ],
            "source": [
                "client[\"test\"].list_collection_names()"
            ]
        },
        {
            "cell_type": "code",
            "execution_count": 117,
            "id": "66c3d723-c154-427a-b779-c25d53a78c9f",
            "metadata": {},
            "outputs": [
                {
                    "name": "stdout",
                    "output_type": "stream",
                    "text": [
                        "4\n",
                        "{'_id': ObjectId('633c583217bb780a9c10ebc4')}\n"
                    ]
                }
            ],
            "source": [
                "col = client[\"test\"][\"my_collection\"]\n",
                "print(col.count_documents(filter={}))\n",
                "print(col.find_one())"
            ]
        },
        {
            "cell_type": "markdown",
            "id": "20b30bea-6e4e-448c-9d58-4a2ee3c92e3e",
            "metadata": {},
            "source": [
                "## 3. Exploring data"
            ]
        },
        {
            "cell_type": "code",
            "execution_count": 20,
            "id": "f73e9d9a-75e3-4347-934a-28de1388a32a",
            "metadata": {},
            "outputs": [
                {
                    "data": {
                        "text/html": [
                            "<div>\n",
                            "<style scoped>\n",
                            "    .dataframe tbody tr th:only-of-type {\n",
                            "        vertical-align: middle;\n",
                            "    }\n",
                            "\n",
                            "    .dataframe tbody tr th {\n",
                            "        vertical-align: top;\n",
                            "    }\n",
                            "\n",
                            "    .dataframe thead th {\n",
                            "        text-align: right;\n",
                            "    }\n",
                            "</style>\n",
                            "<table border=\"1\" class=\"dataframe\">\n",
                            "  <thead>\n",
                            "    <tr style=\"text-align: right;\">\n",
                            "      <th></th>\n",
                            "      <th>Index</th>\n",
                            "      <th>Author</th>\n",
                            "      <th>Date published</th>\n",
                            "      <th>Category</th>\n",
                            "      <th>Section</th>\n",
                            "      <th>Url</th>\n",
                            "      <th>Headline</th>\n",
                            "      <th>Description</th>\n",
                            "      <th>Keywords</th>\n",
                            "      <th>Second headline</th>\n",
                            "      <th>Article text</th>\n",
                            "    </tr>\n",
                            "  </thead>\n",
                            "  <tbody>\n",
                            "    <tr>\n",
                            "      <th>0</th>\n",
                            "      <td>0</td>\n",
                            "      <td>Jacopo Prisco, CNN</td>\n",
                            "      <td>2021-07-15 02:46:59</td>\n",
                            "      <td>news</td>\n",
                            "      <td>world</td>\n",
                            "      <td>https://www.cnn.com/2021/07/14/world/tusimple-...</td>\n",
                            "      <td>There's a shortage of truckers, but TuSimple t...</td>\n",
                            "      <td>The e-commerce boom has exacerbated a global t...</td>\n",
                            "      <td>world, There's a shortage of truckers, but TuS...</td>\n",
                            "      <td>There's a shortage of truckers, but TuSimple t...</td>\n",
                            "      <td>(CNN)Right now, there's a shortage of truck d...</td>\n",
                            "    </tr>\n",
                            "    <tr>\n",
                            "      <th>1</th>\n",
                            "      <td>2</td>\n",
                            "      <td>Stephanie Bailey, CNN</td>\n",
                            "      <td>2021-05-12 07:52:09</td>\n",
                            "      <td>news</td>\n",
                            "      <td>world</td>\n",
                            "      <td>https://www.cnn.com/2021/05/12/world/ironhand-...</td>\n",
                            "      <td>Bioservo's robotic 'Ironhand' could protect fa...</td>\n",
                            "      <td>Working in a factory can mean doing the same t...</td>\n",
                            "      <td>world, Bioservo's robotic 'Ironhand' could pro...</td>\n",
                            "      <td>A robotic 'Ironhand' could protect factory wor...</td>\n",
                            "      <td>(CNN)Working in a factory or warehouse can me...</td>\n",
                            "    </tr>\n",
                            "    <tr>\n",
                            "      <th>2</th>\n",
                            "      <td>3</td>\n",
                            "      <td>Words by Stephanie Bailey, video by Zahra Jamshed</td>\n",
                            "      <td>2021-06-16 02:51:30</td>\n",
                            "      <td>news</td>\n",
                            "      <td>asia</td>\n",
                            "      <td>https://www.cnn.com/2021/06/15/asia/swarm-robo...</td>\n",
                            "      <td>This swarm of robots gets smarter the more it ...</td>\n",
                            "      <td>In a Hong Kong warehouse, a swarm of autonomou...</td>\n",
                            "      <td>asia, This swarm of robots gets smarter the mo...</td>\n",
                            "      <td>This swarm of robots gets smarter the more it ...</td>\n",
                            "      <td>(CNN)In a Hong Kong warehouse, a swarm of aut...</td>\n",
                            "    </tr>\n",
                            "    <tr>\n",
                            "      <th>3</th>\n",
                            "      <td>4</td>\n",
                            "      <td>Paul R. La Monica, CNN Business</td>\n",
                            "      <td>2022-03-15 09:57:36</td>\n",
                            "      <td>business</td>\n",
                            "      <td>investing</td>\n",
                            "      <td>https://www.cnn.com/2022/03/15/investing/brics...</td>\n",
                            "      <td>Russia is no longer an option for investors. T...</td>\n",
                            "      <td>For many years, the world's most popular emerg...</td>\n",
                            "      <td>investing, Russia is no longer an option for i...</td>\n",
                            "      <td>Russia is no longer an option for investors. T...</td>\n",
                            "      <td>New York (CNN Business)For many years, the wor...</td>\n",
                            "    </tr>\n",
                            "    <tr>\n",
                            "      <th>4</th>\n",
                            "      <td>7</td>\n",
                            "      <td>Reuters</td>\n",
                            "      <td>2022-03-15 11:27:02</td>\n",
                            "      <td>business</td>\n",
                            "      <td>business</td>\n",
                            "      <td>https://www.cnn.com/2022/03/15/business/russia...</td>\n",
                            "      <td>Russian energy investment ban part of new EU s...</td>\n",
                            "      <td>The European Union formally approved on Tuesda...</td>\n",
                            "      <td>business, Russian energy investment ban part o...</td>\n",
                            "      <td>EU bans investment in Russian energy in new sa...</td>\n",
                            "      <td>The European Union formally approved on Tuesda...</td>\n",
                            "    </tr>\n",
                            "  </tbody>\n",
                            "</table>\n",
                            "</div>"
                        ],
                        "text/plain": [
                            "   Index                                             Author  \\\n",
                            "0      0                                 Jacopo Prisco, CNN   \n",
                            "1      2                              Stephanie Bailey, CNN   \n",
                            "2      3  Words by Stephanie Bailey, video by Zahra Jamshed   \n",
                            "3      4                    Paul R. La Monica, CNN Business   \n",
                            "4      7                                            Reuters   \n",
                            "\n",
                            "        Date published  Category    Section  \\\n",
                            "0  2021-07-15 02:46:59      news      world   \n",
                            "1  2021-05-12 07:52:09      news      world   \n",
                            "2  2021-06-16 02:51:30      news       asia   \n",
                            "3  2022-03-15 09:57:36  business  investing   \n",
                            "4  2022-03-15 11:27:02  business   business   \n",
                            "\n",
                            "                                                 Url  \\\n",
                            "0  https://www.cnn.com/2021/07/14/world/tusimple-...   \n",
                            "1  https://www.cnn.com/2021/05/12/world/ironhand-...   \n",
                            "2  https://www.cnn.com/2021/06/15/asia/swarm-robo...   \n",
                            "3  https://www.cnn.com/2022/03/15/investing/brics...   \n",
                            "4  https://www.cnn.com/2022/03/15/business/russia...   \n",
                            "\n",
                            "                                            Headline  \\\n",
                            "0  There's a shortage of truckers, but TuSimple t...   \n",
                            "1  Bioservo's robotic 'Ironhand' could protect fa...   \n",
                            "2  This swarm of robots gets smarter the more it ...   \n",
                            "3  Russia is no longer an option for investors. T...   \n",
                            "4  Russian energy investment ban part of new EU s...   \n",
                            "\n",
                            "                                         Description  \\\n",
                            "0  The e-commerce boom has exacerbated a global t...   \n",
                            "1  Working in a factory can mean doing the same t...   \n",
                            "2  In a Hong Kong warehouse, a swarm of autonomou...   \n",
                            "3  For many years, the world's most popular emerg...   \n",
                            "4  The European Union formally approved on Tuesda...   \n",
                            "\n",
                            "                                            Keywords  \\\n",
                            "0  world, There's a shortage of truckers, but TuS...   \n",
                            "1  world, Bioservo's robotic 'Ironhand' could pro...   \n",
                            "2  asia, This swarm of robots gets smarter the mo...   \n",
                            "3  investing, Russia is no longer an option for i...   \n",
                            "4  business, Russian energy investment ban part o...   \n",
                            "\n",
                            "                                     Second headline  \\\n",
                            "0  There's a shortage of truckers, but TuSimple t...   \n",
                            "1  A robotic 'Ironhand' could protect factory wor...   \n",
                            "2  This swarm of robots gets smarter the more it ...   \n",
                            "3  Russia is no longer an option for investors. T...   \n",
                            "4  EU bans investment in Russian energy in new sa...   \n",
                            "\n",
                            "                                        Article text  \n",
                            "0   (CNN)Right now, there's a shortage of truck d...  \n",
                            "1   (CNN)Working in a factory or warehouse can me...  \n",
                            "2   (CNN)In a Hong Kong warehouse, a swarm of aut...  \n",
                            "3  New York (CNN Business)For many years, the wor...  \n",
                            "4  The European Union formally approved on Tuesda...  "
                        ]
                    },
                    "execution_count": 20,
                    "metadata": {},
                    "output_type": "execute_result"
                }
            ],
            "source": [
                "import pandas as pd\n",
                "\n",
                "df = pd.read_csv(\"../data/CNN_Articels_clean/CNN_Articels_clean.csv\")\n",
                "df.head()"
            ]
        },
        {
            "cell_type": "code",
            "execution_count": 26,
            "id": "a0377757-6a2c-4114-bc0a-1934c5fc599d",
            "metadata": {},
            "outputs": [
                {
                    "data": {
                        "text/plain": [
                            "1286"
                        ]
                    },
                    "execution_count": 26,
                    "metadata": {},
                    "output_type": "execute_result"
                }
            ],
            "source": [
                "a = df[\"Category\"] + \", \" + df[\"Headline\"] == df[\"Keywords\"]\n",
                "\n",
                "sum(a)"
            ]
        },
        {
            "cell_type": "code",
            "execution_count": 27,
            "id": "d2f2e72c-d5c8-4e2f-ba5e-f6d217cc0ed5",
            "metadata": {},
            "outputs": [
                {
                    "data": {
                        "text/plain": [
                            "0       world, There's a shortage of truckers, but TuS...\n",
                            "1       world, Bioservo's robotic 'Ironhand' could pro...\n",
                            "2       asia, This swarm of robots gets smarter the mo...\n",
                            "3       investing, Russia is no longer an option for i...\n",
                            "5       media, Anti-war protester interrupts live Russ...\n",
                            "                              ...                        \n",
                            "4071    tennis, Australian Open: Australia's vaccine m...\n",
                            "4072    golf, Four golfers test positive ahead of Sout...\n",
                            "4073    tennis, Peng Shuai: 'Unanimous conclusion' tha...\n",
                            "4074    europe, This company is \"zapping\" cow dung wit...\n",
                            "4075    golf, Tiger Woods: Is this the end of his era?...\n",
                            "Name: Keywords, Length: 2790, dtype: object"
                        ]
                    },
                    "execution_count": 27,
                    "metadata": {},
                    "output_type": "execute_result"
                }
            ],
            "source": [
                "df.loc[-a, \"Keywords\"]"
            ]
        },
        {
            "cell_type": "markdown",
            "id": "97c842d7-f26f-4884-8785-010ebdca929a",
            "metadata": {},
            "source": [
                "We'll build our own keywords:"
            ]
        },
        {
            "cell_type": "code",
            "execution_count": 54,
            "id": "79e03f36-a1ee-4dee-b841-8378bc459cc1",
            "metadata": {},
            "outputs": [
                {
                    "name": "stdout",
                    "output_type": "stream",
                    "text": [
                        "179\n"
                    ]
                }
            ],
            "source": [
                "from nltk.corpus import stopwords\n",
                "from nltk.tokenize import word_tokenize\n",
                "\n",
                "tokenizer = NLTKWordTokenizer()\n",
                "\n",
                "stop_words = set(stopwords.words(\"english\"))\n",
                "print(len(stop_words))\n",
                "\n",
                "stop_words.update([\",\", \".\", \":\", \"?\", \"!\", \";\", \"-\", \"'s\", \"'\"])\n",
                "\n",
                "keywords = df[\"Keywords\"].str.lower().apply(tokenizer.tokenize)\n",
                "keywords = keywords.apply(lambda x: [i for i in x if i not in stop_words])\n",
                "\n",
                "df[\"new_keywords\"] = keywords"
            ]
        },
        {
            "cell_type": "code",
            "execution_count": 55,
            "id": "6b54816f-b674-479b-a70b-0d19badd1b7c",
            "metadata": {},
            "outputs": [
                {
                    "data": {
                        "text/plain": [
                            "sport            2176\n",
                            "news             1611\n",
                            "business          104\n",
                            "politics           75\n",
                            "entertainment      58\n",
                            "health             52\n",
                            "Name: Category, dtype: int64"
                        ]
                    },
                    "execution_count": 55,
                    "metadata": {},
                    "output_type": "execute_result"
                }
            ],
            "source": [
                "df[\"Category\"].value_counts()"
            ]
        },
        {
            "cell_type": "code",
            "execution_count": 56,
            "id": "45f07860-873f-4ce1-942b-f2e7628e0105",
            "metadata": {},
            "outputs": [
                {
                    "data": {
                        "text/plain": [
                            "sport             1088\n",
                            "europe             800\n",
                            "football           618\n",
                            "uk                 376\n",
                            "tennis             197\n",
                            "golf               173\n",
                            "us                 134\n",
                            "australia          114\n",
                            "motorsport         100\n",
                            "politics            75\n",
                            "entertainment       56\n",
                            "health              52\n",
                            "africa              49\n",
                            "opinions            45\n",
                            "world               44\n",
                            "perspectives        25\n",
                            "business            23\n",
                            "weather             18\n",
                            "tech                15\n",
                            "investing            9\n",
                            "asia                 9\n",
                            "success              9\n",
                            "economy              8\n",
                            "living               7\n",
                            "homes                6\n",
                            "china                5\n",
                            "middleeast           5\n",
                            "energy               3\n",
                            "americas             3\n",
                            "business-money       2\n",
                            "media                2\n",
                            "celebrities          1\n",
                            "movies               1\n",
                            "india                1\n",
                            "intl_world           1\n",
                            "business-food        1\n",
                            "cars                 1\n",
                            "Name: Section, dtype: int64"
                        ]
                    },
                    "execution_count": 56,
                    "metadata": {},
                    "output_type": "execute_result"
                }
            ],
            "source": [
                "df[\"Section\"].value_counts()"
            ]
        },
        {
            "cell_type": "code",
            "execution_count": 59,
            "id": "62316b56-6a4e-4139-8d5c-32e4e1e667be",
            "metadata": {},
            "outputs": [
                {
                    "data": {
                        "text/plain": [
                            "Index(['index', 'author', 'date_published', 'category', 'section', 'url',\n",
                            "       'headline', 'description', 'keywords', 'second_headline',\n",
                            "       'article_text', 'new_keywords'],\n",
                            "      dtype='object')"
                        ]
                    },
                    "execution_count": 59,
                    "metadata": {},
                    "output_type": "execute_result"
                }
            ],
            "source": [
                "df.columns = [c.replace(\" \", \"_\").lower() for c in df.columns]\n",
                "df.columns"
            ]
        },
        {
            "cell_type": "markdown",
            "id": "371c48b4-0f93-4b1d-8d51-d02b9a7ef3ae",
            "metadata": {},
            "source": [
                "## 4. Insertion"
            ]
        },
        {
            "cell_type": "code",
            "execution_count": null,
            "id": "acefd4cb-de2e-459a-841e-4c2ef7d35404",
            "metadata": {},
            "outputs": [],
            "source": [
                "import pandas as pd\n",
                "\n",
                "df = pd.read_csv(\"../data/CNN_Articels_clean/CNN_Articels_clean.csv\")\n",
                "df.head()"
            ]
        },
        {
            "cell_type": "code",
            "execution_count": 102,
            "id": "765ee4aa-d9b1-48d7-9916-74dc68c038ab",
            "metadata": {},
            "outputs": [],
            "source": [
                "client = MongoClient()\n",
                "db = client[\"articles\"]"
            ]
        },
        {
            "cell_type": "code",
            "execution_count": null,
            "id": "77f2205f-2f60-4ef8-ba76-44855a730c56",
            "metadata": {},
            "outputs": [],
            "source": [
                "from nltk.corpus import stopwords\n",
                "from nltk.tokenize import word_tokenize\n",
                "\n",
                "tokenizer = NLTKWordTokenizer()\n",
                "\n",
                "stop_words = set(stopwords.words(\"english\"))\n",
                "print(len(stop_words))\n",
                "\n",
                "stop_words.update([\",\", \".\", \":\", \"?\", \"!\", \";\", \"-\", \"'s\", \"'\"])\n",
                "\n",
                "keywords = df[\"Keywords\"].str.lower().apply(tokenizer.tokenize)\n",
                "keywords = keywords.apply(lambda x: [i for i in x if i not in stop_words])\n",
                "\n",
                "df[\"new_keywords\"] = keywords"
            ]
        },
        {
            "cell_type": "code",
            "execution_count": null,
            "id": "37b5f8fa-a1f6-48db-bbcb-d857b2f47f5a",
            "metadata": {},
            "outputs": [],
            "source": [
                "df.columns = [c.replace(\" \", \"_\").lower() for c in df.columns]\n",
                "df.columns"
            ]
        },
        {
            "cell_type": "code",
            "execution_count": 175,
            "id": "7f12bfb2-a53a-4eb0-a0af-8a67365e280c",
            "metadata": {},
            "outputs": [
                {
                    "name": "stderr",
                    "output_type": "stream",
                    "text": [
                        "100%|██████████████████████████████████████████████████████████████████████████████████████████████████████████████████████████| 4076/4076 [00:00<00:00, 71071.58it/s]\n"
                    ]
                }
            ],
            "source": [
                "category_counter = {}\n",
                "\n",
                "remaining = []\n",
                "\n",
                "records = df[[\"author\", \"date_published\", \"category\", \"section\", \"url\", \"headline\", \"new_keywords\", \"article_text\"]].to_dict(orient=\"records\")\n",
                "\n",
                "\n",
                "import datetime\n",
                "from tqdm import tqdm\n",
                "\n",
                "for c in db.list_collection_names():\n",
                "    db[c].delete_many({})\n",
                "\n",
                "\n",
                "for r in tqdm(records):\n",
                "    category = r.pop(\"category\")\n",
                "    r[\"source\"] = category\n",
                "    r[\"keywords\"] = r.pop(\"new_keywords\")\n",
                "    r[\"raw_text\"] = r.pop(\"article_text\")\n",
                "    \n",
                "    if category_counter.get(category, 0) > 9:\n",
                "        r[\"category\"] = category\n",
                "        remaining.append(r)\n",
                "    else:\n",
                "        r[\"date_published\"] = datetime.datetime.fromisoformat(r[\"date_published\"])\n",
                "        r[\"hash\"] = hash(r[\"raw_text\"])\n",
                "        r[\"events\"] = [{\"type\": \"insertion\", \"date\": datetime.datetime.utcnow(), \"author\": \"paul_dechorgnat\", \"mode\": \"single\"}]\n",
                "\n",
                "        db[category].insert_one(r)\n",
                "    \n",
                "    category_counter[category] = category_counter.get(category, 0) + 1"
            ]
        },
        {
            "cell_type": "code",
            "execution_count": 176,
            "id": "c4f27a44-3371-42b9-938c-24c1b49c348e",
            "metadata": {},
            "outputs": [],
            "source": [
                "import json\n",
                "\n",
                "for i in range(10):\n",
                "    with open(f\"../data/record_{i}.json\", \"w\") as file:\n",
                "        json.dump(remaining[i], file)\n",
                "\n",
                "with open(\"../data/records.json\", \"w\") as file:\n",
                "    json.dump(remaining[:10], file)"
            ]
        },
        {
            "cell_type": "code",
            "execution_count": 177,
            "id": "ce172e50-2eab-4647-b6c4-afa9af2f5bae",
            "metadata": {},
            "outputs": [
                {
                    "name": "stdout",
                    "output_type": "stream",
                    "text": [
                        "CNN_Articels_clean  record_2.json  record_5.json  record_8.json\n",
                        "record_0.json\t    record_3.json  record_6.json  record_9.json\n",
                        "record_1.json\t    record_4.json  record_7.json  records.json\n"
                    ]
                }
            ],
            "source": [
                "! ls ../data"
            ]
        },
        {
            "cell_type": "code",
            "execution_count": 178,
            "id": "495896bb-23a7-4f33-83f7-de8367d43bb6",
            "metadata": {},
            "outputs": [
                {
                    "name": "stdout",
                    "output_type": "stream",
                    "text": [
                        "sport: 10\n",
                        "entertainment: 10\n",
                        "politics: 10\n",
                        "news: 10\n",
                        "test: 0\n",
                        "business: 10\n",
                        "health: 10\n"
                    ]
                }
            ],
            "source": [
                "for c in db.list_collection_names():\n",
                "    print(f\"{c}: {db[c].count_documents({})}\")"
            ]
        },
        {
            "cell_type": "markdown",
            "id": "aef1d4fa-8102-4499-bb87-a944372180e5",
            "metadata": {},
            "source": [
                "## 5. Tests"
            ]
        },
        {
            "cell_type": "code",
            "execution_count": 130,
            "id": "32bb6063-e5c8-4cd3-b1bf-26bb6571501b",
            "metadata": {},
            "outputs": [
                {
                    "data": {
                        "text/plain": [
                            "'633d62deb9daeb8a90169ed6'"
                        ]
                    },
                    "execution_count": 130,
                    "metadata": {},
                    "output_type": "execute_result"
                }
            ],
            "source": [
                "str(db[c].find_one()[\"_id\"])"
            ]
        },
        {
            "cell_type": "code",
            "execution_count": 142,
            "id": "3c5cd5aa-de3f-42b8-868f-446dd08c7397",
            "metadata": {},
            "outputs": [],
            "source": [
                "db[c].find_one({\"_id\": \"lol\"})"
            ]
        },
        {
            "cell_type": "code",
            "execution_count": null,
            "id": "7f17ef3d-e2b2-40f1-a0b8-1e0f911473cf",
            "metadata": {},
            "outputs": [],
            "source": []
        },
        {
            "cell_type": "code",
            "execution_count": 147,
            "id": "2cc98d3a-58fc-4a97-b44a-090cfab6dfd0",
            "metadata": {},
            "outputs": [
                {
                    "data": {
                        "text/plain": [
                            "{'_id': ObjectId('633d62deb9daeb8a90169ed6'),\n",
                            " 'author': 'Brenda Goodman and Deidre McPhillips, CNN',\n",
                            " 'date_published': datetime.datetime(2022, 3, 15, 10, 35, 52),\n",
                            " 'section': 'health',\n",
                            " 'url': 'https://www.cnn.com/2022/03/15/health/covid-rising-uk-us/index.html',\n",
                            " 'headline': 'What rising Covid-19 infections in the UK and Europe could mean for the US - CNN',\n",
                            " 'source': 'health',\n",
                            " 'keywords': ['health',\n",
                            "  'rising',\n",
                            "  'covid-19',\n",
                            "  'infections',\n",
                            "  'uk',\n",
                            "  'europe',\n",
                            "  'could',\n",
                            "  'mean',\n",
                            "  'us',\n",
                            "  'cnn'],\n",
                            " 'raw_text': ' (CNN)Two weeks after the United Kingdom dropped its last remaining Covid-19 mitigation measure -- a requirement that people who test positive for the virus isolate for five days -- the country is seeing cases and hospitalizations climb once again.  Covid-19 cases were up 48% in the UK last week compared with the week before. Hospitalizations were up 17% over the same period. The country\\'s daily case rate -- about 55,000 a day -- is still less than a third of the Omicron peak, but cases are rising as fast as they were falling just two weeks earlier, when the country removed pandemic-related restrictions.  Dr. Sanjay Gupta: Is America ready to take the next step in its Covid-19 recovery?Daily cases are also rising in more than half of the countries in the European Union. They\\'ve jumped 48% in the Netherlands and 20% in Germany over the past week, according to data from Johns Hopkins University. But daily cases in Germany had yet to drop below pre-Omicron levels, and the Netherlands hadn\\'t seen cases fall as much as they did in the UK.  The situation in Europe has the attention of public health officials for two reasons: First, the UK offers a preview of what may play out in the United States, and second, something unusual seems to be happening. In previous waves, increases in Covid hospitalizations lagged behind jumps in cases by about 10 days to two weeks. Now, in the UK, cases and hospitalizations seem to be rising in tandem, something that has experts stumped.Read More\"So we\\'re obviously keenly interested in what\\'s going on with that,\" Dr. Anthony Fauci, director of the National Institute of Allergy and Infectious Diseases, told CNN.  Fauci said he\\'s spoken with his UK counterparts, and they have pegged the rise to a combination three factors. In order of contribution, Fauci said, these are:The BA.2 variant, which is more transmissible than the original Omicron The opening of society, with people mingling more indoors without masksWaning immunity from vaccination or prior infectionIn a technical briefing Friday, the UK Health Security Agency said BA.2 had an 80% higher relative growth rate than the original Omicron strain, though it does not seem more likely to lead to hospitalization.  White House warns of \\'severe consequences\\' if Congress doesn\\'t pass supplemental Covid fundingGiven that BA.2 doesn\\'t seem to be causing more severe disease -- at least not in the highly vaccinated British population -- it\\'s not clear why hospitalizations are ticking up.\"The issue with hospitalization is a little bit more puzzling, because although the hospitalizations are going up, it is very clear their use of ICU beds has not increased,\" Fauci said. \"So are the numbers of hospitalizations a real reflection of Covid cases, or is there a difficulty deciphering between people coming into the hospital with Covid or because of Covid?\" The US, like the UK, has lifted most mitigation measures as Covid-19 infections have fallen. Two weeks ago, the US Centers for Disease Control and Prevention changed how it measures Covid-19 impact in communities. The new metric -- which relies on hospitalizations and hospital capacity in addition to cases -- did away with masking recommendations for most parts of the country. States and schools have followed suit, lifting indoor masking requirements.READ: Your top Covid questions, answered\"Without a doubt, opening up society and having people mingle indoors is clearly something that is a contributor, as well as overall waning immunity, which means we\\'ve really got to stay heads-up and keep our eye on the pattern here,\" Fauci said. \"So that\\'s the reason why we\\'re watching this very carefully.\"Michael Osterholm, who directs the Center for Infectious Disease Research and Policy at the University of Minnesota, told CNN, \"it\\'s like a weather alert. Right now, the skies are sunny and bright, and we hope they stay that way. But we could have some bad weather by evening, and we just don\\'t know.\"What will BA.2 do in the US?BA.2 has been growing steadily in the US. Last week, the CDC estimated it was causing about 12% of new Covid-19 cases here.  Meanwhile, BA.2 now accounts for more than 50% of cases in the UK and several other European countries.\"The tipping point seems to be right around 50%,\" said Keri Althoff, an epidemiologist at Johns Hopkins Bloomberg School of Public Health. \"That\\'s when we really start to see that variant flex its power in the population\" as far as showing its severity.Covid-19 cases continue to rise in China\\'s worst outbreak since WuhanAlthoff said although the UK may provide a glimpse of the future, there are key differences that will affect how BA.2 plays out in the United States.In the UK, 86% of eligible people are fully vaccinated, and 67% are boosted, compared with 69% of those eligible vaccinated and 50% boosted in the US. \"What we see happening in the UK is going to be perhaps a better story than what we should be expecting here,\" Althoff said.In the Netherlands, it took about a month for BA.2 to overpower BA.1, she noted. If the same timeline occurs in the US, that will mean the variant is taking off just as the immunity generated by winter\\'s Omicron infections will be waning. Coronavirus wastewater data, CDC guidelines can give mixed signals on whether to mask\"I\\'m concerned about that,\" Althoff said. \"But we were in a similar situation last spring, where we really got hopeful that things were going to settle down, and we got a little bit of a summer, and then we got walloped by Delta.\"It will be important for people to understand they may be able to take their masks off for a few weeks, Althoff said, but they might also need to go back to wearing them regularly if cases spike.\"We could see another wave of illness at our hospitals,\" she said.Althoff will also be closely watching wastewater data over the next few weeks.  \"Wastewater surveillance is an incredible advancement in how we can monitor SARS-CoV-2 and what it\\'s doing in the population without needing, really, any input from people,\" she said. \"Keeping our eye on wastewater surveillance is an important tool to understand where the virus is going and if it\\'s increasing in terms of infection.\"Preparing for the next waveProtection against the next variant has to start with vaccination.\"We absolutely have to continue to find people who are unvaccinated and get them vaccinated,\" Althoff said.Fauci agreed vaccination rates could be better in all age groups, but current numbers are especially bad for kids: Only about a third of kids ages 5 to 11 have been vaccinated and only about half of kids ages 12 to 17.Even though the youngest children, those under 5, can\\'t yet be vaccinated, recent studies have shown young kids are less likely to catch Covid-19 when they\\'re surrounded by vaccinated adults.Get CNN Health\\'s weekly newsletter Sign up here to get The Results Are In with Dr. Sanjay Gupta every Tuesday from the CNN Health team.\"So the way you protect them is to surround the children, to the extent possible, with people who are vaccinated and boosted so that you have somewhat a veil of protection around them,\" Fauci said.It will also be important to continue to be flexible.\"The important thing in this massive experiment where we\\'re dropping all masking and restrictions is we have to stay diligent in terms of monitoring of it and testing and be prepared to possibly reverse a lot of the relaxing of these restrictions,\" said Deborah Fuller, a microbiologist at the University of Washington.\"We can\\'t let our guard down, because the message that people get when they say \\'we\\'re lifting restrictions\\' is the pandemic is over. And it\\'s not,\" she said.',\n",
                            " 'hash': 474917999931443897,\n",
                            " 'events': {'insertion': {'date': datetime.datetime(2022, 10, 5, 10, 56, 30, 168000),\n",
                            "   'author': 'paul_dechorgnat',\n",
                            "   'mode': 'single'}}}"
                        ]
                    },
                    "execution_count": 147,
                    "metadata": {},
                    "output_type": "execute_result"
                }
            ],
            "source": [
                "db[c].find_one({\"_id\": db[c].find_one()[\"_id\"]})"
            ]
        },
        {
            "cell_type": "code",
            "execution_count": 148,
            "id": "80fee63e-3512-44bf-bdba-a0a54e0a70cf",
            "metadata": {},
            "outputs": [],
            "source": [
                "db[c].find_one({\"_id\": str(db[c].find_one()[\"_id\"])})"
            ]
        },
        {
            "cell_type": "code",
            "execution_count": 149,
            "id": "73cd7e28-2e87-409e-8a43-781c54e4eb08",
            "metadata": {},
            "outputs": [],
            "source": [
                "import bson"
            ]
        },
        {
            "cell_type": "code",
            "execution_count": 151,
            "id": "5fb3a757-29a1-4f73-ac6a-f40e6b0ee509",
            "metadata": {},
            "outputs": [
                {
                    "data": {
                        "text/plain": [
                            "{'_id': ObjectId('633d62deb9daeb8a90169ed6'),\n",
                            " 'author': 'Brenda Goodman and Deidre McPhillips, CNN',\n",
                            " 'date_published': datetime.datetime(2022, 3, 15, 10, 35, 52),\n",
                            " 'section': 'health',\n",
                            " 'url': 'https://www.cnn.com/2022/03/15/health/covid-rising-uk-us/index.html',\n",
                            " 'headline': 'What rising Covid-19 infections in the UK and Europe could mean for the US - CNN',\n",
                            " 'source': 'health',\n",
                            " 'keywords': ['health',\n",
                            "  'rising',\n",
                            "  'covid-19',\n",
                            "  'infections',\n",
                            "  'uk',\n",
                            "  'europe',\n",
                            "  'could',\n",
                            "  'mean',\n",
                            "  'us',\n",
                            "  'cnn'],\n",
                            " 'raw_text': ' (CNN)Two weeks after the United Kingdom dropped its last remaining Covid-19 mitigation measure -- a requirement that people who test positive for the virus isolate for five days -- the country is seeing cases and hospitalizations climb once again.  Covid-19 cases were up 48% in the UK last week compared with the week before. Hospitalizations were up 17% over the same period. The country\\'s daily case rate -- about 55,000 a day -- is still less than a third of the Omicron peak, but cases are rising as fast as they were falling just two weeks earlier, when the country removed pandemic-related restrictions.  Dr. Sanjay Gupta: Is America ready to take the next step in its Covid-19 recovery?Daily cases are also rising in more than half of the countries in the European Union. They\\'ve jumped 48% in the Netherlands and 20% in Germany over the past week, according to data from Johns Hopkins University. But daily cases in Germany had yet to drop below pre-Omicron levels, and the Netherlands hadn\\'t seen cases fall as much as they did in the UK.  The situation in Europe has the attention of public health officials for two reasons: First, the UK offers a preview of what may play out in the United States, and second, something unusual seems to be happening. In previous waves, increases in Covid hospitalizations lagged behind jumps in cases by about 10 days to two weeks. Now, in the UK, cases and hospitalizations seem to be rising in tandem, something that has experts stumped.Read More\"So we\\'re obviously keenly interested in what\\'s going on with that,\" Dr. Anthony Fauci, director of the National Institute of Allergy and Infectious Diseases, told CNN.  Fauci said he\\'s spoken with his UK counterparts, and they have pegged the rise to a combination three factors. In order of contribution, Fauci said, these are:The BA.2 variant, which is more transmissible than the original Omicron The opening of society, with people mingling more indoors without masksWaning immunity from vaccination or prior infectionIn a technical briefing Friday, the UK Health Security Agency said BA.2 had an 80% higher relative growth rate than the original Omicron strain, though it does not seem more likely to lead to hospitalization.  White House warns of \\'severe consequences\\' if Congress doesn\\'t pass supplemental Covid fundingGiven that BA.2 doesn\\'t seem to be causing more severe disease -- at least not in the highly vaccinated British population -- it\\'s not clear why hospitalizations are ticking up.\"The issue with hospitalization is a little bit more puzzling, because although the hospitalizations are going up, it is very clear their use of ICU beds has not increased,\" Fauci said. \"So are the numbers of hospitalizations a real reflection of Covid cases, or is there a difficulty deciphering between people coming into the hospital with Covid or because of Covid?\" The US, like the UK, has lifted most mitigation measures as Covid-19 infections have fallen. Two weeks ago, the US Centers for Disease Control and Prevention changed how it measures Covid-19 impact in communities. The new metric -- which relies on hospitalizations and hospital capacity in addition to cases -- did away with masking recommendations for most parts of the country. States and schools have followed suit, lifting indoor masking requirements.READ: Your top Covid questions, answered\"Without a doubt, opening up society and having people mingle indoors is clearly something that is a contributor, as well as overall waning immunity, which means we\\'ve really got to stay heads-up and keep our eye on the pattern here,\" Fauci said. \"So that\\'s the reason why we\\'re watching this very carefully.\"Michael Osterholm, who directs the Center for Infectious Disease Research and Policy at the University of Minnesota, told CNN, \"it\\'s like a weather alert. Right now, the skies are sunny and bright, and we hope they stay that way. But we could have some bad weather by evening, and we just don\\'t know.\"What will BA.2 do in the US?BA.2 has been growing steadily in the US. Last week, the CDC estimated it was causing about 12% of new Covid-19 cases here.  Meanwhile, BA.2 now accounts for more than 50% of cases in the UK and several other European countries.\"The tipping point seems to be right around 50%,\" said Keri Althoff, an epidemiologist at Johns Hopkins Bloomberg School of Public Health. \"That\\'s when we really start to see that variant flex its power in the population\" as far as showing its severity.Covid-19 cases continue to rise in China\\'s worst outbreak since WuhanAlthoff said although the UK may provide a glimpse of the future, there are key differences that will affect how BA.2 plays out in the United States.In the UK, 86% of eligible people are fully vaccinated, and 67% are boosted, compared with 69% of those eligible vaccinated and 50% boosted in the US. \"What we see happening in the UK is going to be perhaps a better story than what we should be expecting here,\" Althoff said.In the Netherlands, it took about a month for BA.2 to overpower BA.1, she noted. If the same timeline occurs in the US, that will mean the variant is taking off just as the immunity generated by winter\\'s Omicron infections will be waning. Coronavirus wastewater data, CDC guidelines can give mixed signals on whether to mask\"I\\'m concerned about that,\" Althoff said. \"But we were in a similar situation last spring, where we really got hopeful that things were going to settle down, and we got a little bit of a summer, and then we got walloped by Delta.\"It will be important for people to understand they may be able to take their masks off for a few weeks, Althoff said, but they might also need to go back to wearing them regularly if cases spike.\"We could see another wave of illness at our hospitals,\" she said.Althoff will also be closely watching wastewater data over the next few weeks.  \"Wastewater surveillance is an incredible advancement in how we can monitor SARS-CoV-2 and what it\\'s doing in the population without needing, really, any input from people,\" she said. \"Keeping our eye on wastewater surveillance is an important tool to understand where the virus is going and if it\\'s increasing in terms of infection.\"Preparing for the next waveProtection against the next variant has to start with vaccination.\"We absolutely have to continue to find people who are unvaccinated and get them vaccinated,\" Althoff said.Fauci agreed vaccination rates could be better in all age groups, but current numbers are especially bad for kids: Only about a third of kids ages 5 to 11 have been vaccinated and only about half of kids ages 12 to 17.Even though the youngest children, those under 5, can\\'t yet be vaccinated, recent studies have shown young kids are less likely to catch Covid-19 when they\\'re surrounded by vaccinated adults.Get CNN Health\\'s weekly newsletter Sign up here to get The Results Are In with Dr. Sanjay Gupta every Tuesday from the CNN Health team.\"So the way you protect them is to surround the children, to the extent possible, with people who are vaccinated and boosted so that you have somewhat a veil of protection around them,\" Fauci said.It will also be important to continue to be flexible.\"The important thing in this massive experiment where we\\'re dropping all masking and restrictions is we have to stay diligent in terms of monitoring of it and testing and be prepared to possibly reverse a lot of the relaxing of these restrictions,\" said Deborah Fuller, a microbiologist at the University of Washington.\"We can\\'t let our guard down, because the message that people get when they say \\'we\\'re lifting restrictions\\' is the pandemic is over. And it\\'s not,\" she said.',\n",
                            " 'hash': 474917999931443897,\n",
                            " 'events': {'insertion': {'date': datetime.datetime(2022, 10, 5, 10, 56, 30, 168000),\n",
                            "   'author': 'paul_dechorgnat',\n",
                            "   'mode': 'single'}}}"
                        ]
                    },
                    "execution_count": 151,
                    "metadata": {},
                    "output_type": "execute_result"
                }
            ],
            "source": [
                "db[c].find_one({\"_id\": bson.objectid.ObjectId(str(db[c].find_one()[\"_id\"]))})\n"
            ]
        },
        {
            "cell_type": "code",
            "execution_count": 156,
            "id": "e321823b-b781-424b-a117-bf5123348bb5",
            "metadata": {},
            "outputs": [
                {
                    "data": {
                        "text/plain": [
                            "NoneType"
                        ]
                    },
                    "execution_count": 156,
                    "metadata": {},
                    "output_type": "execute_result"
                }
            ],
            "source": [
                "a = db[c].find_one({\"_id\": bson.objectid.ObjectId(\"933d62deb9daeb8a90169ed6\")})\n",
                "type(a)"
            ]
        },
        {
            "cell_type": "code",
            "execution_count": 158,
            "id": "1097b634-a30c-4bd3-9970-13748cda60d3",
            "metadata": {},
            "outputs": [
                {
                    "name": "stdout",
                    "output_type": "stream",
                    "text": [
                        "'933d62b8a90169ed6' is not a valid ObjectId, it must be a 12-byte input or a 24-character hex string\n"
                    ]
                }
            ],
            "source": [
                "try:\n",
                "    a = db[c].find_one({\"_id\": bson.objectid.ObjectId(\"933d62b8a90169ed6\")})\n",
                "except bson.errors.InvalidId as e:\n",
                "    print(e)\n",
                "    "
            ]
        },
        {
            "cell_type": "code",
            "execution_count": 164,
            "id": "9de1b5ca-2ea1-4ffa-b965-d8bdd3f627c3",
            "metadata": {},
            "outputs": [],
            "source": [
                "a = db[\"test\"].insert_one({\"hello\": \"world\"})"
            ]
        },
        {
            "cell_type": "code",
            "execution_count": 166,
            "id": "dcd772f3-57e7-47ad-931c-54a1b005bbca",
            "metadata": {},
            "outputs": [],
            "source": [
                "b = db[\"test\"].insert_many([{}, {}])"
            ]
        },
        {
            "cell_type": "code",
            "execution_count": 167,
            "id": "ecb72cd5-fe20-469a-be47-dbbdd318502f",
            "metadata": {},
            "outputs": [
                {
                    "data": {
                        "text/plain": [
                            "[ObjectId('633d89d3b9daeb8a90169f07'), ObjectId('633d89d3b9daeb8a90169f08')]"
                        ]
                    },
                    "execution_count": 167,
                    "metadata": {},
                    "output_type": "execute_result"
                }
            ],
            "source": [
                "b.inserted_ids"
            ]
        },
        {
            "cell_type": "code",
            "execution_count": 170,
            "id": "13b628d9-9587-4894-b028-979b5d2c4f23",
            "metadata": {},
            "outputs": [
                {
                    "data": {
                        "text/plain": [
                            "0"
                        ]
                    },
                    "execution_count": 170,
                    "metadata": {},
                    "output_type": "execute_result"
                }
            ],
            "source": [
                "c = db[\"test\"].delete_one({\"lolilol\": 1})\n",
                "c.deleted_count"
            ]
        },
        {
            "cell_type": "code",
            "execution_count": 174,
            "id": "9f26f746-cb76-4687-9b0a-c3e286c71e25",
            "metadata": {},
            "outputs": [
                {
                    "data": {
                        "text/plain": [
                            "[{'_id': ObjectId('633d930eb9daeb8a90169f16'),\n",
                            "  'author': 'Brenda Goodman and Deidre McPhillips, CNN',\n",
                            "  'date_published': datetime.datetime(2022, 3, 15, 10, 35, 52),\n",
                            "  'section': 'health',\n",
                            "  'url': 'https://www.cnn.com/2022/03/15/health/covid-rising-uk-us/index.html',\n",
                            "  'headline': 'What rising Covid-19 infections in the UK and Europe could mean for the US - CNN',\n",
                            "  'source': 'health',\n",
                            "  'keywords': ['health',\n",
                            "   'rising',\n",
                            "   'covid-19',\n",
                            "   'infections',\n",
                            "   'uk',\n",
                            "   'europe',\n",
                            "   'could',\n",
                            "   'mean',\n",
                            "   'us',\n",
                            "   'cnn'],\n",
                            "  'raw_text': ' (CNN)Two weeks after the United Kingdom dropped its last remaining Covid-19 mitigation measure -- a requirement that people who test positive for the virus isolate for five days -- the country is seeing cases and hospitalizations climb once again.  Covid-19 cases were up 48% in the UK last week compared with the week before. Hospitalizations were up 17% over the same period. The country\\'s daily case rate -- about 55,000 a day -- is still less than a third of the Omicron peak, but cases are rising as fast as they were falling just two weeks earlier, when the country removed pandemic-related restrictions.  Dr. Sanjay Gupta: Is America ready to take the next step in its Covid-19 recovery?Daily cases are also rising in more than half of the countries in the European Union. They\\'ve jumped 48% in the Netherlands and 20% in Germany over the past week, according to data from Johns Hopkins University. But daily cases in Germany had yet to drop below pre-Omicron levels, and the Netherlands hadn\\'t seen cases fall as much as they did in the UK.  The situation in Europe has the attention of public health officials for two reasons: First, the UK offers a preview of what may play out in the United States, and second, something unusual seems to be happening. In previous waves, increases in Covid hospitalizations lagged behind jumps in cases by about 10 days to two weeks. Now, in the UK, cases and hospitalizations seem to be rising in tandem, something that has experts stumped.Read More\"So we\\'re obviously keenly interested in what\\'s going on with that,\" Dr. Anthony Fauci, director of the National Institute of Allergy and Infectious Diseases, told CNN.  Fauci said he\\'s spoken with his UK counterparts, and they have pegged the rise to a combination three factors. In order of contribution, Fauci said, these are:The BA.2 variant, which is more transmissible than the original Omicron The opening of society, with people mingling more indoors without masksWaning immunity from vaccination or prior infectionIn a technical briefing Friday, the UK Health Security Agency said BA.2 had an 80% higher relative growth rate than the original Omicron strain, though it does not seem more likely to lead to hospitalization.  White House warns of \\'severe consequences\\' if Congress doesn\\'t pass supplemental Covid fundingGiven that BA.2 doesn\\'t seem to be causing more severe disease -- at least not in the highly vaccinated British population -- it\\'s not clear why hospitalizations are ticking up.\"The issue with hospitalization is a little bit more puzzling, because although the hospitalizations are going up, it is very clear their use of ICU beds has not increased,\" Fauci said. \"So are the numbers of hospitalizations a real reflection of Covid cases, or is there a difficulty deciphering between people coming into the hospital with Covid or because of Covid?\" The US, like the UK, has lifted most mitigation measures as Covid-19 infections have fallen. Two weeks ago, the US Centers for Disease Control and Prevention changed how it measures Covid-19 impact in communities. The new metric -- which relies on hospitalizations and hospital capacity in addition to cases -- did away with masking recommendations for most parts of the country. States and schools have followed suit, lifting indoor masking requirements.READ: Your top Covid questions, answered\"Without a doubt, opening up society and having people mingle indoors is clearly something that is a contributor, as well as overall waning immunity, which means we\\'ve really got to stay heads-up and keep our eye on the pattern here,\" Fauci said. \"So that\\'s the reason why we\\'re watching this very carefully.\"Michael Osterholm, who directs the Center for Infectious Disease Research and Policy at the University of Minnesota, told CNN, \"it\\'s like a weather alert. Right now, the skies are sunny and bright, and we hope they stay that way. But we could have some bad weather by evening, and we just don\\'t know.\"What will BA.2 do in the US?BA.2 has been growing steadily in the US. Last week, the CDC estimated it was causing about 12% of new Covid-19 cases here.  Meanwhile, BA.2 now accounts for more than 50% of cases in the UK and several other European countries.\"The tipping point seems to be right around 50%,\" said Keri Althoff, an epidemiologist at Johns Hopkins Bloomberg School of Public Health. \"That\\'s when we really start to see that variant flex its power in the population\" as far as showing its severity.Covid-19 cases continue to rise in China\\'s worst outbreak since WuhanAlthoff said although the UK may provide a glimpse of the future, there are key differences that will affect how BA.2 plays out in the United States.In the UK, 86% of eligible people are fully vaccinated, and 67% are boosted, compared with 69% of those eligible vaccinated and 50% boosted in the US. \"What we see happening in the UK is going to be perhaps a better story than what we should be expecting here,\" Althoff said.In the Netherlands, it took about a month for BA.2 to overpower BA.1, she noted. If the same timeline occurs in the US, that will mean the variant is taking off just as the immunity generated by winter\\'s Omicron infections will be waning. Coronavirus wastewater data, CDC guidelines can give mixed signals on whether to mask\"I\\'m concerned about that,\" Althoff said. \"But we were in a similar situation last spring, where we really got hopeful that things were going to settle down, and we got a little bit of a summer, and then we got walloped by Delta.\"It will be important for people to understand they may be able to take their masks off for a few weeks, Althoff said, but they might also need to go back to wearing them regularly if cases spike.\"We could see another wave of illness at our hospitals,\" she said.Althoff will also be closely watching wastewater data over the next few weeks.  \"Wastewater surveillance is an incredible advancement in how we can monitor SARS-CoV-2 and what it\\'s doing in the population without needing, really, any input from people,\" she said. \"Keeping our eye on wastewater surveillance is an important tool to understand where the virus is going and if it\\'s increasing in terms of infection.\"Preparing for the next waveProtection against the next variant has to start with vaccination.\"We absolutely have to continue to find people who are unvaccinated and get them vaccinated,\" Althoff said.Fauci agreed vaccination rates could be better in all age groups, but current numbers are especially bad for kids: Only about a third of kids ages 5 to 11 have been vaccinated and only about half of kids ages 12 to 17.Even though the youngest children, those under 5, can\\'t yet be vaccinated, recent studies have shown young kids are less likely to catch Covid-19 when they\\'re surrounded by vaccinated adults.Get CNN Health\\'s weekly newsletter Sign up here to get The Results Are In with Dr. Sanjay Gupta every Tuesday from the CNN Health team.\"So the way you protect them is to surround the children, to the extent possible, with people who are vaccinated and boosted so that you have somewhat a veil of protection around them,\" Fauci said.It will also be important to continue to be flexible.\"The important thing in this massive experiment where we\\'re dropping all masking and restrictions is we have to stay diligent in terms of monitoring of it and testing and be prepared to possibly reverse a lot of the relaxing of these restrictions,\" said Deborah Fuller, a microbiologist at the University of Washington.\"We can\\'t let our guard down, because the message that people get when they say \\'we\\'re lifting restrictions\\' is the pandemic is over. And it\\'s not,\" she said.',\n",
                            "  'hash': 474917999931443897,\n",
                            "  'events': [{'type': 'insertion',\n",
                            "    'date': datetime.datetime(2022, 10, 5, 14, 22, 6, 779000),\n",
                            "    'author': 'paul_dechorgnat',\n",
                            "    'mode': 'single'}]},\n",
                            " {'_id': ObjectId('633d930eb9daeb8a90169f17'),\n",
                            "  'author': 'Jen Christensen, CNN',\n",
                            "  'date_published': datetime.datetime(2022, 3, 13, 18, 14, 9),\n",
                            "  'section': 'health',\n",
                            "  'url': 'https://www.cnn.com/2022/03/13/health/pandemic-year-three-predictions/index.html',\n",
                            "  'headline': \"Here's what could lie ahead for the US in the third year of the pandemic  - CNN\",\n",
                            "  'source': 'health',\n",
                            "  'keywords': ['health',\n",
                            "   'could',\n",
                            "   'lie',\n",
                            "   'ahead',\n",
                            "   'us',\n",
                            "   'third',\n",
                            "   'year',\n",
                            "   'pandemic',\n",
                            "   'cnn'],\n",
                            "  'raw_text': ' (CNN)Things seem to be looking up as the US crosses into year three of the Covid-19 pandemic. Vaccines still do a good job of keeping people alive and out of the hospital. There\\'s increasing access to tests and treatments. The numbers of cases, hospitalizations and deaths are heading in the right direction.If living in a Covid world has taught us anything, however, it\\'s that the coronavirus can surprise even the smartest public health experts, and the world certainly isn\\'t out of the woods yet.A new variant could easily develop and slip past the protection of current treatments and vaccines, setting us back to what life was like in 2020. That makes it hard to predict what happens next week, let alone in a few months. However, based on what they\\'re seeing now, here\\'s what the experts think could happen in the next year of the pandemic. Each of these predictions has an unspoken \"variant depending\" at the end.What will spring and summer be like?Read MoreThe numbers in the US look good. Only 2% of the US population -- that\\'s about 7 million  people -- lives in a county with a \"high\" Covid-19 community level, according to data from the US Centers for Disease Control and Prevention. The rest are at \"low\" or \"medium\" community levels, areas where there\\'s no recommendation to wear a mask or where the immunocompromised should take extra precautions.In fact, over the next four weeks, the CDC forecasts decreases in hospitalizations and deaths. The trend could continue, particularly as the weather improves and people head outside, where it\\'s less likely that they\\'ll catch Covid.These positive trends could mean the US will see a normal or at least near-normal spring and summer (variant depending, of course). She had a near-death experience because of Covid. But it wasn\\'t a glimpse of an afterlife that changed her\"I am very optimistic,\" said Dr. William Lang, WorldClinic medical director and former White House deputy physician. \"I\\'m optimistic for what things look like for everybody being able to get back to normal activities over the summer.\"But normal doesn\\'t mean a return to pre-2020 life. \"Fewer\" cases still mean tens of thousands of Americans are getting infected. And as of Friday, even with deaths at the lowest level in three months, there are an average of about 1,200 Americans dying from Covid-19 each day, according to Johns Hopkins University. \"Everyone has to recognize, relatively speaking, we\\'re still very early in this, right? This is not going away,\" said Dr. Abraar Karan, an infectious disease fellow in the Division of Infectious Diseases and Geographic Medicine at Stanford University. Dr. Sanjay Gupta: Is America ready to take the next step in its Covid-19 recovery?If the pandemic moves into more of an endemic phase, meaning enough people have immune protection through natural infection and vaccination, it doesn\\'t mean you can burn your masks. Rather, it means the spread of Covid will slow and result in fewer deaths and hospitalizations. But this state of endemicity is not guaranteed.One metric to watch is a rising trend in cases and hospitalizations in the UK. Karan thinks that is mainly happening because of waning immunity, and the US could see similar trends.\"With the combination of our immunity waning and the virus mutating, future surges are unpredictable,\" Karan said.  What about autumn and winter?With the unpredictability of the coronavirus, it\\'s hard to know what will happen in the fall and winter, said David Montefiori, a virologist at Duke University Medical Center.READ: You asked, we\\'re answering: Your top questions about Covid-19\"This virus has thrown us some real curveballs,\" Montefiori said. Some experts say the coronavirus could eventually become seasonal like flu, but he doesn\\'t think it\\'s there yet. \"Thinking of this as a seasonal virus like flu, that hasn\\'t been the case so far. The variants seem to be periodic,\" Montefiori said. \"Roughly every four to six months, we have a new variant.\" Pandemic at two years: Covid-19 news no longer dominates front pagesHe is optimistic, though, because Americans have so much immunity built up through vaccination, infection or a combination of the two. \"We might have another surge later this year, even early summer, but if there isn\\'t one, that\\'s saying the immunity we\\'ve built up as a population is doing a good job.\"The concern, of course, is that a variant emerges that escapes the vaccines. \"The good news is that vaccines can be quickly modified,\" Montefiori said.  With more access to tests and treatments now, many experts believe that the US is better prepared for a fall or winter surge than it was last year. Some say Covid-19 cases could climb for a while when colder weather sends people back inside and as they become more complacent about taking precautions. \"Ultimately, the virus is going to have a tough time in our population, but it\\'s going to take a long time,\" said Dr. John Swartzberg, a clinical professor emeritus at UC Berkeley\\'s School of Public Health. \"I think the real long view is, endemicity is going to be the case. Eradication is not possible.\"Much depends on how quickly the planet can get vaccinated, Swartzberg said. The more people are vaccinated, the fewer there are to serve as hosts where the virus can mutate and produce -- you guessed it -- variants. Less than 10% of people in low-income countries are vaccinated, according to the International Rescue Committee. The US and other countries have pledged to send more vaccines overseas this year.    What\\'s next for vaccines for adults?You may be need a fourth shot of the Covid-19 vaccine this year. The CDC already recommends that those who have weakened immune systems get one. Public health officials in the US have said they are very carefully monitoring if, or when, a fourth dose may be needed for the broader population, with a potential fall timeline in mind.The vaccines still seem to protect against hospitalization and death, particularly if you are boosted, but protection could wane over time and is a little less effective against the Omicron variant. The currently authorized boosters are made to protect against the original coronavirus from late 2019.The next vaccines could be specifically tuned to the variant -- or variants -- that are in circulation, Moderna Chief Medical Officer Dr. Paul Burton said Wednesday. Or they could be a combination shot.Moderna and Pfizer have confirmed that they are testing vaccines that focus on Omicron. This is no time to drop the ball on Covid-19Pfizer CEO Albert Bourla said his company will soon submit data on another vaccine dose for federal health officials to consider. \"I think our data suggests that they\\'re protecting, they are improving dramatically the protection, the fourth dose compared to the third, for Omicron after some time, after let\\'s say three to six months,\" Bourla said in a Washington Post Live discussion on Thursday. Globally, there are 234 other Covid-19 vaccines in development. Perhaps furthest along in the process is the one from Novavax. It is in the middle of the regulatory process with the FDA and could be authorized this year.What\\'s next for vaccines for kids?Pfizer and Moderna are expected to report results from their trials involving children under the age of 5 in the next few weeks. Pfizer is also working on trials of a third vaccine dose for children ages 5 to 11. Children 12 and older can already get a third shot, as can kids 5 and older who are immunocompromised. For the littlest kids, scientists think a vaccine may not be authorized until April. Pfizer originally said it thought it could have one out earlier this year, but it added a third dose of the vaccine to its trials to see if it is more effective.  The vaccines can\\'t come soon enough for some parents. During the Omicron surge, the largest increase in hospitalization rates was among kids ages 4 and under, according to the CDC.Global pandemic death toll is three times higher than reported Covid-19 deaths suggest, study findsBut many more kids for whom vaccines are now authorized still need to get them. They are the age group with the lowest vaccination rate in the US. \"There still hasn\\'t been nearly as much uptake as vaccines as we would want,\" said Dr. Shira Gertz, a pediatric critical care physician and researcher at Cooperman Barnabas Medical Center in New Jersey. \"Getting a vaccine is so much better than getting the disease.\"The politics of it might be tricky, but schools could require that kids get vaccinated against Covid-19 before they return to class in the fall, like they do with other diseases. Only a handful of schools currently do, like those in Los Angeles, the District of Columbia and New Orleans, according to the Center on Reinventing Public Education. What\\'s next for treatments and tests?There are 23 antivirals and 63 other treatments in late-stage clinical trials, according to Bio, a pharmacy industry association. Although Pfizer\\'s Covid-19 vaccine is authorized for people as young as 5, treatments for children remain limited. It\\'s begun a Phase 2 and 3 clinical trial of its Covid-19 antiviral treatment, Paxlovid, in children ages 6 to 17. For treatments to work effectively, people have to get them quickly. The Biden administration\\'s new test-to-treat program allows pharmacies with clinics to test someone for Covid-19 and immediately prescribe medication if they test positive. That program will play an even more vital role if cases surge again. What\\'s next for masks?Hawaii is the last state in the country to end its indoor mask mandate. That ends March 25. On Thursday, the federal requirement that people wear masks on public transportation, including planes, was extended for another 30 days.People may be sick of them, and masks have become a hot political subject, but broader mask mandates could always come back if case numbers rise and hospitals fill up.Masking is hugely effective. Research from January 2021 that analyzed several studies of mask use in adults found that masks reduced the transmission of the virus significantly. And a National Institutes of Health study published Thursday found that during the Delta surge, schools with mandatory masking had 72% fewer cases of in-school transmission than those with mask-optional policies.\"I think readers need to remember that even if we say \\'this is what we\\'re doing now,\\' we reserve the right to change stuff as needed,\" said Dr. Sharon Nachman, chief of the Division of Pediatric Infectious Diseases at Stony Brook University in New York. Americans need to be flexible and adjust to the threat around them, she said.What about money for all these mitigation measures?Money to pay for the tests and treatments and vaccine research won\\'t last forever, and more funding is not in the latest federal spending bill. The $15.6 billion earmarked for pandemic preparedness got stripped out. That was only half of what the Biden administration had asked for.The spending bill raises the CDC budget by $582 million, but it leaves out the pandemic waivers that gave schools extra federal funds to cope with Covid-19 outbreaks. The money that has bolstered many rural \"safety net\" hospitals expires soon. Safety net hospitals are those that, by legal obligation or mission, provide health care regardless of someone\\'s ability to pay or insurance status. So more rural hospitals could close this year, and the US has already lost a record number of them during the pandemic. These business owners survived Covid. Now gas prices are surgingIt\\'s a tenuous time. Dr. Marcus Plescia, chief medical officer at the Association of State and Territorial Health Officials, said  supplies of therapeutics, testing and vaccines are finally at a level where they meet demand. \"If there\\'s issues with funding and any of those areas of progress start to fall off, we\\'re going to be right back to the situation where we\\'re playing catch-up and don\\'t have enough,\" he said.On Wednesday, House Appropriations Committee Chairwoman Rosa DeLauro, D-Connecticut, introduced a standalone Covid supplemental bill to manage the pandemic at home and around the world, but it\\'s unlikely to pass.What about the long-term consequences of Covid?Scientists continue to study people with long Covid to try to understand the condition\\'s symptoms and treatments. As many as 30% who\\'ve tested positive for the virus may have long-term symptoms like fatigue, breathing trouble, joint and chest pain, and heart problems, studies show. Mental health has been an ongoing challenge for adults and kids during the pandemic. Four in 10 adults reported symptoms of anxiety or depression during the pandemic, up from 1 in 10 before the pandemic. In communities of color, mental health issues are disproportionately undertreated. For kids, the Biden administration\\'s national mental health strategy, announced this month, will try to address some provider and program shortages to address their needs.More than 206,800 children in the US have lost their primary caregiver to Covid, and advocates are also pushing for programs to address their needs.Will this ever be over?People need to be flexible and not let down their guard too soon, the experts say. \"When places relax measures at the wrong moment, transmission spikes dangerously, and we lose more lives,\" Pan American Health Organization Director Dr. Carissa F. Etienne said Wednesday, urging countries to base decisions on risk assessments and health data and to tighten public health guidance if cases start to rise.The bottom line, Lang said: Covid is here to stay, but the pandemic part could be in our rearview mirror -- or at least move into a more manageable stage -- if people get vaccinated and boosted. Get CNN Health\\'s weekly newsletter Sign up here to get The Results Are In with Dr. Sanjay Gupta every Tuesday from the CNN Health team.\"The Covid vaccine is much more effective in preventing deaths than the flu vaccine in preventing deaths,\" he said. \"So, you know, we really can combat this thing by people getting vaccinated and boosted.\"Gertz also recommends that people pay attention to the numbers around them. \"We have to continue to be diligent and aware of what\\'s going on in our immediate surroundings,\" she said. That doesn\\'t mean people will be in masks forever, but they should wear them when necessary, and take prevention measures like washing their hands. \"Actually, we should always wash our hands.\"',\n",
                            "  'hash': 7584639673035128005,\n",
                            "  'events': [{'type': 'insertion',\n",
                            "    'date': datetime.datetime(2022, 10, 5, 14, 22, 6, 780000),\n",
                            "    'author': 'paul_dechorgnat',\n",
                            "    'mode': 'single'}]},\n",
                            " {'_id': ObjectId('633d930eb9daeb8a90169f18'),\n",
                            "  'author': 'Jen Christensen and Holly Yan, CNN',\n",
                            "  'date_published': datetime.datetime(2022, 3, 13, 19, 11, 2),\n",
                            "  'section': 'health',\n",
                            "  'url': 'https://www.cnn.com/2022/03/13/health/pfizer-vaccine-4th-dose/index.html',\n",
                            "  'headline': \"A 4th dose of Covid-19 vaccine will be needed, Pfizer's CEO says, but the company is working on a shot to handle all variants - CNN\",\n",
                            "  'source': 'health',\n",
                            "  'keywords': ['health',\n",
                            "   '4th',\n",
                            "   'dose',\n",
                            "   'covid-19',\n",
                            "   'vaccine',\n",
                            "   'needed',\n",
                            "   'pfizer',\n",
                            "   'ceo',\n",
                            "   'says',\n",
                            "   'company',\n",
                            "   'working',\n",
                            "   'shot',\n",
                            "   'handle',\n",
                            "   'variants',\n",
                            "   'cnn'],\n",
                            "  'raw_text': ' (CNN)To help fend off another wave of Covid-19, people will need a fourth dose of vaccine, Pfizer CEO Albert Bourla told CBS on Sunday.\"Many variants are coming, and Omicron was the first one that was able to evade -- in a skillful way -- the immune protection that we\\'re giving,\" Bourla told CBS\\' \"Face the Nation.\"\"The protection we are getting from the third (dose) it is good enough -- actually quite good for hospitalizations and deaths,\" Bourla said. Here\\'s what could lie ahead for the third year of the pandemic But protection after three doses is \"not that good against infections\" and \"doesn\\'t last very long\" when faced with a variant like Omicron. \"It is necessary, a fourth (dose) for right now,\" Bourla told CBS.Read MoreCurrently, anyone ages 12 and up who got a second dose of the Pfizer vaccine at least five months ago can get a third dose. Anyone ages 18 and up who got the two-dose Moderna vaccine should get a booster shot six months after the second dose, according to the US Centers for Disease Control and Prevention. And anyone who got the single-dose Johnson & Johnson vaccine should get a booster shot after two months, the CDC said.Some moderately or severely immunocompromised people who have had three doses of the Pfizer/BioNTech or Moderna Covid-19 vaccines can already get a fourth dose of vaccine, according to the CDC.But it\\'s not clear if or when the US Food and Drug Administration might authorize a fourth dose of Covid-19 vaccine for healthy teens and adults. \"We are just submitting those data to the FDA, and then we\\'ll see what the experts also would say outside Pfizer,\" Bourla told CBS.Kids under 5 might soon be able to get vaccinatedCurrently, children ages 5 to 11 are eligible for two pediatric doses of Pfizer\\'s Covid-19 vaccine but are not yet eligible for a booster. Pfizer is testing a third dose in that age group now.When can younger kids be vaccinated against Covid-19? \\'Not yet\\'And kids under age 5 are not yet eligible for a Covid-19 vaccine -- though that could change this spring, Bourla said. Initial trial data in children ages 2 to 5 showed two doses of a smaller, child-sized vaccine didn\\'t give the expected immunity in the 2- to 5-year-olds -- though it did for babies ages 6 months to 2 years.So Pfizer decided to add a third child-sized dose for children under age 5 in its ongoing trial.Pfizer should have data on its three-dose vaccine trial for children ages 6 months to 5 years by April, Bourla told CBS on Sunday. If authorized by the FDA and recommended by the CDC, Covid-19 vaccines for children ages 6 months to 5 years might start as early as May, Bourla said. A shot at a longer-lasting vaccine against all variantsPfizer and Moderna have said they are working on a vaccine that would specifically protect against the Omicron variant. It\\'s not clear yet if one is needed.Bourla said Pfizer is also hoping to make a vaccine that will protect against Omicron and all other variants of SARS-CoV-2 -- the virus that causes Covid-19. The goal is to create \"something that can protect for at least a year,\" Bourla told CBS on Sunday. \"And if we are able to achieve that, then I think it is very easy to follow and remember so that we can go back to really the way (we) used to live,\" he said.CNN\\'s Jacqueline Howard contributed to this report. ',\n",
                            "  'hash': 8871490839747657896,\n",
                            "  'events': [{'type': 'insertion',\n",
                            "    'date': datetime.datetime(2022, 10, 5, 14, 22, 6, 781000),\n",
                            "    'author': 'paul_dechorgnat',\n",
                            "    'mode': 'single'}]},\n",
                            " {'_id': ObjectId('633d930eb9daeb8a90169f19'),\n",
                            "  'author': 'Dr. Sanjay Gupta, CNN Chief Medical Correspondent',\n",
                            "  'date_published': datetime.datetime(2022, 3, 11, 12, 36, 20),\n",
                            "  'section': 'health',\n",
                            "  'url': 'https://www.cnn.com/2022/03/11/health/covid-endemic-pandemic-anniversary-america-patient-gupta/index.html',\n",
                            "  'headline': 'Dr. Sanjay Gupta: Is America ready to take the next step in its Covid-19 recovery? - CNN',\n",
                            "  'source': 'health',\n",
                            "  'keywords': ['health',\n",
                            "   'dr.',\n",
                            "   'sanjay',\n",
                            "   'gupta',\n",
                            "   'america',\n",
                            "   'ready',\n",
                            "   'take',\n",
                            "   'next',\n",
                            "   'step',\n",
                            "   'covid-19',\n",
                            "   'recovery',\n",
                            "   'cnn'],\n",
                            "  'raw_text': ' (CNN)As we reach the second anniversary of the World Health Organization acknowledging Covid-19 as a pandemic on March 11, 2020, we appear to be standing on the edge of the endemic phase of this global health crisis. For many, that\\'s the moment when we hope we can get back to our regular lives.   Several times during this pandemic, I have written essays about America as if the country was my patient. The current situation has me thinking along those lines again.  Doctors, like anyone else, love to give good news. We see the value of hope but also recognize that honesty must be our North Star. I would love to be the good guy here and tell my patient that it\\'s time to be discharged from this chapter of our lives. But a doctor\\'s job is to fully assess the situation and lean into the nuance, as opposed to simple axioms. Time for a physicalSo let\\'s examine America, the patient. On the one hand, the numbers are going down. Cases of Covid-19 are more than a third lower this week than they were last week and the lowest they\\'ve been since July, according to the latest data from Johns Hopkins University.  And the number of people hospitalized is about a fifth of what it was during the country\\'s mid-January peak. Even deaths, the so-called lagging indicator, have been falling; they\\'re at their lowest point in two months. Read MoreAll 50 states are in the process of lifting restrictions. On March 26, Hawaii will become the last state to end its indoor mask mandate. Requiring masks in K-12 schools cut Covid-19 infections, study showsAt the federal level, the US Centers for Disease Control and Prevention made big changes in late February. Instead of primarily using  levels of coronavirus transmission within a community as the key metric for determining mask guidance, the agency recommends that three data points be considered instead: new Covid-19 hospitalizations, hospital capacity and Covid-19 cases. So now, instead of a transmission map that paints most of the country an \"inflamed\" red, the community levels map shows a lot of cooler green and yellow, with a bit of orange -- the new low, medium and high categories. Since that change, there has been a big drop in the percentage of Americans living under masking recommendations, from 99% under the old metrics to just about 2% now.And at the start of the month, the White House unveiled its National Covid-19 Preparedness Plan. The new plan focuses on \"vaccines, treatments, tests, masks,\" White House Covid-19 response coordinator Jeff Zients said. \"These tools are how we continue to protect people and enable us to move forward safely and get back to our more normal routines.\"As part of that, government testing and treatment initiatives are being streamlined and made more widely available. A closer lookBut in medicine, we cannot rely on lab results and a medical history. We need to perform a thorough and detailed exam. And when we do that, a more complete picture of the patient emerges.  First on CNN: Biden administration set to extend travel mask mandate for another monthTruth is, America, my patient still has an active infection. Although the numbers are falling, they are still painfully high: The country is averaging just under 37,000 new cases of Covid-19 a day. It\\'s as if saying the patient used to have a very high fever but now only has a moderately high fever. The point is, it\\'s still too high. We wouldn\\'t stop treating the patient\\'s infection at this point but rather complete the course of treatment and care.There\\'s also the issue of understanding the effects the illness may have on my patient in the future. In this case, it means acknowledging an entirely new disease: long Covid. Many Americans are enduring the lingering effects of a past infection, battling health conditions like fatigue, brain fog, shortness of breath, cardiac issues. The list of long Covid symptoms is lengthy and varied; there are no answers as to who and why, nor are there easy, one-size-fits-all treatments. We are in the early days of this disease, but I was particularly struck by the recent paper indicating a previous Covid infection being a significant risk factor for future heart problems.And, even more important, there are still about 30,000 Americans hospitalized for Covid and, on average, more than 1,250 deaths a day. That\\'s the equivalent of about two jumbo jets dropping out of the sky every day. My patient still needs lots of care.Other factors at playDespite the less red and inflamed transmission map, it still shows there\\'s a lot of virus out there. If the virus came in the form of a raindrop, parts of our country would still be getting drenched. I have often imagined how different things would be if we could have actually seen the virus -- little green particles circulating around people\\'s noses and mouths and becoming airborne. What if we had been able to witness its destruction and journey into blood vessels and lungs? This invisible enemy circumvented our basic human ability to detect a threat and, as a result, made us more likely to ignore and even deny it. Covid-19 safety tips to consider as you return to workI would remind my patient we have been here before. We experienced moments of genuine hope earlier and then witnessed how quickly things can change. In the summer of 2021, the Delta variant surprised us, and in December, Omicron blindsided us. Both times, the spikes caused by these variants followed declarations of victory heralding the end of the pandemic. Currently, there is a subvariant of Omicron called BA.2 that may spread even faster than Omicron itself. According to the latest figures from the CDC, it now makes up about 11.6% of Covid cases in the US; the week before, 6.6%. BA.2 is the dominant variant in Denmark, the United Kingdom, India, South Africa and more than a dozen other countries. According to the World Health Organization, studies estimate it is 30% more contagious than the original Omicron (BA.1).  And while studies suggest that BA.2 is not more likely to lead to hospitalization than BA.1, another patient that I\\'ve been keeping an eye on, the United Kingdom, is seeing cases and hospitalizations starting to trend up again after declining steadily since mid-January. Sometimes, doctors gain a lot of information from watching how other patients are faring.\\n\\n\\n\\nPodcast: Chasing Life with Dr. Sanjay Gupta\\n\\n\\nAgain, I get it. I would love to look at these past two years in the rearview mirror as well, but we need to learn the lessons of this pandemic and apply that knowledge in real time. Today. Now.Delta and Omicron represent two cautionary tales in the span of a few months. It would be shortsighted to ignore that reality, believing it will never happen again.  A blend of science and judgment The International Epidemiology Association\\'s Dictionary of Epidemiology defines a pandemic as \"an epidemic occurring worldwide, or over a very wide area, crossing international boundaries and usually affecting a large number of people.\"  Two years ago, when we made the decision to use the word pandemic on CNN, before the CDC or WHO, it was fairly straightforward -- fundamentally, it was an exercise in math and data analysis. My producers and I spent a lot of time looking at whiteboards where we kept tabs on the growing numbers and locations of Covid-19 cases. One day, I remember thinking, \"If this isn\\'t the very definition of a pandemic, I don\\'t know what is. So why is no one else calling it that?\"  And so we did.JUST WATCHEDDr. Gupta: Here\\'s why CNN is calling this a pandemic (2020)ReplayMore Videos ...MUST WATCHDr. Gupta: Here\\'s why CNN is calling this a pandemic (2020) 04:40 Although the line was clear entering the pandemic, it will be much fuzzier as we approach endemicity.  A disease is considered endemic when it is a \"constant presence ... within a given geographic area or population group.\" It would also be predictable in its rate of spread without causing the level of disruption it does in a pandemic. But what is considered disruptive may be very different in one country compared with another, even from one person to the next. Progressing into this next phase will be based on a blend of science and judgment. What the exam reveals So if America were my patient, the question I would be asking: Is it really time to downgrade the country\\'s present-day condition from pandemic to endemic? It\\'s analogous in some ways to deciding when to discharge my surgical patients to the general care floor from the intensive care unit. This season\\'s flu vaccine seems to be a poor match, early CDC data shows, but it\\'s been a mild flu seasonI make rounds in the intensive care unit, carefully reviewing each patient\\'s chart -- full of lab results, metrics and data. And then I sit at the bedside, watching, examining and understanding how they really feel. Can they stand on their own, put a fork to their mouth and a comb through their hair? Are their basic bodily functions returning to normal, and can they get by independently? It is a judgment call. Two people can have the same vital signs but be in very different places.     If America were my patient, what would I see when I sit at its bedside? Beyond 1,300 people dying a day, I would make note that almost 60,000 people died of Covid-19 during the month of February alone. In other words, more people died of Covid-19 in one month than die of the flu during a bad year.   So the question ultimately is: What is too disruptive? What are we willing to tolerate? At what point do we as a society throw up our hands and say, \"We can\\'t do any better than this,\" so let\\'s call this level of sickness and death \"endemic,\" accept the numbers and move on with our lives? And of course, my patient, America, lives on a planet with lots of other patients, all part of an intricate ecosystem. We must realize that America\\'s health is dependent on the health of all the other patients on the planet: When any one of us is at risk, we are all at risk. Finding a measure of peace and quiescence None of this is easy. It\\'s why epidemiologist and author Dr. Larry Brilliant said that \"endemic\" is a terrible word.  \"Smallpox was \\'endemic\\' when it killed somewhere between a third and half a billion people in the 20th century. Malaria is endemic, and it\\'s killing millions. Tuberculosis is endemic. And HIV/AIDS was sort of thrown out of people\\'s consciousness by just labeling it \\'endemic,\\' \" he said. Brilliant, who is CEO of Pandefense Advisory and\\u202fa senior adviser at the Skoll Foundation, was a key player on the WHO team that eradicated smallpox.     Coronavirus wastewater data, CDC guidelines can give mixed signals on whether to maskHe pointed out that the technical definition of \"endemic\" is a disease that is generating an expected number of cases, to the expected community and the expected time. \"And because [Covid-19] is a baby of a disease ... it\\'s way too early to try to figure out what is endemicity. We have to wait for it to become a teenager and see how it behaves,\" he said.  Brilliant prefers the term \"quiescent.\" \"We want this thing to be quiet,\" he said. He recalled that in the early days of 2020, he and other epidemiologists and public health experts speculated that the illness would come in waves.  \"A wave is a really good metaphor to think about this. Sometimes, the waves come in a bunch at a time, and sometimes there\\'s not a wave for hours, even days. Some waves are too small to really be called waves. But every once in a while, there\\'s a rogue wave, this tsunami.\"  Here\\'s how to get free antiviral medicine if you test positive for Covid-19He explained, \"what we want is the interval [between waves] to be long and the water in the waves to be quiescent. And that\\'s what we\\'re trying to say when people use the word \\'endemic.\\' ... To say that the pandemic has gone endemic is failure -- it\\'s not success. We haven\\'t put it where we want it. So it\\'s the wrong way of thinking about it.\" Plus, said Brilliant, saying that the pandemic is over means \"we give up our duty of care.\"He believes we still have a duty of care to the immunocompromised, the elderly, the vulnerable and, yes, even the unvaccinated, because they are the ones disproportionately dying.  Life with an endemic disease Humans are increasingly living side by side with pathogens that were once in the wild but then took hold among us. We might not like it, and sometimes the pathogen comes too close for comfort, but we learn to live with it.  Take the parasite malaria. For millennia, it killed off wide swaths of the global population. In fact, the mosquito, which transmits the parasite that causes disease, is one of the most prolific killers of humans worldwide. Global Covid-19 deaths surpass 6 millionInarguably, the course of humanity has been shaped by malaria: It\\'s believed to have contributed to the fall of Rome, and for hundreds of years, it helped protect Africa from European colonization even as it infected the local population. (And it\\'s why the gene for sickle cell anemia, which is protective against malaria, never died off evolutionarily.) In this country, Presidents George Washington and Abraham Lincoln grappled with it. The disease stunted the physical and economic growth of the rural South through the 1930s, and it is why the precursor to the CDC was founded.   It\\'s an understatement to say man has been living with malaria for a very long time. And although we may not have eradicated it from the face of the Earth or completely tamed it, we have learned to coexist with it and reduced it to an endemic disease in a shrinking number of countries. The United States eradicated it in 1951.   How did we do that? By arming ourselves with knowledge. Through scientific research, we learned about where malaria comes from and how it is spread. We developed mitigation strategies and medications to blunt its impact.  And our work is still not done: In 2020, malaria killed an estimated 627,000 people, the vast majority of them children in sub-Saharan Africa.Early detection, rapid responseMany experts, including Brilliant, are pretty sure that Covid-19 is here to stay. Like the common cold (also often caused by a coronavirus) or the flu, it\\'s expected to be part of our lives for the next 10, 50 or 100 years, and life will never be quite the same again. Burnout may be changing your brain. Here\\'s what to do But we can improve the situation and learn to live with it. \"We want the disease to occur in places that we expect it, in the numbers that we expect, so we know how to deal with it,\" Brilliant said. \"You can go to Hawaii on vacation and not worry. Your kids can go to school. And you don\\'t need to worry about going to dinner with your parents or your grandparents. Maybe it\\'s quiet and you have to still wear masks. Maybe it\\'s quiet and you still have to be tested before you go someplace. But it\\'s not on the front page every day.\" The key, said Brilliant, is two-part: early detection and rapid response.  For that to happen, we have to have good monitoring tools and be nimble going into and out of protective mode. Maybe that means we carry a mask in our coat pocket during wintertime, just like we take an umbrella when the forecast predicts rain; maybe we keep a box of rapid tests and a packet of antivirals in the bathroom cabinet for when we are under the weather; maybe we close a school but like we do with the flu -- with surgical precision, using a scalpel instead of a chainsaw.The good news, Brilliant said, is that moving forward, our tools -- vaccines, surveillance, tests, treatments, prophylactics -- will only get better. The inescapable fact is that we live in the era of pandemics. There are simply more and more opportunities for a pathogen, like the SARS-CoV-2 virus, to come in contact with the human population, make the jump and take hold. It\\'s a dance we are increasingly doing because we are infringing more and more on the microbes\\' territory. Population growth, deforestation, climate change all contribute to this. Get CNN Health\\'s weekly newsletter Sign up here to get The Results Are In with Dr. Sanjay Gupta every Tuesday from the CNN Health team. These pathogens are going to keep emerging in humans, but pandemics are not inevitable. Humans have evolved to create remarkable public health tools to prevent that, just as long we are smart and humane enough to use them.  My patient -- America -- is still in precarious health and will have to be careful moving forward to maintain all of the gains and continue making progress. Both the patient and doctors will have to remain vigilant and act quickly if there\\'s any new infection. It\\'s just not time for my patient to completely drop their guard, however much we would all like that to happen. We can and should be hopeful, but honesty must lead the way, full and transparent. CNN\\'s Andrea Kane contributed to this report.',\n",
                            "  'hash': -130620828033212405,\n",
                            "  'events': [{'type': 'insertion',\n",
                            "    'date': datetime.datetime(2022, 10, 5, 14, 22, 6, 782000),\n",
                            "    'author': 'paul_dechorgnat',\n",
                            "    'mode': 'single'}]},\n",
                            " {'_id': ObjectId('633d930eb9daeb8a90169f1a'),\n",
                            "  'author': 'Deidre McPhillips, CNN',\n",
                            "  'date_published': datetime.datetime(2022, 3, 11, 0, 14, 39),\n",
                            "  'section': 'health',\n",
                            "  'url': 'https://www.cnn.com/2022/03/10/health/covid-community-levels-cdc/index.html',\n",
                            "  'headline': 'Only 2% of Americans now live in counties with high Covid-19 levels - CNN',\n",
                            "  'source': 'health',\n",
                            "  'keywords': ['health',\n",
                            "   '2',\n",
                            "   '%',\n",
                            "   'americans',\n",
                            "   'live',\n",
                            "   'counties',\n",
                            "   'high',\n",
                            "   'covid-19',\n",
                            "   'levels',\n",
                            "   'cnn'],\n",
                            "  'raw_text': ' (CNN)Just 2% of the United States population -- about 7 million people -- lives in a county where the US Centers for Disease Control and Prevention still recommends universal indoor masking, according to the latest Covid-19 community level data, updated by the CDC on Thursday.This is 16 million fewer people than just last week, when about 7% of the US population lived in a county considered to have a \"high\" community level. Two weeks ago, when the CDC first released the new metrics, about 28% of the US population lived in a county considered to have a high community level. According to Thursday\\'s update, nearly 73% of the US population now lives in a county considered to have a \"low\" community level, where there is no recommendation for masking. The remaining 21% live in a county considered to have a \"medium\" community level, where the CDC recommends that immunocompromised people and those at high risk for severe disease consider taking extra precautions against Covid-19.This data \"can help counties make informed decisions and take appropriate public health actions,\" the CDC said in a statement. Get CNN Health\\'s weekly newsletter Sign up here to get The Results Are In with Dr. Sanjay Gupta every Tuesday from the CNN Health team.Read MoreThe CDC\\'s Covid-19 community level metrics are based on three things: new COVID-19 hospitalizations, hospital capacity and new COVID-19 cases. More than a third of the people who still live in counties considered to have a high Covid-19 community level are in Texas and Kentucky. Hidalgo County in south Texas is the most populous county to still have a high community level. Hawaii Gov. David Ige announced Tuesday that state mask mandate there will expire this month, making it the last state to drop this requirement.',\n",
                            "  'hash': -3660333513630493041,\n",
                            "  'events': [{'type': 'insertion',\n",
                            "    'date': datetime.datetime(2022, 10, 5, 14, 22, 6, 784000),\n",
                            "    'author': 'paul_dechorgnat',\n",
                            "    'mode': 'single'}]},\n",
                            " {'_id': ObjectId('633d930eb9daeb8a90169f36'),\n",
                            "  'author': 'Harmeet Kaur, CNN',\n",
                            "  'date_published': datetime.datetime(2021, 12, 9, 22, 44, 34),\n",
                            "  'section': 'health',\n",
                            "  'url': 'https://www.cnn.com/2021/12/09/health/black-fetus-medical-illustration-diversity-wellness-cec/index.html',\n",
                            "  'headline': 'A viral image of a Black fetus is highlighting the need for diversity in medical illustrations - CNN',\n",
                            "  'source': 'health',\n",
                            "  'keywords': ['health',\n",
                            "   'viral',\n",
                            "   'image',\n",
                            "   'black',\n",
                            "   'fetus',\n",
                            "   'highlighting',\n",
                            "   'need',\n",
                            "   'diversity',\n",
                            "   'medical',\n",
                            "   'illustrations',\n",
                            "   'cnn'],\n",
                            "  'raw_text': ' (CNN)At first glance, the image looks like a standard drawing that could easily be found in the pages of a medical textbook or on the walls of a doctor\\'s office.But what sets apart the illustration of a fetus in the womb that recently captured the attention of the internet is a simple, yet crucial, detail: its darker skin tone.The image, created by Nigerian medical student and illustrator Chidiebere Ibe, struck a chord with countless people on social media, many of whom said that they had never seen a Black fetus or a Black pregnant woman depicted before. It also brought attention to a larger issue at hand: A lack of diversity in medical illustrations.(While most fetuses are red in color -- newborns come out dark pink or red and only gradually develop the skin tone they will have for life -- the medical illustration is intended to represent patients who aren\\'t used to seeing their skin tones in such images.)Ibe said in an interview with HuffPost UK that he didn\\'t expect to receive such an overwhelming response -- his fetus illustration was one of many such images he\\'s created as a medical illustrator, most of which depict Black skin tones. But it underscored the importance of a mission he\\'s long been committed to.Read More\"The whole purpose was to keep talking about what I\\'m passionate about -- equity in healthcare -- and also to show the beauty of Black people,\" he told the publication. \"We don\\'t only need more representation like this -- we need more people willing to create representation like this.\"CNN reached out to Ibe for comment, but he did not expand on the topic further.Ni-Ka Ford, diversity committee chair for the Association of Medical Illustrators, said that the organization was grateful for Ibe\\'s illustration.\"Along with the importance of representation of Black and Brown bodies in medical illustration, his illustration also serves to combat another major flaw in the medical system, that being the staggering disproportionate maternal mortality rate of Black women in this country,\" she wrote in an email to CNN.What medical illustration isMedical illustrations have been used for thousands of years to record and communicate procedures, pathologies and other facets of medical knowledge, from the ancient Egyptians to Leonardo da Vinci. Science and art are combined to translate complex information into visuals that can communicate concepts to students, practitioners and the public. These images are used not just in textbooks and scientific journals, but also films, presentations and other mediums.There are fewer than 2,000 trained medical illustrators in the world, according to the Association of Medical Illustrators. With only a handful of accredited medical illustration programs in North America, which tend to be expensive and admit few students, the field has historically been dominated by people who are White and male -- which, in turn, means the bodies depicted have usually been so, too.Black or \\'Other\\'? Doctors may be relying on race to make decisions about your health\"Historically [medical illustrations] have always featured white able bodied male figures and still do in the present day,\" Ford said. \"Bias towards one body type in medical illustration marginalizes everyone else.\"Studies have backed up this lack of diversity. Researchers at the University of Wollogong in Australia found in a 2014 study that out of more than 6,000 images with an identifiable sex across 17 anatomy textbooks published between 2008 and 2013, just 36% of the depicted bodies were female. A vast majority were White. About 3% of the images analyzed showed disabled bodies, while just 2% featured elderly people.Why diversity in the field mattersDiversity in the field of medical illustrations (or lack thereof) matters because these images can have implications for medical trainees, practitioners and patients. \"Without equitable representation and the perpetual use of only white able bodied patients depicted in medical textbooks, medical professionals are limited in their ability to accurately diagnose and treat people who don\\'t fit that mold,\" Ford said. \"Medical professionals can then tend to rely on racial stereotypes and generalizations because of this knowledge gap on how symptoms present differently on darker skin tones, leading to poorer care.\"A study by the same University of Wollogong researchers published in 2018 found that gender-biased images from anatomy textbooks increased medical students\\' scores on implicit bias tests. Another study published in the journal Plastic and Reconstructive Surgery -- Global Open in 2019 found that White patients were overrepresented in the images of plastic surgery journals, which the authors suggested could potentially influence the care non-White patients received. Black adults report bias in health care at higher rates than White and Latino people, study finds\"For decades, peer-reviewed academic publications have used photographs and images that inadequately portray the diversity in demographics of patients affected by particular diseases,\" the researchers wrote. \"This is particularly striking in the lack of diversity in medical illustration. These inequities in medical reporting can have lasting downstream effects on the accessibility and provision of healthcare.\"Ford said that those who aren\\'t often depicted in medical illustrations \"can feel left out and unacknowledged in a healthcare setting, leading to feelings of distrust and isolation when receiving care.\" She also said that medical professionals might feel less empathy for groups who aren\\'t represented -- people who are Black, brown, women, transgender or nonbinary -- which can lessen the quality of care they receive. Inequities in health care have been well-documented, with studies showing that Black patients are more likely to experience bias and be misdiagnosed for certain conditions. Research has also shown that a substantial share of White medical students and residents hold false notions about biological differences between Black and White people, which can lead to racial bias in the ways their pain is perceived and treated.Despite the persistent need for medical illustrations to depict the full scope of human diversity, the field is beginning to see changes, medical illustrator Hillary Wilson told CNN.Wilson, whose illustrations depict Black people in infographics about eczema, sun damage, alopecia and other conditions, said both patients and practitioners could benefit from seeing diversity represented in medical illustrations. And through her work, she\\'s attempting to humanize people of color and other marginalized groups by doing just that. \"The reality is that there are so many different types of people that exist,\" she said. \"To me, a resource isn\\'t complete if I didn\\'t at least consider that and try my best to account for the fact that there are so many different types of people.\"While Ibe\\'s image of the Black fetus seemed to mark a departure from the norm, Wilson said she hopes that in the future, seeing Black skin tones in medical illustrations will become routine.\"Eventually, I hope it can just become one of the things that\\'s expected,\" she added.',\n",
                            "  'hash': 9213998400407737116,\n",
                            "  'events': [{'type': 'insertion',\n",
                            "    'date': datetime.datetime(2022, 10, 5, 14, 22, 6, 823000),\n",
                            "    'author': 'paul_dechorgnat',\n",
                            "    'mode': 'single'}]},\n",
                            " {'_id': ObjectId('633d930eb9daeb8a90169f37'),\n",
                            "  'author': 'Amarachi Orie, CNN',\n",
                            "  'date_published': datetime.datetime(2022, 1, 13, 8, 47, 4),\n",
                            "  'section': 'health',\n",
                            "  'url': 'https://www.cnn.com/2022/01/13/health/chidiebere-ibe-medical-illustrations-published-nigeria-spc-intl/index.html',\n",
                            "  'headline': 'The creator of the viral Black fetus image will have his illustrations published in a book - CNN',\n",
                            "  'source': 'health',\n",
                            "  'keywords': ['health',\n",
                            "   'creator',\n",
                            "   'viral',\n",
                            "   'black',\n",
                            "   'fetus',\n",
                            "   'image',\n",
                            "   'illustrations',\n",
                            "   'published',\n",
                            "   'book',\n",
                            "   'cnn'],\n",
                            "  'raw_text': ' (CNN)An illustration of a Black fetus in the womb went viral last December with many people commenting on social media that it was the first time they had seen a depiction of a dark-skinned fetus or pregnant woman.The attention came as a surprise to Chidiebere Ibe, the Nigerian first-year medical student who created the image, and describes it as \"just one of my drawings to advocate for diversity in medical illustrations.\" The image started a discussion about a lack of representation in these illustrations -- images that are mostly found in textbooks and scientific journals to show medical pathologies and procedures.JUST WATCHEDArtist behind viral image of Black fetus speaks outReplayMore Videos ...MUST WATCHArtist behind viral image of Black fetus speaks out 02:24Ibe, 25, who is creative director at the Association of Future African Neurosurgeons, has now been invited to have some of his illustrations published in the second edition of a handbook designed to show how a range of conditions appear on dark skin.\"Mind the Gap: A clinical handbook of signs and symptoms in Black and Brown Skin,\" was first published in 2020. Co-author Malone Mukwende, a medical student in London, wrote over email that \"Chidiebere\\'s work ... unearths some of the biases that exist in medicine in plain sight that we may not be aware of. Representation in healthcare is imperative to ensure that we do not allow implicit biases to cultivate in our heads.\"Read MoreIbe, who earned a chemistry degree in Nigeria and is now studying medicine in Ukraine, only began his medical illustrations in 2020. He has already created images depicting anatomy and a range of conditions, such as the skin disorder vitiligo, cold sores, a chest infection and spinal injuries, all in Black people. Medical student and illustrator Chidiebere Ibe.Ibe says that a lack of illustrations of skin conditions in Black skin makes it hard for medical students to diagnose them. Mukwende hopes that together they can create \"the blueprint for the world\" in terms of what diverse medical textbooks should look like and that \"Mind the Gap\" will be known as \"the go-to textbook for representation of a variety of skin tones.\" A \"big gap\" in representationDr. Jenna Lester, an assistant professor in the department of Dermatology at the University of California, San Francisco, describes Ibe\\'s illustrations as \"incredible.\"Lester is director of the university\\'s Skin of Color program, which provides a space for Black, Asian, Latinx and indigenous people to understand conditions that affect them and become more comfortable seeking care. She says she realized that there was a \"big gap\" in representation in dermatology back when she was a student, and a lecturer told the class a certain condition would look different in dark skin, but not how the condition would appear. Lester says that she is \"grateful\" that now \"people are actually responding and recognizing it as a big problem and making changes to address it.\" Chidiebere Ibe started creating medical illustrations  in 2020, and depicts a range of conditions and anatomy, all in Black people.\"I think it\\'s important to increase representation across the board because ... who knows what young mind this inspires when they see themselves represented in this way, who might be inspired to go into science or become a physician or nurse or something like that, by seeing themselves depicted in these illustrations?\" she adds.Studies have shown this lack of diversity. A 2014 study by researchers at the University of Wollongong in Australia examined gender bias in anatomy textbooks and found that of more than 6,000 images with an identifiable sex published between 2008 and 2013 in 17 textbooks, the vast majority were White and just over a third were female. About 3% showed disabled bodies and 2% featured elderly people.Covid-19 has exposed healthcare disparities In some Western countries, people of color have been disproportionately affected by the Covid pandemic. Research by the CDC found that racial and ethnic minority groups have had higher rates of hospitalization and emergency care for Covid-19 than White people in the US. Lester says that \"Covid-19 has highlighted a lot of issues of disparities, and that has led us to think about disparities and all the ways that they show up, including in dermatology.\"The vast majority of images in anatomy textbooks are of White people. Ibe is working on a textbook on birth defects in children, which he says will be illustrated with Black skin images.Lester co-authored a research letter published in the British Journal of Dermatology in May 2020 which found that scientific articles describing the skin manifestations of Covid-19 \"almost exclusively show(ed) clinical images from patients with lighter skin,\" with no published photos of the manifestations in dark skin. It noted that this may make it more difficult for dermatologists and the public to identify the virus.This is compounded by the issue of some medical equipment not working as effectively on people with darker skin tones. Pulse oximeters, which measure a patient\\'s oxygen level by using light and a sensor to detect the color of the blood, and which have been increasingly used during the pandemic, have been found to provide less accurate readings on darker skin. If they are not calibrated for darker skin tones, the pigmentation could affect how the light is absorbed.\"It\\'s not just about the skin conditions,\" says Ibe. \"It\\'s just about giving everybody the value that they deserve. Black, White, Asian -- let\\'s all have equal healthcare that we deserve.\"A network of African medical illustratorsDespite making up an eighth of the world\\'s population, Africa accounted for less than 1% of global research output between 2012 and 2016. Even in Nigeria, White skin images dominate the medical literature, says Ibe. His goal is to help remedy that by setting up a network of African medical illustrators.Ibe plans to become a pediatric neurosurgeon and is also working on a textbook on birth defects in children, which will be illustrated with Black skin images.\"I want it to be a norm that whenever a person searches online for a particular skin condition, a particular health challenge, that the first pop-ups are Black illustrations or are illustrations of people of color,\" he says.',\n",
                            "  'hash': -1067563832048055729,\n",
                            "  'events': [{'type': 'insertion',\n",
                            "    'date': datetime.datetime(2022, 10, 5, 14, 22, 6, 824000),\n",
                            "    'author': 'paul_dechorgnat',\n",
                            "    'mode': 'single'}]},\n",
                            " {'_id': ObjectId('633d930eb9daeb8a90169f42'),\n",
                            "  'author': 'Lameck Masina for CNN',\n",
                            "  'date_published': datetime.datetime(2018, 9, 26, 8, 59, 12),\n",
                            "  'section': 'health',\n",
                            "  'url': 'https://www.cnn.com/2018/09/26/health/malawi-abortion-law-as-equals-africa-intl/index.html',\n",
                            "  'headline': \"Women are dying from backstreet abortions. But reforms to Malawi's 157-year-old laws are stuck - CNN\",\n",
                            "  'source': 'health',\n",
                            "  'keywords': ['health',\n",
                            "   'women',\n",
                            "   'dying',\n",
                            "   'backstreet',\n",
                            "   'abortions.',\n",
                            "   'reforms',\n",
                            "   'malawi',\n",
                            "   '157-year-old',\n",
                            "   'laws',\n",
                            "   'stuck',\n",
                            "   'cnn'],\n",
                            "  'raw_text': 'CNN is committed to covering gender inequality wherever it occurs in the world. This story is part of As Equals, a year-long series. Blantyre, Malawi — David Minyatso holds the voter registration card of his late wife, Selina.The last time he saw her, she had just found out she was pregnant with their fourth child.\"She told me she was feeling symptoms of pregnancy. She left for her home village two days later to visit her parents,\" 36-year-old Minyatso said, standing in the doorway of their thatched-roof home in Kaseleka village, his daughters playing in the dirt yard outside.\"I was later told that she went to a traditional healer to seek abortion-induced drugs which killed her.\"         Selina Black is among hundreds of women who die every year in Malawi as a result of the government\\'s restrictive abortion law, which only permits the procedure in cases where the woman\\'s life is at risk. Obtaining an abortion for any other reason is punishable by seven to 14 years in prison; while people supplying drugs or instruments to procure abortion can face three years in jail.Read MoreIn Malawi, home to one of the highest maternal mortality rates in the world, unsafe abortion is estimated to account for 6%-18% of all maternal deaths, according to research conducted by Guttmacher Institute, a US-based reproductive rights think tank, and the Centre for Reproductive Health at the University of Malawi College of Medicine.  Entrance to maternity ward at Queen Elizabeth Central Hospital in Blantyre.But a draft \"Termination of Pregnancy\" bill is seeking to loosen the country\\'s 157-year-old law. If approved, the bill would allow an abortion when the pregnancy threatens the physical or mental health of the woman, fetal abnormalities affect the life of the baby, or in cases of rape, incest and defilement.The bill, which is currently being scrutinized by Cabinet ministers before it moves to Parliament for debate, has faced strong resistance from influential religious bodies in the country. About 81% of Malawi\\'s population is Christian, according to a 2014 national survey.In the three years that have passed since the draft bill was first introduced thousands more women have resorted to risky clandestine abortions -- 141,000 in 2015 alone, according to the Guttmacher report.Minyatso says he was devastated when he heard that Selina was dead. The couple were still contemplating whether they would keep the baby, and he believes Selina\\'s decision to go ahead with the abortion was influenced by other family members. Minyatso with his children at their home in Kaseleka.\"I don\\'t have any plan to marry again,\" Minyatso, who struggles to work as a farmer and tend to his young family, said. \"I will never find a woman who will take care of the children as Selina did.\"Chrispine Sibande, a human rights lawyer and former coordinator for the Coalition for Prevention of Unsafe Abortion (an abortion rights body comprising 45 health rights organizations lobbying for liberalized laws), says the draft abortion bill would allow women like Selina Black to access legal abortion safely.\"The 1861 law, under section 243 of the penal code, says abortion can only be performed by a skilled person through operation. Now you and me would ask \\'who is this skilled person\\'? So the new law clarifies that,\" he said, underlining that while the current law allows abortion to save the life of the mother, the language is unclear.In the absence of legal routes, many women seeking abortion in Malawi, like Selina Black, turn to traditional healers.A traditional healer shows some of the abortion-inducing concoctions.A healer, who asked not to be identified for fear of being arrested, said he has been providing abortion services to women since he started his trade a decade ago.\"I assist these women because they are currently desperate,\" he said, adding that doing so is against the constitution of the International Traditional Medicine Council of Malawi, a group of accredited traditional healers of which he is member.He gives the women a concoction of what he calls \"abortion-inducing\" herbs.\"But still I advise my clients to immediately seek medical help if they notice any serious complications,\" he explains.           Chisale Mhango an obstetrician at Malawi\\'s largest referral health facility, Queen Elizabeth Central Hospital, says he receives between 20 and 30 patients with post-abortion complications every day.\"The complications include injury to reproductive health organs because some of them use sticks to poke [the fetus] so that they can cause an abortion. And through that, they get infection which is a serious problem that would lead to things like surgery that may require removing the womb. And there is hemorrhage,\" he said.Mhango says the post abortion care is also costly for the national health system. \"In 2015, the studies suggested that we were spending more than $2 million just to manage complications of unsafe abortion and yet the Ministry of Health budget is not increasing,\" he said. One recent report estimated that the Malawi government spends closer to $1 million annually on post-abortion care. Gynecologist Dr. Mhango in his office at Queen Elizabeth Central Hospital in Blantyre.Margret Kawala, the head of Kawala village, about an hour drive from the capital Lilongwe, says she lost her uterus after taking a concoction given to her by a traditional healer for an abortion.\"I was rushed to the hospital,\" Kawala, a 46-year-old single mother of of three, said. \"There, the doctors said I was losing a lot of blood because my uterus had burst and they had to remove it.\"A year after she lost her uterus, her husband left her.\"He said he wanted a wife who could give him another child. He left for good, and now, he has married another woman,\" Kawala said.Margret Kawala preparing porridge at her home.Though she struggles to feed her three children, and wishes she had the help of a partner, Kawala says she still feels lucky. Many other women in her area have died as a result of unsafe abortions.\"I have nothing to hide. That\\'s why I speak openly about my situation. I want government authorities to know the gravity of harm that restrictive abortion laws have caused to women,\" Kawala said.Still, parliamentarians are noncommittal about their position on the draft bill, and refer to their religion when discussing its merits.Aisha Mambo of Mangochi-Nkungulu Constituency said she wouldn\\'t comment until she had scrutinized the final bill: \"And I will base my position on what my religion says about abortion because I can\\'t act against the teachings of my religion.\"       Back in Malawi\\'s largest referral health facility, Mhango says the issue has nothing to do with religion.\"The debate is not about whether abortion is good or not,\" Mhango said, adding that the law needs to change if it can\\'t be properly enforced. \"The debate is women are dying in increasing numbers in spite of the fact that there is a law in this country specifically to prevent women dying from unsafe abortion when their lives are in danger.\"\\n The As Equals reporting project is funded by the European Journalism Centre via its Innovation in Development Reporting Grant Programme. Click here for more stories like this.',\n",
                            "  'hash': 3502557859982999945,\n",
                            "  'events': [{'type': 'insertion',\n",
                            "    'date': datetime.datetime(2022, 10, 5, 14, 22, 6, 835000),\n",
                            "    'author': 'paul_dechorgnat',\n",
                            "    'mode': 'single'}]},\n",
                            " {'_id': ObjectId('633d930eb9daeb8a90169f43'),\n",
                            "  'author': 'Nima Elbagir, Lillian Leposo, and Eliza Mackintosh\\nVideo by Alex Platt and Fabien Muhire\\nGraphics by Kara Fox and Henrik Pettersson',\n",
                            "  'date_published': datetime.datetime(2018, 5, 24, 9, 54, 10),\n",
                            "  'section': 'health',\n",
                            "  'url': 'https://www.cnn.com/2018/05/24/health/trump-mexico-city-policy-abortion-ban-kenya-asequals-intl/index.html',\n",
                            "  'headline': \"Trump's ban on global abortion funding has led to more abortions - CNN\",\n",
                            "  'source': 'health',\n",
                            "  'keywords': ['health',\n",
                            "   'trump',\n",
                            "   'ban',\n",
                            "   'global',\n",
                            "   'abortion',\n",
                            "   'funding',\n",
                            "   'led',\n",
                            "   'abortions',\n",
                            "   'cnn'],\n",
                            "  'raw_text': 'CNN is committed to covering gender inequality wherever it occurs in the world. This story is part of As Equals, a year-long series.  Nairobi, Kenya — Health worker Elizabeth Wanjiru was walking through the narrow streets of Kenya\\'s largest slum earlier this year when she came across two schoolboys pointing at something in a muddy ditch. As she drew closer she saw it was the remains of an aborted fetus. Dumped elsewhere in Kibera, the fetus had washed up in a narrow alleyway after a night of rainfall. It\\'s something Wanjiru hasn\\'t seen for years.        Wanjiru and other health workers in Kenya told CNN that the number of backstreet abortions have increased since the United States cut aid to family planning programs that provide abortion services, in addition to contraception, in the world\\'s least developed countries. Ushered in by President Donald Trump\\'s administration, the Mexico City policy, or global gag rule, was supposed to reduce the number of abortions, but healthcare workers in Kenya say it\\'s doing the opposite. The cuts, which left thousands of women in Kenya without contraception, have forced many to resort to risky, backstreet abortions as a form of birth control.Trump is also eyeing funding changes in the US. Last week, his administration proposed a new rule that would bar abortions or advice on abortion at facilities receiving federal family planning funds. While there are already laws in place that prevent federal money from directly funding abortions, the new rule would mean family planning programs would have to perform abortion services or provide abortion counseling and referrals in a different place, and by different employees, for the facility to continue receiving federal family planning dollars. It\\'s been described as a domestic version of the global gag policy by abortion rights activists.Read MoreKhadijah Dija lost access to free injectable contraceptives after Trump\\'s Mexico City policy went into effect.Reliant on international donors for support, communities like Kibera are where the Mexico City policy has been felt the most and, so far, the national government says it has been unable to make up the shortfall.For five years Khadijah Dija visited a family health clinic in the slum every three months to get a free contraceptive injection until Trump\\'s funding cuts came into effect.The single mother-of-two says she relied on the family-planning method to avoid having another child she couldn\\'t afford. Her daily earnings from selling porridge, equivalent to 50 cents, are barely enough to buy food for her family, or pay rent on their one-room house.When the nongovernmental organization Family Health Options Kenya (FHOK) informed Dija last August that it no longer had funds to provide her with free contraception she said she was devastated.The three-month injectable contraceptives she had previously received for free would now cost her $4, according to FHOK.Sitting on the bottom bunk of her children\\'s bed, their toys scattered around her, Dija told CNN that she had considered getting injections from a local pharmacy, where they sell for about $2 to $3. But she said they\\'re often expired, or unsafe, and she couldn\\'t afford them anyway.     Injectables are the most commonly used form of contraception for women in Africa. Invisible to partners, they reduce the risk of backlash and are easy to use.Africa already has the lowest percentage of women using birth control, and the highest unmet demand for contraceptives in the world. Read more: US foreign aid cuts could be a \\'death text\\' to women in MalawiAnd because many African countries rely on US Agency for International Development (USAID) money to fill gaps in women\\'s health services, the Trump funding cuts  are hitting women like Dija particularly hard.     Without access to contraception, Dija became pregnant with her third child last October. She went to a backstreet clinic in Kibera and got abortion pills illegally. To pay for the pills, which cost about $10, Dija had to dip into precious savings she had made from her work at a women\\'s group in the slum.\"I couldn\\'t give birth because my husband is not supporting or helping me, so I decided to terminate the pregnancy. I thought that was the best option,\" she said. When CNN interviewed Dija in her home, she said it had been a month since taking the abortion pills, and she was still bleeding.Asked what she will do if the bleeding doesn\\'t stop, Dija said: \"I hope it will.\"Abortion is illegal in Kenya, except for when the life or health of the mother is at risk, but it is on the rise in Kibera, where most residents live in extreme poverty -- earning less than $1 per day.Wilson Bunde stands outside the FHOK clinic in Kibera, where women once received free contraceptives.Wilson Bunde, who works with FHOK, said women like Dija, who were coming to the Kibera clinic for free contraceptives, are returning to be treated for botched abortions instead.Organizations like Bunde\\'s are supported by the International Planned Parenthood Federation (IPPF), a global provider of sexual and reproductive health services, which stands to lose up to $100 million in USAID after refusing to sign up to the terms of Trump\\'s policy. The cuts meant FHOK stopped offering subsidized contraception in Kibera, closed a clinic and cut a community outreach program.Without access to that program, Bunde estimated, 36,000 women went without family planning last year.       In February 2018, the US State Department released an initial review of Trump\\'s expanded policy, rebranded Protecting Life in Global Health Assistance (PLGHA). The State Department said it was still \"too early to assess the full range of benefits and challenges of the PLGHA policy.\" But it did include one comment of support from the United States Conference of Catholic Bishops, which praised PLGHA as \"one of the most significant policy initiatives on abortion ever taken by the United States in an area of foreign assistance.\"It\\'s not the first time that a US president has imposed changes to USAID for organizations administering family planning in the world\\'s least developed countries.First introduced by President Ronald Reagan in 1984, the global gag rule was rescinded by Democrats and then reinstated by Republicans (under George W. Bush), but never before to this extent. Women sell bananas, baby diapers, and other items on a street in Kibera, Africa\\'s biggest slum.Trump\\'s policy slashes an estimated $8.8 billion in US global health assistance -- funding that applies not only to family planning, as it has previously, but extends to prevention and treatment of HIV/AIDS, tuberculosis, malaria, infectious diseases, and even hygiene programs.In 2001, the Bush administration cut about $600 million in foreign aid. One year later, induced abortions spiked.The correlation was identified in a 2011 Stanford University study, which analyzed abortion rates in 20 sub-Saharan African countries receiving USAID for family planning and women\\'s health over 14 years. The researchers found that when the Mexico City policy was in place, women were up to 2.73 times more likely to get abortions than women in countries where the policy was not applied.     In Kibera, women are turning to untrained abortion providers as a last resort. One practitioner, who asked that CNN not use her real name due to fear of prosecution, said she often treats women who are between six and seven months pregnant.She performs the procedure with a knitting needle, puncturing the pregnant woman\\'s amniotic sac, which forces the fetus out of the uterus.Read more: In Lesotho, women say they\\'re finding their abortions on FacebookThe practitioner, who told CNN that she was a trained midwife, said she sees mostly young schoolgirls and unmarried women. She carries out the abortions in her small home. On a twin bed covered by a thin clear plastic sheet, sat a bag with surgical gloves, a jar of petroleum jelly, cotton wool, some pain killers and the needle, attached to a long, thin tube, which is used to drain the fluid into a bucket on the floor.Two men stand chatting on the balcony of a community arts center in the heart Kibera.Botched abortions cost Kenya about $6.3 million in 2016, according to a recent report published by Africa Health Population Research in partnership with Kenya\\'s Ministry Of Health. And experts say that number is expected to rise in the wake of Trump\\'s cuts.Kibera health worker Elizabeth Wanjiru, says that when she first became involved in family planning outreach programs she had hoped it would bring an end to the backstreet abortions.When she saw the fetus in the ditch in Kibera, she said: \"It touched me, and it made me remember what I did.\"Health worker Elizabeth Wanjiru told CNN that women in Kibera are \"crying,\" asking her for free family planning.Wanjiru once had a backstreet abortion herself, and she doesn\\'t want women to have to go through what she experienced.But she says that it\\'s become much more difficult to stop women from turning to backstreet abortions, now that contraceptives are unaffordable for most. \"This is why you will find babies aborted, due to lack of access to family planning.\"— Florence Obondo contributed to this report from Nairobi.\\n\\n The As Equals reporting project is funded by the European Journalism Centre via its Innovation in Development Reporting Grant Programme. Click here for more stories like this.  ',\n",
                            "  'hash': 4057896676833006565,\n",
                            "  'events': [{'type': 'insertion',\n",
                            "    'date': datetime.datetime(2022, 10, 5, 14, 22, 6, 836000),\n",
                            "    'author': 'paul_dechorgnat',\n",
                            "    'mode': 'single'}]},\n",
                            " {'_id': ObjectId('633d930eb9daeb8a90169f44'),\n",
                            "  'author': 'Alexandra Field and Kathy Quiano, CNN',\n",
                            "  'date_published': datetime.datetime(2018, 3, 6, 2, 35, 39),\n",
                            "  'section': 'health',\n",
                            "  'url': 'https://www.cnn.com/2018/03/05/health/philippines-teen-pregnancy-asequals/index.html',\n",
                            "  'headline': '16 and trying not to get pregnant - CNN',\n",
                            "  'source': 'health',\n",
                            "  'keywords': ['health', '16', 'trying', 'get', 'pregnant', 'cnn'],\n",
                            "  'raw_text': '\\nEditor\\'s Note: CNN is committed to covering gender inequality wherever it occurs in the world. This story is part of As Equals, a year-long series.Manila, Philippines — Breastfeeding her three-month-old daughter, Hazel Encarnacion, 16, walks through the narrow alleyways of Tondo, one of Manila\\'s poorest and most crowded neighborhoods.The fiercely proud new mother says she wants to wait five years before having another baby.That\\'s easier said than done in the Philippines, a deeply devout country where abortion is illegal, and a lack of knowledge about modern family planning methods means that birth control isn\\'t widely used. Historically, teen pregnancy rates have held steady in the Philippines while declining elsewhere in Asia, according to the United Nations Population Fund.       But newly released official figures point to a slight change in this trend. According to the Philippines\\' National Demographic and Health Survey for 2017, 9% of Filipino women age 15-19 had begun childbearing, down from 10% in 2013.Read MoreThose numbers are still high, considering the global teen pregnancy rate was 4.7% in 2015, according to the World Health Organization.Encarnacion is a beneficiary of new legislation and efforts by NGOs that seek to make contraception more widely available in the Philippines.She points to the spot on her left arm where a contraceptive implant has been inserted under her skin free of charge by the NGO, Likhaan.\"I want to be able to take good care of my children,\" Hazel Encarnacion, 16, says. It could help her delay pregnancy for up to three years, allowing Encarnacion and her husband, who earns fewer than $5 a day working as a delivery man at a market, to conceive a second child when the couple feel they can afford it.  \"It was my decision so we could control it. I just want two children,\" she says.Before she became pregnant with her daughter, Encarnacion says she thought birth control could only be used by women who already had children.According to the 2017 national survey, 28% of young married women in the Philippines said they aren\\'t getting the birth control they need. For unmarried sexually active women, almost half say they don\\'t have access to contraception.  \\'What adolescents ask their parents?\\'In neighborhoods like Tondo, it\\'s not unusual to find women who have had more than 10 children.In the absence of accessible contraception, many women here have had to resort to abortion as a means of birth control. Illegal abortion is performed in a climate of fear and shame resulting from strict legal and religious prohibitions, according to the UN. The Philippines is deeply religious, with Roman Catholics accounting for 80% of its population.       But in 2012, after a 14-year battle with the Catholic Church and anti-abortion groups, the Philippines passed a reproductive health law that mandated universal access to birth control and more reproductive health education, with a goal of reducing the country\\'s birth rate.  Legal challenges slowed the law\\'s full implementation until late in 2017, when the country\\'s Food and Drug Administration lifted a temporary Supreme Court court order banning 51 types of contraceptives by ruling that they did not induce abortion.Philippines President Rodrigo Duterte has also pushed for more birth control to be made available for the poor, and last year signed an executive order calling for extra funds and support. One month later, in a public address, he suggested that women should use pills and injections instead of condoms, because: \"they are not pleasurable.\" Though his press secretary defended his remarks, Duterte\\'s critics say his \"jokes\" promote violence and discrimination against women.A woman stands in an alley in Tondo, a child clutching her leg. But because of Duterte\\'s recent efforts, contraceptive implants like the one given free of charge to Encarnacion, will be more accessible to women. The implementation of his executive order is seen as key to helping the country reach a goal of reducing poverty by 13% by 2022.Healthcare worker Magdalena Bacalando, who distributes birth control and information about reproductive health on the streets of Tondo, says the new law still doesn\\'t fully allow health care workers to reach some of the women in greatest need: teens. By law, parental consent is needed for adolescents who want to use birth control, she says.Most of the girls in the community where Bacalando works get pregnant at 15 or 16 years old — in the Philippines the age of sexual consent is just 12.       \"They\\'re already sexually active,\" says Bacalando, who works for Likhaan.\"They\\'re not asking their parents. What adolescents ask their parents?\"\\'I feared God but I had no other choice\\'But older women say the situation in the Philippines is much better today than in the past.The birth rate is beginning to decline, with the average fertility rate for women there standing at 2.7 children in 2017, down from three children in 2013, according to official figures. The 2017 data also suggests that the number of teen pregnancies is falling, with 3.7% of 16-year-olds starting families compared with 5% in 2013.A young girl looks on a bustling street in Manila\\'s Tondo neighborhood.A 52-year-old mother of 11 children, who asked that CNN not use her name, says she ended three pregnancies with low cost and risky procedures. In one case, she paid 1,200 pesos ($23) for a procedure that involved a rubber catheter that damaged her uterus causing her to bleed profusely.When she arrived at a hospital, unable to control the bleeding, she says she was threatened with the possibility of prosecution for the crime of ending her pregnancy. Under the Philippine Penal Code, a woman performing an abortion on herself, or anyone who intentionally causes an abortion with consent of the pregnant woman, is subject to six months to six years in prison.\"I was scared. I feared God but I had no other choice because life was so hard. My husband didn\\'t have a regular job,\" she says.To end another pregnancy, she says she took black market abortion pills and visited a local healer who performed a $3 \"massage.\"       \"She just kept pushing hard on my belly. Whenever the baby moved, she just pushed it down harder, so that, so it could be like, crushed. It was quite painful but I had to bear it.\"The woman said she hopes greater access to contraception will spare her nine daughters the painful choices she said she had to make.\"I\\'m in favor of family planning. My friends, cousins, all of them, even my daughters-in-law, they use contraceptives because they don\\'t want to get pregnant again.\"— CNN\\'s Katie Hunt contributed to this report from Hong Kong.  \\n\\n The As Equals reporting project is funded by the European Journalism Centre via its Innovation in Development Reporting Grant Programme. Click here for more stories like this.  ',\n",
                            "  'hash': -4864203320924973599,\n",
                            "  'events': [{'type': 'insertion',\n",
                            "    'date': datetime.datetime(2022, 10, 5, 14, 22, 6, 837000),\n",
                            "    'author': 'paul_dechorgnat',\n",
                            "    'mode': 'single'}]}]"
                        ]
                    },
                    "execution_count": 174,
                    "metadata": {},
                    "output_type": "execute_result"
                }
            ],
            "source": [
                "list(db[\"health\"].find())"
            ]
        },
        {
            "cell_type": "code",
            "execution_count": 179,
            "id": "560b4bbf-51fd-4ebd-bb3e-d8e2a7d41f2d",
            "metadata": {},
            "outputs": [
                {
                    "data": {
                        "text/plain": [
                            "{'_id': ObjectId('633d949db9daeb8a90169f62'),\n",
                            " 'author': 'Paul',\n",
                            " 'date_published': datetime.datetime(2021, 12, 1, 14, 32, 33),\n",
                            " 'section': 'golf',\n",
                            " 'url': 'https://www.cnn.com/2021/12/01/golf/tiger-woods-end-of-era-meanwhile-spt-intl/index.html',\n",
                            " 'headline': 'Tiger Woods: Is this the end of his era? - CNN',\n",
                            " 'source': 'sport',\n",
                            " 'keywords': ['golf', 'tiger', 'woods', 'end', 'era', 'cnn'],\n",
                            " 'raw_text': '...',\n",
                            " 'hash': -4639798477996452071,\n",
                            " 'events': [{'type': 'insertion',\n",
                            "   'date': datetime.datetime(2022, 10, 5, 14, 28, 45, 789000),\n",
                            "   'author': 'paul_dechorgnat',\n",
                            "   'mode': 'single'},\n",
                            "  {'type': 'modification',\n",
                            "   'author': 'paul_dechorgnat',\n",
                            "   'date': datetime.datetime(2022, 10, 5, 14, 38, 35, 9000)}]}"
                        ]
                    },
                    "execution_count": 179,
                    "metadata": {},
                    "output_type": "execute_result"
                }
            ],
            "source": [
                "db[\"sport\"].find_one()"
            ]
        },
        {
            "cell_type": "code",
            "execution_count": 183,
            "id": "a6e00fb2-2ee3-442b-afc4-2fa71242efee",
            "metadata": {},
            "outputs": [
                {
                    "data": {
                        "text/plain": [
                            "[{'_id': ObjectId('633d949db9daeb8a90169f62'), 'author': 'Paul'},\n",
                            " {'_id': ObjectId('633d949db9daeb8a90169f63'), 'author': 'Ben Morse, CNN'},\n",
                            " {'_id': ObjectId('633d949db9daeb8a90169f64'), 'author': 'CNN Sport staff'},\n",
                            " {'_id': ObjectId('633d949db9daeb8a90169f65'), 'author': 'Issy Ronald, CNN'},\n",
                            " {'_id': ObjectId('633d949db9daeb8a90169f66'), 'author': 'Don Riddell, CNN'},\n",
                            " {'_id': ObjectId('633d949db9daeb8a90169f67'), 'author': 'Matias Grez, CNN'},\n",
                            " {'_id': ObjectId('633d949db9daeb8a90169f68'), 'author': 'David Close, CNN'},\n",
                            " {'_id': ObjectId('633d949db9daeb8a90169f69'), 'author': 'Ben Morse, CNN'},\n",
                            " {'_id': ObjectId('633d949db9daeb8a90169f6a'),\n",
                            "  'author': 'Issy Ronald and Jack Bantock, CNN'},\n",
                            " {'_id': ObjectId('633d949db9daeb8a90169f6b'), 'author': 'Amy Woodyatt, CNN'},\n",
                            " {'_id': ObjectId('633da17d574000e80355f150'), 'author': 'Paul'},\n",
                            " {'_id': ObjectId('633da22177117b441abc5fce'), 'author': 'Paul'},\n",
                            " {'_id': ObjectId('633da24977117b441abc5fcf'), 'author': 'Paul'},\n",
                            " {'_id': ObjectId('633da2d69be2202f13ff4418'), 'author': 'Paul'},\n",
                            " {'_id': ObjectId('633da33a0837660bfbba425e'), 'author': 'Paul'}]"
                        ]
                    },
                    "execution_count": 183,
                    "metadata": {},
                    "output_type": "execute_result"
                }
            ],
            "source": [
                "list(db[\"sport\"].find({}, projection={\"author\": 1}))"
            ]
        },
        {
            "cell_type": "code",
            "execution_count": null,
            "id": "02866b95-fa66-483f-a6fd-bc62f18effe3",
            "metadata": {},
            "outputs": [],
            "source": []
        }
    ],
    "metadata": {
        "kernelspec": {
            "display_name": "Python 3 (ipykernel)",
            "language": "python",
            "name": "python3"
        },
        "language_info": {
            "codemirror_mode": {
                "name": "ipython",
                "version": 3
            },
            "file_extension": ".py",
            "mimetype": "text/x-python",
            "name": "python",
            "nbconvert_exporter": "python",
            "pygments_lexer": "ipython3",
            "version": "3.8.10"
        }
    },
    "nbformat": 4,
    "nbformat_minor": 5
}
